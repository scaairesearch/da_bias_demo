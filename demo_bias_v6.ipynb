{
  "cells": [
    {
      "cell_type": "markdown",
      "metadata": {
        "id": "view-in-github",
        "colab_type": "text"
      },
      "source": [
        "<a href=\"https://colab.research.google.com/github/scaairesearch/da_bias_demo/blob/main/demo_bias_v6.ipynb\" target=\"_parent\"><img src=\"https://colab.research.google.com/assets/colab-badge.svg\" alt=\"Open In Colab\"/></a>"
      ]
    },
    {
      "cell_type": "markdown",
      "metadata": {
        "id": "pVfwcnw_NdZ2"
      },
      "source": [
        "\n",
        "# Demo app to mitigate bias\n",
        "\n"
      ]
    },
    {
      "cell_type": "markdown",
      "source": [
        "** Updated to create more conditions**"
      ],
      "metadata": {
        "id": "WXQDFsUr9iSJ"
      }
    },
    {
      "cell_type": "markdown",
      "metadata": {
        "id": "YX4Z0NIRgmZr"
      },
      "source": [
        "1.   Find the list of image names - folder structure for a specific condition : Done for some conditions - done\n",
        "2.   Find conditions - pickle the dataframe / list of images\n",
        "3.   Create a generic data loader to give images for specific condition (works on based on list of image, image path provided) - use class DatasetEXPWIMAGECROPRACE(Dataset): done\n",
        "4.   Download model - all 3 - done\n",
        "5.   Run inference on the images based on dataloader - done\n",
        "6.   Develop gradio app - done\n",
        "7.   deploy gradio app\n",
        "8.   Running from a saved location\n",
        "9.   For all conditions, get the file names, and save them in a folder\n",
        "10.  Save each conditional dataframes\n",
        "11.  read data from dataframes, create dataloader using folder\n"
      ]
    },
    {
      "cell_type": "markdown",
      "metadata": {
        "id": "8vCyPREhepcn"
      },
      "source": [
        "### Installing and importing Libraries"
      ]
    },
    {
      "cell_type": "code",
      "execution_count": 1,
      "metadata": {
        "id": "p-Hjcl-Bq9QZ",
        "colab": {
          "base_uri": "https://localhost:8080/"
        },
        "outputId": "b5bee74f-1cf1-47dc-ef9f-315062916b0a"
      },
      "outputs": [
        {
          "output_type": "stream",
          "name": "stdout",
          "text": [
            "  Preparing metadata (setup.py) ... \u001b[?25l\u001b[?25hdone\n",
            "\u001b[2K     \u001b[90m━━━━━━━━━━━━━━━━━━━━━━━━━━━━━━━━━━━━━━━━\u001b[0m \u001b[32m50.4/50.4 kB\u001b[0m \u001b[31m1.9 MB/s\u001b[0m eta \u001b[36m0:00:00\u001b[0m\n",
            "\u001b[2K   \u001b[90m━━━━━━━━━━━━━━━━━━━━━━━━━━━━━━━━━━━━━━━━\u001b[0m \u001b[32m1.9/1.9 MB\u001b[0m \u001b[31m26.5 MB/s\u001b[0m eta \u001b[36m0:00:00\u001b[0m\n",
            "\u001b[2K   \u001b[90m━━━━━━━━━━━━━━━━━━━━━━━━━━━━━━━━━━━━━━━━\u001b[0m \u001b[32m12.4/12.4 MB\u001b[0m \u001b[31m55.2 MB/s\u001b[0m eta \u001b[36m0:00:00\u001b[0m\n",
            "\u001b[2K   \u001b[90m━━━━━━━━━━━━━━━━━━━━━━━━━━━━━━━━━━━━━━━━\u001b[0m \u001b[32m318.2/318.2 kB\u001b[0m \u001b[31m16.0 MB/s\u001b[0m eta \u001b[36m0:00:00\u001b[0m\n",
            "\u001b[2K   \u001b[90m━━━━━━━━━━━━━━━━━━━━━━━━━━━━━━━━━━━━━━━━\u001b[0m \u001b[32m4.5/4.5 MB\u001b[0m \u001b[31m51.4 MB/s\u001b[0m eta \u001b[36m0:00:00\u001b[0m\n",
            "\u001b[2K   \u001b[90m━━━━━━━━━━━━━━━━━━━━━━━━━━━━━━━━━━━━━━━━\u001b[0m \u001b[32m75.6/75.6 kB\u001b[0m \u001b[31m3.9 MB/s\u001b[0m eta \u001b[36m0:00:00\u001b[0m\n",
            "\u001b[2K   \u001b[90m━━━━━━━━━━━━━━━━━━━━━━━━━━━━━━━━━━━━━━━━\u001b[0m \u001b[32m77.9/77.9 kB\u001b[0m \u001b[31m4.7 MB/s\u001b[0m eta \u001b[36m0:00:00\u001b[0m\n",
            "\u001b[2K   \u001b[90m━━━━━━━━━━━━━━━━━━━━━━━━━━━━━━━━━━━━━━━━\u001b[0m \u001b[32m141.1/141.1 kB\u001b[0m \u001b[31m8.7 MB/s\u001b[0m eta \u001b[36m0:00:00\u001b[0m\n",
            "\u001b[2K   \u001b[90m━━━━━━━━━━━━━━━━━━━━━━━━━━━━━━━━━━━━━━━━\u001b[0m \u001b[32m10.1/10.1 MB\u001b[0m \u001b[31m30.8 MB/s\u001b[0m eta \u001b[36m0:00:00\u001b[0m\n",
            "\u001b[2K   \u001b[90m━━━━━━━━━━━━━━━━━━━━━━━━━━━━━━━━━━━━━━━━\u001b[0m \u001b[32m755.5/755.5 MB\u001b[0m \u001b[31m2.6 MB/s\u001b[0m eta \u001b[36m0:00:00\u001b[0m\n",
            "\u001b[2K   \u001b[90m━━━━━━━━━━━━━━━━━━━━━━━━━━━━━━━━━━━━━━━━\u001b[0m \u001b[32m166.0/166.0 MB\u001b[0m \u001b[31m9.8 MB/s\u001b[0m eta \u001b[36m0:00:00\u001b[0m\n",
            "\u001b[2K   \u001b[90m━━━━━━━━━━━━━━━━━━━━━━━━━━━━━━━━━━━━━━━━\u001b[0m \u001b[32m167.9/167.9 MB\u001b[0m \u001b[31m6.4 MB/s\u001b[0m eta \u001b[36m0:00:00\u001b[0m\n",
            "\u001b[2K   \u001b[90m━━━━━━━━━━━━━━━━━━━━━━━━━━━━━━━━━━━━━━━━\u001b[0m \u001b[32m6.9/6.9 MB\u001b[0m \u001b[31m91.0 MB/s\u001b[0m eta \u001b[36m0:00:00\u001b[0m\n",
            "\u001b[2K   \u001b[90m━━━━━━━━━━━━━━━━━━━━━━━━━━━━━━━━━━━━━━━━\u001b[0m \u001b[32m62.8/62.8 kB\u001b[0m \u001b[31m4.0 MB/s\u001b[0m eta \u001b[36m0:00:00\u001b[0m\n",
            "\u001b[2K   \u001b[90m━━━━━━━━━━━━━━━━━━━━━━━━━━━━━━━━━━━━━━━━\u001b[0m \u001b[32m92.2/92.2 kB\u001b[0m \u001b[31m5.9 MB/s\u001b[0m eta \u001b[36m0:00:00\u001b[0m\n",
            "\u001b[2K   \u001b[90m━━━━━━━━━━━━━━━━━━━━━━━━━━━━━━━━━━━━━━━━\u001b[0m \u001b[32m58.3/58.3 kB\u001b[0m \u001b[31m3.3 MB/s\u001b[0m eta \u001b[36m0:00:00\u001b[0m\n",
            "\u001b[2K   \u001b[90m━━━━━━━━━━━━━━━━━━━━━━━━━━━━━━━━━━━━━━━━\u001b[0m \u001b[32m71.9/71.9 kB\u001b[0m \u001b[31m5.0 MB/s\u001b[0m eta \u001b[36m0:00:00\u001b[0m\n",
            "\u001b[2K   \u001b[90m━━━━━━━━━━━━━━━━━━━━━━━━━━━━━━━━━━━━━━━━\u001b[0m \u001b[32m129.9/129.9 kB\u001b[0m \u001b[31m9.1 MB/s\u001b[0m eta \u001b[36m0:00:00\u001b[0m\n",
            "\u001b[2K   \u001b[90m━━━━━━━━━━━━━━━━━━━━━━━━━━━━━━━━━━━━━━━━\u001b[0m \u001b[32m307.7/307.7 kB\u001b[0m \u001b[31m18.8 MB/s\u001b[0m eta \u001b[36m0:00:00\u001b[0m\n",
            "\u001b[2K   \u001b[90m━━━━━━━━━━━━━━━━━━━━━━━━━━━━━━━━━━━━━━━━\u001b[0m \u001b[32m341.4/341.4 kB\u001b[0m \u001b[31m21.1 MB/s\u001b[0m eta \u001b[36m0:00:00\u001b[0m\n",
            "\u001b[2K   \u001b[90m━━━━━━━━━━━━━━━━━━━━━━━━━━━━━━━━━━━━━━━━\u001b[0m \u001b[32m3.4/3.4 MB\u001b[0m \u001b[31m74.2 MB/s\u001b[0m eta \u001b[36m0:00:00\u001b[0m\n",
            "\u001b[2K   \u001b[90m━━━━━━━━━━━━━━━━━━━━━━━━━━━━━━━━━━━━━━━━\u001b[0m \u001b[32m1.2/1.2 MB\u001b[0m \u001b[31m52.0 MB/s\u001b[0m eta \u001b[36m0:00:00\u001b[0m\n",
            "\u001b[2K   \u001b[90m━━━━━━━━━━━━━━━━━━━━━━━━━━━━━━━━━━━━━━━━\u001b[0m \u001b[32m21.3/21.3 MB\u001b[0m \u001b[31m74.4 MB/s\u001b[0m eta \u001b[36m0:00:00\u001b[0m\n",
            "\u001b[?25h  Building wheel for ffmpy (setup.py) ... \u001b[?25l\u001b[?25hdone\n",
            "\u001b[31mERROR: pip's dependency resolver does not currently take into account all the packages that are installed. This behaviour is the source of the following dependency conflicts.\n",
            "torchaudio 2.3.1+cu121 requires torch==2.3.1, but you have torch 2.2.2 which is incompatible.\n",
            "torchtext 0.18.0 requires torch>=2.3.0, but you have torch 2.2.2 which is incompatible.\u001b[0m\u001b[31m\n",
            "\u001b[0m"
          ]
        }
      ],
      "source": [
        "!pip install --quiet facenet-pytorch gradio pillow"
      ]
    },
    {
      "cell_type": "code",
      "source": [
        "!pip install --upgrade Pillow"
      ],
      "metadata": {
        "colab": {
          "base_uri": "https://localhost:8080/",
          "height": 339
        },
        "id": "LwI9097bG6uF",
        "outputId": "eab26737-58c5-4e6d-cba9-cbdd65eb983c"
      },
      "execution_count": 2,
      "outputs": [
        {
          "output_type": "stream",
          "name": "stdout",
          "text": [
            "Requirement already satisfied: Pillow in /usr/local/lib/python3.10/dist-packages (10.2.0)\n",
            "Collecting Pillow\n",
            "  Downloading pillow-10.4.0-cp310-cp310-manylinux_2_28_x86_64.whl.metadata (9.2 kB)\n",
            "Downloading pillow-10.4.0-cp310-cp310-manylinux_2_28_x86_64.whl (4.5 MB)\n",
            "\u001b[2K   \u001b[90m━━━━━━━━━━━━━━━━━━━━━━━━━━━━━━━━━━━━━━━━\u001b[0m \u001b[32m4.5/4.5 MB\u001b[0m \u001b[31m22.6 MB/s\u001b[0m eta \u001b[36m0:00:00\u001b[0m\n",
            "\u001b[?25hInstalling collected packages: Pillow\n",
            "  Attempting uninstall: Pillow\n",
            "    Found existing installation: pillow 10.2.0\n",
            "    Uninstalling pillow-10.2.0:\n",
            "      Successfully uninstalled pillow-10.2.0\n",
            "\u001b[31mERROR: pip's dependency resolver does not currently take into account all the packages that are installed. This behaviour is the source of the following dependency conflicts.\n",
            "facenet-pytorch 2.6.0 requires Pillow<10.3.0,>=10.2.0, but you have pillow 10.4.0 which is incompatible.\u001b[0m\u001b[31m\n",
            "\u001b[0mSuccessfully installed Pillow-10.4.0\n"
          ]
        },
        {
          "output_type": "display_data",
          "data": {
            "application/vnd.colab-display-data+json": {
              "pip_warning": {
                "packages": [
                  "PIL"
                ]
              },
              "id": "69ed29fa10c5403c93b55523d86b9159"
            }
          },
          "metadata": {}
        }
      ]
    },
    {
      "cell_type": "code",
      "execution_count": 1,
      "metadata": {
        "id": "rINq-U1XgpuK"
      },
      "outputs": [],
      "source": [
        "# install general libraries\n",
        "import os\n",
        "# import zipfile\n",
        "\n",
        "import torch.nn as nn\n",
        "import torch.optim as optim\n",
        "# from torch.optim.lr_scheduler import ReduceLROnPlateau\n",
        "\n",
        "\n",
        "import matplotlib.pyplot as plt # for plots\n",
        "\n",
        "import time\n",
        "from pathlib import Path\n",
        "\n",
        "# from copy import deepcopy\n",
        "import numpy as np\n",
        "\n",
        "from sklearn.metrics import accuracy_score, precision_score, confusion_matrix, classification_report\n",
        "import pandas as pd\n",
        "import torch\n",
        "from torch.utils.data import Dataset, DataLoader\n",
        "from pathlib import Path\n",
        "from torchvision import transforms\n",
        "import torch\n",
        "from PIL import Image\n",
        "from facenet_pytorch import MTCNN\n",
        "\n",
        "from torch.autograd import Function\n",
        "import torch.nn.functional as F\n",
        "import gradio as gr\n",
        "from collections import OrderedDict\n",
        "from copy import deepcopy\n",
        "import cv2\n"
      ]
    },
    {
      "cell_type": "code",
      "execution_count": 2,
      "metadata": {
        "colab": {
          "base_uri": "https://localhost:8080/"
        },
        "id": "D0Z7QBfe0-qq",
        "outputId": "a57ecca8-d414-481b-f922-8f575d63fdfe"
      },
      "outputs": [
        {
          "output_type": "stream",
          "name": "stdout",
          "text": [
            " Cuda Status : False\n",
            "cpu\n"
          ]
        }
      ],
      "source": [
        "# check for cuda\n",
        "cuda = torch.cuda.is_available()\n",
        "print (f' Cuda Status : {cuda}')\n",
        "\n",
        "# setting seed\n",
        "SEED = 42 # arbit seed, why 42 - because in hitch hikers guide to galaxy it is answer to everything\n",
        "# torch.cuda.seed(SEED)\n",
        "torch.cuda.manual_seed_all(SEED) if cuda else torch.manual_seed(SEED)\n",
        "\n",
        "device = torch.device(\"cuda\" if cuda else \"cpu\")\n",
        "print(device)"
      ]
    },
    {
      "cell_type": "code",
      "execution_count": 3,
      "metadata": {
        "id": "dnhAH5bN1AFS"
      },
      "outputs": [],
      "source": [
        "mtcnn = MTCNN(image_size=224, device= device) # default is 224, now no need to mention later on"
      ]
    },
    {
      "cell_type": "markdown",
      "metadata": {
        "id": "Se8BAsHwgtj1"
      },
      "source": [
        "### Loading CSV Files\n",
        "These are result files based on validation results"
      ]
    },
    {
      "cell_type": "code",
      "execution_count": 4,
      "metadata": {
        "colab": {
          "base_uri": "https://localhost:8080/"
        },
        "id": "Ua3H1n9agv8K",
        "outputId": "c0754689-5936-4599-c09d-9e913ffa057d"
      },
      "outputs": [
        {
          "output_type": "stream",
          "name": "stdout",
          "text": [
            "Mounted at /content/gdrive\n"
          ]
        }
      ],
      "source": [
        "# checking the mounted drive and mounting if not done\n",
        "if not os.path.exists('/content/gdrive'):\n",
        "  from google.colab import drive\n",
        "  drive.mount('/content/gdrive')\n",
        "else:\n",
        "    print(\"Google Drive is already mounted.\")"
      ]
    },
    {
      "cell_type": "code",
      "execution_count": 5,
      "metadata": {
        "id": "iijelMEfg1lD"
      },
      "outputs": [],
      "source": [
        "# base_dir = \"\"\n",
        "non_dann_result=pd.read_csv('/content/gdrive/MyDrive/CV_FER/results/Result dataframes/non_dann_result_23_05_wo_se_a.csv').sort_values(by=['image'])\n",
        "dann_result=pd.read_csv('/content/gdrive/MyDrive/CV_FER/results/Result dataframes/dann_result_23_05_wo_se_a.csv').sort_values(by=['image'])\n",
        "ewc_dann_result=pd.read_csv('/content/gdrive/MyDrive/CV_FER/results/Result dataframes/ewc_dann_result_23_05_wo_se_a.csv').sort_values(by=['image'])"
      ]
    },
    {
      "cell_type": "code",
      "execution_count": 6,
      "metadata": {
        "id": "exM7erm2g4NS"
      },
      "outputs": [],
      "source": [
        "# Rename the last column in each dataframe\n",
        "non_dann_result.rename(columns={'p_emotion': 'p_emotion_non_dann'}, inplace=True)\n",
        "dann_result.rename(columns={'p_emotion': 'p_emotion_dann'}, inplace=True)\n",
        "ewc_dann_result.rename(columns={'p_emotion': 'p_emotion_ewc_dann'}, inplace=True)"
      ]
    },
    {
      "cell_type": "code",
      "execution_count": 8,
      "metadata": {
        "colab": {
          "base_uri": "https://localhost:8080/",
          "height": 424
        },
        "id": "8KxOZiyBhm32",
        "outputId": "d1f7baf8-8505-4f19-ba46-d50272d24626"
      },
      "outputs": [
        {
          "output_type": "execute_result",
          "data": {
            "text/plain": [
              "      Unnamed: 0                       image gt_emotion  gt_race  \\\n",
              "167          167      afraid_African_214.jpg       Fear  African   \n",
              "2502        2502     afraid_american_238.jpg   Surprise  African   \n",
              "2069        2069        afraid_asian_103.jpg      Happy    Asian   \n",
              "1006        1006        afraid_asian_336.jpg   Surprise    Asian   \n",
              "2424        2424        afraid_asian_367.jpg   Surprise    Asian   \n",
              "...          ...                         ...        ...      ...   \n",
              "4325        4325  unhappy_expression_537.jpg      Happy    White   \n",
              "2049        2049  unhappy_expression_643.jpg    Disgust    White   \n",
              "8202        8202  unhappy_expression_730.jpg    Neutral    Asian   \n",
              "8344        8344  unhappy_expression_749.jpg    Disgust    White   \n",
              "5967        5967   unhappy_expression_93.jpg        Sad    White   \n",
              "\n",
              "     p_emotion_non_dann  \n",
              "167                Fear  \n",
              "2502               Fear  \n",
              "2069              Angry  \n",
              "1006            Neutral  \n",
              "2424            Neutral  \n",
              "...                 ...  \n",
              "4325                Sad  \n",
              "2049            Disgust  \n",
              "8202            Disgust  \n",
              "8344              Happy  \n",
              "5967           Surprise  \n",
              "\n",
              "[8458 rows x 5 columns]"
            ],
            "text/html": [
              "\n",
              "  <div id=\"df-8bf1412b-fb74-4ff2-9056-5c3e9be3840c\" class=\"colab-df-container\">\n",
              "    <div>\n",
              "<style scoped>\n",
              "    .dataframe tbody tr th:only-of-type {\n",
              "        vertical-align: middle;\n",
              "    }\n",
              "\n",
              "    .dataframe tbody tr th {\n",
              "        vertical-align: top;\n",
              "    }\n",
              "\n",
              "    .dataframe thead th {\n",
              "        text-align: right;\n",
              "    }\n",
              "</style>\n",
              "<table border=\"1\" class=\"dataframe\">\n",
              "  <thead>\n",
              "    <tr style=\"text-align: right;\">\n",
              "      <th></th>\n",
              "      <th>Unnamed: 0</th>\n",
              "      <th>image</th>\n",
              "      <th>gt_emotion</th>\n",
              "      <th>gt_race</th>\n",
              "      <th>p_emotion_non_dann</th>\n",
              "    </tr>\n",
              "  </thead>\n",
              "  <tbody>\n",
              "    <tr>\n",
              "      <th>167</th>\n",
              "      <td>167</td>\n",
              "      <td>afraid_African_214.jpg</td>\n",
              "      <td>Fear</td>\n",
              "      <td>African</td>\n",
              "      <td>Fear</td>\n",
              "    </tr>\n",
              "    <tr>\n",
              "      <th>2502</th>\n",
              "      <td>2502</td>\n",
              "      <td>afraid_american_238.jpg</td>\n",
              "      <td>Surprise</td>\n",
              "      <td>African</td>\n",
              "      <td>Fear</td>\n",
              "    </tr>\n",
              "    <tr>\n",
              "      <th>2069</th>\n",
              "      <td>2069</td>\n",
              "      <td>afraid_asian_103.jpg</td>\n",
              "      <td>Happy</td>\n",
              "      <td>Asian</td>\n",
              "      <td>Angry</td>\n",
              "    </tr>\n",
              "    <tr>\n",
              "      <th>1006</th>\n",
              "      <td>1006</td>\n",
              "      <td>afraid_asian_336.jpg</td>\n",
              "      <td>Surprise</td>\n",
              "      <td>Asian</td>\n",
              "      <td>Neutral</td>\n",
              "    </tr>\n",
              "    <tr>\n",
              "      <th>2424</th>\n",
              "      <td>2424</td>\n",
              "      <td>afraid_asian_367.jpg</td>\n",
              "      <td>Surprise</td>\n",
              "      <td>Asian</td>\n",
              "      <td>Neutral</td>\n",
              "    </tr>\n",
              "    <tr>\n",
              "      <th>...</th>\n",
              "      <td>...</td>\n",
              "      <td>...</td>\n",
              "      <td>...</td>\n",
              "      <td>...</td>\n",
              "      <td>...</td>\n",
              "    </tr>\n",
              "    <tr>\n",
              "      <th>4325</th>\n",
              "      <td>4325</td>\n",
              "      <td>unhappy_expression_537.jpg</td>\n",
              "      <td>Happy</td>\n",
              "      <td>White</td>\n",
              "      <td>Sad</td>\n",
              "    </tr>\n",
              "    <tr>\n",
              "      <th>2049</th>\n",
              "      <td>2049</td>\n",
              "      <td>unhappy_expression_643.jpg</td>\n",
              "      <td>Disgust</td>\n",
              "      <td>White</td>\n",
              "      <td>Disgust</td>\n",
              "    </tr>\n",
              "    <tr>\n",
              "      <th>8202</th>\n",
              "      <td>8202</td>\n",
              "      <td>unhappy_expression_730.jpg</td>\n",
              "      <td>Neutral</td>\n",
              "      <td>Asian</td>\n",
              "      <td>Disgust</td>\n",
              "    </tr>\n",
              "    <tr>\n",
              "      <th>8344</th>\n",
              "      <td>8344</td>\n",
              "      <td>unhappy_expression_749.jpg</td>\n",
              "      <td>Disgust</td>\n",
              "      <td>White</td>\n",
              "      <td>Happy</td>\n",
              "    </tr>\n",
              "    <tr>\n",
              "      <th>5967</th>\n",
              "      <td>5967</td>\n",
              "      <td>unhappy_expression_93.jpg</td>\n",
              "      <td>Sad</td>\n",
              "      <td>White</td>\n",
              "      <td>Surprise</td>\n",
              "    </tr>\n",
              "  </tbody>\n",
              "</table>\n",
              "<p>8458 rows × 5 columns</p>\n",
              "</div>\n",
              "    <div class=\"colab-df-buttons\">\n",
              "\n",
              "  <div class=\"colab-df-container\">\n",
              "    <button class=\"colab-df-convert\" onclick=\"convertToInteractive('df-8bf1412b-fb74-4ff2-9056-5c3e9be3840c')\"\n",
              "            title=\"Convert this dataframe to an interactive table.\"\n",
              "            style=\"display:none;\">\n",
              "\n",
              "  <svg xmlns=\"http://www.w3.org/2000/svg\" height=\"24px\" viewBox=\"0 -960 960 960\">\n",
              "    <path d=\"M120-120v-720h720v720H120Zm60-500h600v-160H180v160Zm220 220h160v-160H400v160Zm0 220h160v-160H400v160ZM180-400h160v-160H180v160Zm440 0h160v-160H620v160ZM180-180h160v-160H180v160Zm440 0h160v-160H620v160Z\"/>\n",
              "  </svg>\n",
              "    </button>\n",
              "\n",
              "  <style>\n",
              "    .colab-df-container {\n",
              "      display:flex;\n",
              "      gap: 12px;\n",
              "    }\n",
              "\n",
              "    .colab-df-convert {\n",
              "      background-color: #E8F0FE;\n",
              "      border: none;\n",
              "      border-radius: 50%;\n",
              "      cursor: pointer;\n",
              "      display: none;\n",
              "      fill: #1967D2;\n",
              "      height: 32px;\n",
              "      padding: 0 0 0 0;\n",
              "      width: 32px;\n",
              "    }\n",
              "\n",
              "    .colab-df-convert:hover {\n",
              "      background-color: #E2EBFA;\n",
              "      box-shadow: 0px 1px 2px rgba(60, 64, 67, 0.3), 0px 1px 3px 1px rgba(60, 64, 67, 0.15);\n",
              "      fill: #174EA6;\n",
              "    }\n",
              "\n",
              "    .colab-df-buttons div {\n",
              "      margin-bottom: 4px;\n",
              "    }\n",
              "\n",
              "    [theme=dark] .colab-df-convert {\n",
              "      background-color: #3B4455;\n",
              "      fill: #D2E3FC;\n",
              "    }\n",
              "\n",
              "    [theme=dark] .colab-df-convert:hover {\n",
              "      background-color: #434B5C;\n",
              "      box-shadow: 0px 1px 3px 1px rgba(0, 0, 0, 0.15);\n",
              "      filter: drop-shadow(0px 1px 2px rgba(0, 0, 0, 0.3));\n",
              "      fill: #FFFFFF;\n",
              "    }\n",
              "  </style>\n",
              "\n",
              "    <script>\n",
              "      const buttonEl =\n",
              "        document.querySelector('#df-8bf1412b-fb74-4ff2-9056-5c3e9be3840c button.colab-df-convert');\n",
              "      buttonEl.style.display =\n",
              "        google.colab.kernel.accessAllowed ? 'block' : 'none';\n",
              "\n",
              "      async function convertToInteractive(key) {\n",
              "        const element = document.querySelector('#df-8bf1412b-fb74-4ff2-9056-5c3e9be3840c');\n",
              "        const dataTable =\n",
              "          await google.colab.kernel.invokeFunction('convertToInteractive',\n",
              "                                                    [key], {});\n",
              "        if (!dataTable) return;\n",
              "\n",
              "        const docLinkHtml = 'Like what you see? Visit the ' +\n",
              "          '<a target=\"_blank\" href=https://colab.research.google.com/notebooks/data_table.ipynb>data table notebook</a>'\n",
              "          + ' to learn more about interactive tables.';\n",
              "        element.innerHTML = '';\n",
              "        dataTable['output_type'] = 'display_data';\n",
              "        await google.colab.output.renderOutput(dataTable, element);\n",
              "        const docLink = document.createElement('div');\n",
              "        docLink.innerHTML = docLinkHtml;\n",
              "        element.appendChild(docLink);\n",
              "      }\n",
              "    </script>\n",
              "  </div>\n",
              "\n",
              "\n",
              "<div id=\"df-2e925c00-9fa6-4b59-aa1f-1f45e4115dc2\">\n",
              "  <button class=\"colab-df-quickchart\" onclick=\"quickchart('df-2e925c00-9fa6-4b59-aa1f-1f45e4115dc2')\"\n",
              "            title=\"Suggest charts\"\n",
              "            style=\"display:none;\">\n",
              "\n",
              "<svg xmlns=\"http://www.w3.org/2000/svg\" height=\"24px\"viewBox=\"0 0 24 24\"\n",
              "     width=\"24px\">\n",
              "    <g>\n",
              "        <path d=\"M19 3H5c-1.1 0-2 .9-2 2v14c0 1.1.9 2 2 2h14c1.1 0 2-.9 2-2V5c0-1.1-.9-2-2-2zM9 17H7v-7h2v7zm4 0h-2V7h2v10zm4 0h-2v-4h2v4z\"/>\n",
              "    </g>\n",
              "</svg>\n",
              "  </button>\n",
              "\n",
              "<style>\n",
              "  .colab-df-quickchart {\n",
              "      --bg-color: #E8F0FE;\n",
              "      --fill-color: #1967D2;\n",
              "      --hover-bg-color: #E2EBFA;\n",
              "      --hover-fill-color: #174EA6;\n",
              "      --disabled-fill-color: #AAA;\n",
              "      --disabled-bg-color: #DDD;\n",
              "  }\n",
              "\n",
              "  [theme=dark] .colab-df-quickchart {\n",
              "      --bg-color: #3B4455;\n",
              "      --fill-color: #D2E3FC;\n",
              "      --hover-bg-color: #434B5C;\n",
              "      --hover-fill-color: #FFFFFF;\n",
              "      --disabled-bg-color: #3B4455;\n",
              "      --disabled-fill-color: #666;\n",
              "  }\n",
              "\n",
              "  .colab-df-quickchart {\n",
              "    background-color: var(--bg-color);\n",
              "    border: none;\n",
              "    border-radius: 50%;\n",
              "    cursor: pointer;\n",
              "    display: none;\n",
              "    fill: var(--fill-color);\n",
              "    height: 32px;\n",
              "    padding: 0;\n",
              "    width: 32px;\n",
              "  }\n",
              "\n",
              "  .colab-df-quickchart:hover {\n",
              "    background-color: var(--hover-bg-color);\n",
              "    box-shadow: 0 1px 2px rgba(60, 64, 67, 0.3), 0 1px 3px 1px rgba(60, 64, 67, 0.15);\n",
              "    fill: var(--button-hover-fill-color);\n",
              "  }\n",
              "\n",
              "  .colab-df-quickchart-complete:disabled,\n",
              "  .colab-df-quickchart-complete:disabled:hover {\n",
              "    background-color: var(--disabled-bg-color);\n",
              "    fill: var(--disabled-fill-color);\n",
              "    box-shadow: none;\n",
              "  }\n",
              "\n",
              "  .colab-df-spinner {\n",
              "    border: 2px solid var(--fill-color);\n",
              "    border-color: transparent;\n",
              "    border-bottom-color: var(--fill-color);\n",
              "    animation:\n",
              "      spin 1s steps(1) infinite;\n",
              "  }\n",
              "\n",
              "  @keyframes spin {\n",
              "    0% {\n",
              "      border-color: transparent;\n",
              "      border-bottom-color: var(--fill-color);\n",
              "      border-left-color: var(--fill-color);\n",
              "    }\n",
              "    20% {\n",
              "      border-color: transparent;\n",
              "      border-left-color: var(--fill-color);\n",
              "      border-top-color: var(--fill-color);\n",
              "    }\n",
              "    30% {\n",
              "      border-color: transparent;\n",
              "      border-left-color: var(--fill-color);\n",
              "      border-top-color: var(--fill-color);\n",
              "      border-right-color: var(--fill-color);\n",
              "    }\n",
              "    40% {\n",
              "      border-color: transparent;\n",
              "      border-right-color: var(--fill-color);\n",
              "      border-top-color: var(--fill-color);\n",
              "    }\n",
              "    60% {\n",
              "      border-color: transparent;\n",
              "      border-right-color: var(--fill-color);\n",
              "    }\n",
              "    80% {\n",
              "      border-color: transparent;\n",
              "      border-right-color: var(--fill-color);\n",
              "      border-bottom-color: var(--fill-color);\n",
              "    }\n",
              "    90% {\n",
              "      border-color: transparent;\n",
              "      border-bottom-color: var(--fill-color);\n",
              "    }\n",
              "  }\n",
              "</style>\n",
              "\n",
              "  <script>\n",
              "    async function quickchart(key) {\n",
              "      const quickchartButtonEl =\n",
              "        document.querySelector('#' + key + ' button');\n",
              "      quickchartButtonEl.disabled = true;  // To prevent multiple clicks.\n",
              "      quickchartButtonEl.classList.add('colab-df-spinner');\n",
              "      try {\n",
              "        const charts = await google.colab.kernel.invokeFunction(\n",
              "            'suggestCharts', [key], {});\n",
              "      } catch (error) {\n",
              "        console.error('Error during call to suggestCharts:', error);\n",
              "      }\n",
              "      quickchartButtonEl.classList.remove('colab-df-spinner');\n",
              "      quickchartButtonEl.classList.add('colab-df-quickchart-complete');\n",
              "    }\n",
              "    (() => {\n",
              "      let quickchartButtonEl =\n",
              "        document.querySelector('#df-2e925c00-9fa6-4b59-aa1f-1f45e4115dc2 button');\n",
              "      quickchartButtonEl.style.display =\n",
              "        google.colab.kernel.accessAllowed ? 'block' : 'none';\n",
              "    })();\n",
              "  </script>\n",
              "</div>\n",
              "\n",
              "  <div id=\"id_920d59fe-888d-426e-a0ce-bb774c7dc504\">\n",
              "    <style>\n",
              "      .colab-df-generate {\n",
              "        background-color: #E8F0FE;\n",
              "        border: none;\n",
              "        border-radius: 50%;\n",
              "        cursor: pointer;\n",
              "        display: none;\n",
              "        fill: #1967D2;\n",
              "        height: 32px;\n",
              "        padding: 0 0 0 0;\n",
              "        width: 32px;\n",
              "      }\n",
              "\n",
              "      .colab-df-generate:hover {\n",
              "        background-color: #E2EBFA;\n",
              "        box-shadow: 0px 1px 2px rgba(60, 64, 67, 0.3), 0px 1px 3px 1px rgba(60, 64, 67, 0.15);\n",
              "        fill: #174EA6;\n",
              "      }\n",
              "\n",
              "      [theme=dark] .colab-df-generate {\n",
              "        background-color: #3B4455;\n",
              "        fill: #D2E3FC;\n",
              "      }\n",
              "\n",
              "      [theme=dark] .colab-df-generate:hover {\n",
              "        background-color: #434B5C;\n",
              "        box-shadow: 0px 1px 3px 1px rgba(0, 0, 0, 0.15);\n",
              "        filter: drop-shadow(0px 1px 2px rgba(0, 0, 0, 0.3));\n",
              "        fill: #FFFFFF;\n",
              "      }\n",
              "    </style>\n",
              "    <button class=\"colab-df-generate\" onclick=\"generateWithVariable('non_dann_result')\"\n",
              "            title=\"Generate code using this dataframe.\"\n",
              "            style=\"display:none;\">\n",
              "\n",
              "  <svg xmlns=\"http://www.w3.org/2000/svg\" height=\"24px\"viewBox=\"0 0 24 24\"\n",
              "       width=\"24px\">\n",
              "    <path d=\"M7,19H8.4L18.45,9,17,7.55,7,17.6ZM5,21V16.75L18.45,3.32a2,2,0,0,1,2.83,0l1.4,1.43a1.91,1.91,0,0,1,.58,1.4,1.91,1.91,0,0,1-.58,1.4L9.25,21ZM18.45,9,17,7.55Zm-12,3A5.31,5.31,0,0,0,4.9,8.1,5.31,5.31,0,0,0,1,6.5,5.31,5.31,0,0,0,4.9,4.9,5.31,5.31,0,0,0,6.5,1,5.31,5.31,0,0,0,8.1,4.9,5.31,5.31,0,0,0,12,6.5,5.46,5.46,0,0,0,6.5,12Z\"/>\n",
              "  </svg>\n",
              "    </button>\n",
              "    <script>\n",
              "      (() => {\n",
              "      const buttonEl =\n",
              "        document.querySelector('#id_920d59fe-888d-426e-a0ce-bb774c7dc504 button.colab-df-generate');\n",
              "      buttonEl.style.display =\n",
              "        google.colab.kernel.accessAllowed ? 'block' : 'none';\n",
              "\n",
              "      buttonEl.onclick = () => {\n",
              "        google.colab.notebook.generateWithVariable('non_dann_result');\n",
              "      }\n",
              "      })();\n",
              "    </script>\n",
              "  </div>\n",
              "\n",
              "    </div>\n",
              "  </div>\n"
            ],
            "application/vnd.google.colaboratory.intrinsic+json": {
              "type": "dataframe",
              "variable_name": "non_dann_result",
              "summary": "{\n  \"name\": \"non_dann_result\",\n  \"rows\": 8458,\n  \"fields\": [\n    {\n      \"column\": \"Unnamed: 0\",\n      \"properties\": {\n        \"dtype\": \"number\",\n        \"std\": 2441,\n        \"min\": 0,\n        \"max\": 8457,\n        \"num_unique_values\": 8458,\n        \"samples\": [\n          7100,\n          522,\n          5012\n        ],\n        \"semantic_type\": \"\",\n        \"description\": \"\"\n      }\n    },\n    {\n      \"column\": \"image\",\n      \"properties\": {\n        \"dtype\": \"string\",\n        \"num_unique_values\": 8458,\n        \"samples\": [\n          \"annoyed_girl_407.jpg\",\n          \"awe_programmer_56.jpg\",\n          \"amazed_family_94.jpg\"\n        ],\n        \"semantic_type\": \"\",\n        \"description\": \"\"\n      }\n    },\n    {\n      \"column\": \"gt_emotion\",\n      \"properties\": {\n        \"dtype\": \"category\",\n        \"num_unique_values\": 7,\n        \"samples\": [\n          \"Fear\",\n          \"Surprise\",\n          \"Disgust\"\n        ],\n        \"semantic_type\": \"\",\n        \"description\": \"\"\n      }\n    },\n    {\n      \"column\": \"gt_race\",\n      \"properties\": {\n        \"dtype\": \"category\",\n        \"num_unique_values\": 6,\n        \"samples\": [\n          \"African\",\n          \"Asian\",\n          \"Indian\"\n        ],\n        \"semantic_type\": \"\",\n        \"description\": \"\"\n      }\n    },\n    {\n      \"column\": \"p_emotion_non_dann\",\n      \"properties\": {\n        \"dtype\": \"category\",\n        \"num_unique_values\": 7,\n        \"samples\": [\n          \"Fear\",\n          \"Angry\",\n          \"Happy\"\n        ],\n        \"semantic_type\": \"\",\n        \"description\": \"\"\n      }\n    }\n  ]\n}"
            }
          },
          "metadata": {},
          "execution_count": 8
        }
      ],
      "source": [
        "non_dann_result"
      ]
    },
    {
      "cell_type": "code",
      "execution_count": 9,
      "metadata": {
        "colab": {
          "base_uri": "https://localhost:8080/"
        },
        "id": "fg3BGNfahZ55",
        "outputId": "6b6bd4bc-f702-46e6-86ba-d3d9b7e61577"
      },
      "outputs": [
        {
          "output_type": "execute_result",
          "data": {
            "text/plain": [
              "((8458, 9),\n",
              " Index(['Unnamed: 0_x', 'image', 'gt_emotion', 'gt_race', 'p_emotion_non_dann',\n",
              "        'Unnamed: 0_y', 'p_emotion_dann', 'Unnamed: 0', 'p_emotion_ewc_dann'],\n",
              "       dtype='object'))"
            ]
          },
          "metadata": {},
          "execution_count": 9
        }
      ],
      "source": [
        "merged_df = non_dann_result.merge(dann_result, on=['image', 'gt_emotion', 'gt_race']).merge(ewc_dann_result, on=['image', 'gt_emotion', 'gt_race'])\n",
        "merged_df.shape, merged_df.columns"
      ]
    },
    {
      "cell_type": "code",
      "execution_count": 10,
      "metadata": {
        "colab": {
          "base_uri": "https://localhost:8080/",
          "height": 206
        },
        "id": "WTYLDLwyheUr",
        "outputId": "da285dbd-7b78-4ee0-bc8a-97fb50da5c38"
      },
      "outputs": [
        {
          "output_type": "execute_result",
          "data": {
            "text/plain": [
              "   Unnamed: 0_x                    image gt_emotion  gt_race  \\\n",
              "0           167   afraid_African_214.jpg       Fear  African   \n",
              "1          2502  afraid_american_238.jpg   Surprise  African   \n",
              "2          2069     afraid_asian_103.jpg      Happy    Asian   \n",
              "3          1006     afraid_asian_336.jpg   Surprise    Asian   \n",
              "4          2424     afraid_asian_367.jpg   Surprise    Asian   \n",
              "\n",
              "  p_emotion_non_dann  Unnamed: 0_y p_emotion_dann  Unnamed: 0  \\\n",
              "0               Fear          4064        Neutral        7694   \n",
              "1               Fear           174        Neutral         293   \n",
              "2              Angry          4002          Angry        2763   \n",
              "3            Neutral           845        Neutral        7041   \n",
              "4            Neutral          4416        Neutral        7260   \n",
              "\n",
              "  p_emotion_ewc_dann  \n",
              "0            Neutral  \n",
              "1               Fear  \n",
              "2              Angry  \n",
              "3            Neutral  \n",
              "4            Neutral  "
            ],
            "text/html": [
              "\n",
              "  <div id=\"df-8cdc2972-3dbd-4168-af6b-ed670b5dd655\" class=\"colab-df-container\">\n",
              "    <div>\n",
              "<style scoped>\n",
              "    .dataframe tbody tr th:only-of-type {\n",
              "        vertical-align: middle;\n",
              "    }\n",
              "\n",
              "    .dataframe tbody tr th {\n",
              "        vertical-align: top;\n",
              "    }\n",
              "\n",
              "    .dataframe thead th {\n",
              "        text-align: right;\n",
              "    }\n",
              "</style>\n",
              "<table border=\"1\" class=\"dataframe\">\n",
              "  <thead>\n",
              "    <tr style=\"text-align: right;\">\n",
              "      <th></th>\n",
              "      <th>Unnamed: 0_x</th>\n",
              "      <th>image</th>\n",
              "      <th>gt_emotion</th>\n",
              "      <th>gt_race</th>\n",
              "      <th>p_emotion_non_dann</th>\n",
              "      <th>Unnamed: 0_y</th>\n",
              "      <th>p_emotion_dann</th>\n",
              "      <th>Unnamed: 0</th>\n",
              "      <th>p_emotion_ewc_dann</th>\n",
              "    </tr>\n",
              "  </thead>\n",
              "  <tbody>\n",
              "    <tr>\n",
              "      <th>0</th>\n",
              "      <td>167</td>\n",
              "      <td>afraid_African_214.jpg</td>\n",
              "      <td>Fear</td>\n",
              "      <td>African</td>\n",
              "      <td>Fear</td>\n",
              "      <td>4064</td>\n",
              "      <td>Neutral</td>\n",
              "      <td>7694</td>\n",
              "      <td>Neutral</td>\n",
              "    </tr>\n",
              "    <tr>\n",
              "      <th>1</th>\n",
              "      <td>2502</td>\n",
              "      <td>afraid_american_238.jpg</td>\n",
              "      <td>Surprise</td>\n",
              "      <td>African</td>\n",
              "      <td>Fear</td>\n",
              "      <td>174</td>\n",
              "      <td>Neutral</td>\n",
              "      <td>293</td>\n",
              "      <td>Fear</td>\n",
              "    </tr>\n",
              "    <tr>\n",
              "      <th>2</th>\n",
              "      <td>2069</td>\n",
              "      <td>afraid_asian_103.jpg</td>\n",
              "      <td>Happy</td>\n",
              "      <td>Asian</td>\n",
              "      <td>Angry</td>\n",
              "      <td>4002</td>\n",
              "      <td>Angry</td>\n",
              "      <td>2763</td>\n",
              "      <td>Angry</td>\n",
              "    </tr>\n",
              "    <tr>\n",
              "      <th>3</th>\n",
              "      <td>1006</td>\n",
              "      <td>afraid_asian_336.jpg</td>\n",
              "      <td>Surprise</td>\n",
              "      <td>Asian</td>\n",
              "      <td>Neutral</td>\n",
              "      <td>845</td>\n",
              "      <td>Neutral</td>\n",
              "      <td>7041</td>\n",
              "      <td>Neutral</td>\n",
              "    </tr>\n",
              "    <tr>\n",
              "      <th>4</th>\n",
              "      <td>2424</td>\n",
              "      <td>afraid_asian_367.jpg</td>\n",
              "      <td>Surprise</td>\n",
              "      <td>Asian</td>\n",
              "      <td>Neutral</td>\n",
              "      <td>4416</td>\n",
              "      <td>Neutral</td>\n",
              "      <td>7260</td>\n",
              "      <td>Neutral</td>\n",
              "    </tr>\n",
              "  </tbody>\n",
              "</table>\n",
              "</div>\n",
              "    <div class=\"colab-df-buttons\">\n",
              "\n",
              "  <div class=\"colab-df-container\">\n",
              "    <button class=\"colab-df-convert\" onclick=\"convertToInteractive('df-8cdc2972-3dbd-4168-af6b-ed670b5dd655')\"\n",
              "            title=\"Convert this dataframe to an interactive table.\"\n",
              "            style=\"display:none;\">\n",
              "\n",
              "  <svg xmlns=\"http://www.w3.org/2000/svg\" height=\"24px\" viewBox=\"0 -960 960 960\">\n",
              "    <path d=\"M120-120v-720h720v720H120Zm60-500h600v-160H180v160Zm220 220h160v-160H400v160Zm0 220h160v-160H400v160ZM180-400h160v-160H180v160Zm440 0h160v-160H620v160ZM180-180h160v-160H180v160Zm440 0h160v-160H620v160Z\"/>\n",
              "  </svg>\n",
              "    </button>\n",
              "\n",
              "  <style>\n",
              "    .colab-df-container {\n",
              "      display:flex;\n",
              "      gap: 12px;\n",
              "    }\n",
              "\n",
              "    .colab-df-convert {\n",
              "      background-color: #E8F0FE;\n",
              "      border: none;\n",
              "      border-radius: 50%;\n",
              "      cursor: pointer;\n",
              "      display: none;\n",
              "      fill: #1967D2;\n",
              "      height: 32px;\n",
              "      padding: 0 0 0 0;\n",
              "      width: 32px;\n",
              "    }\n",
              "\n",
              "    .colab-df-convert:hover {\n",
              "      background-color: #E2EBFA;\n",
              "      box-shadow: 0px 1px 2px rgba(60, 64, 67, 0.3), 0px 1px 3px 1px rgba(60, 64, 67, 0.15);\n",
              "      fill: #174EA6;\n",
              "    }\n",
              "\n",
              "    .colab-df-buttons div {\n",
              "      margin-bottom: 4px;\n",
              "    }\n",
              "\n",
              "    [theme=dark] .colab-df-convert {\n",
              "      background-color: #3B4455;\n",
              "      fill: #D2E3FC;\n",
              "    }\n",
              "\n",
              "    [theme=dark] .colab-df-convert:hover {\n",
              "      background-color: #434B5C;\n",
              "      box-shadow: 0px 1px 3px 1px rgba(0, 0, 0, 0.15);\n",
              "      filter: drop-shadow(0px 1px 2px rgba(0, 0, 0, 0.3));\n",
              "      fill: #FFFFFF;\n",
              "    }\n",
              "  </style>\n",
              "\n",
              "    <script>\n",
              "      const buttonEl =\n",
              "        document.querySelector('#df-8cdc2972-3dbd-4168-af6b-ed670b5dd655 button.colab-df-convert');\n",
              "      buttonEl.style.display =\n",
              "        google.colab.kernel.accessAllowed ? 'block' : 'none';\n",
              "\n",
              "      async function convertToInteractive(key) {\n",
              "        const element = document.querySelector('#df-8cdc2972-3dbd-4168-af6b-ed670b5dd655');\n",
              "        const dataTable =\n",
              "          await google.colab.kernel.invokeFunction('convertToInteractive',\n",
              "                                                    [key], {});\n",
              "        if (!dataTable) return;\n",
              "\n",
              "        const docLinkHtml = 'Like what you see? Visit the ' +\n",
              "          '<a target=\"_blank\" href=https://colab.research.google.com/notebooks/data_table.ipynb>data table notebook</a>'\n",
              "          + ' to learn more about interactive tables.';\n",
              "        element.innerHTML = '';\n",
              "        dataTable['output_type'] = 'display_data';\n",
              "        await google.colab.output.renderOutput(dataTable, element);\n",
              "        const docLink = document.createElement('div');\n",
              "        docLink.innerHTML = docLinkHtml;\n",
              "        element.appendChild(docLink);\n",
              "      }\n",
              "    </script>\n",
              "  </div>\n",
              "\n",
              "\n",
              "<div id=\"df-124e954b-ca08-49e2-9ec2-867bed5281de\">\n",
              "  <button class=\"colab-df-quickchart\" onclick=\"quickchart('df-124e954b-ca08-49e2-9ec2-867bed5281de')\"\n",
              "            title=\"Suggest charts\"\n",
              "            style=\"display:none;\">\n",
              "\n",
              "<svg xmlns=\"http://www.w3.org/2000/svg\" height=\"24px\"viewBox=\"0 0 24 24\"\n",
              "     width=\"24px\">\n",
              "    <g>\n",
              "        <path d=\"M19 3H5c-1.1 0-2 .9-2 2v14c0 1.1.9 2 2 2h14c1.1 0 2-.9 2-2V5c0-1.1-.9-2-2-2zM9 17H7v-7h2v7zm4 0h-2V7h2v10zm4 0h-2v-4h2v4z\"/>\n",
              "    </g>\n",
              "</svg>\n",
              "  </button>\n",
              "\n",
              "<style>\n",
              "  .colab-df-quickchart {\n",
              "      --bg-color: #E8F0FE;\n",
              "      --fill-color: #1967D2;\n",
              "      --hover-bg-color: #E2EBFA;\n",
              "      --hover-fill-color: #174EA6;\n",
              "      --disabled-fill-color: #AAA;\n",
              "      --disabled-bg-color: #DDD;\n",
              "  }\n",
              "\n",
              "  [theme=dark] .colab-df-quickchart {\n",
              "      --bg-color: #3B4455;\n",
              "      --fill-color: #D2E3FC;\n",
              "      --hover-bg-color: #434B5C;\n",
              "      --hover-fill-color: #FFFFFF;\n",
              "      --disabled-bg-color: #3B4455;\n",
              "      --disabled-fill-color: #666;\n",
              "  }\n",
              "\n",
              "  .colab-df-quickchart {\n",
              "    background-color: var(--bg-color);\n",
              "    border: none;\n",
              "    border-radius: 50%;\n",
              "    cursor: pointer;\n",
              "    display: none;\n",
              "    fill: var(--fill-color);\n",
              "    height: 32px;\n",
              "    padding: 0;\n",
              "    width: 32px;\n",
              "  }\n",
              "\n",
              "  .colab-df-quickchart:hover {\n",
              "    background-color: var(--hover-bg-color);\n",
              "    box-shadow: 0 1px 2px rgba(60, 64, 67, 0.3), 0 1px 3px 1px rgba(60, 64, 67, 0.15);\n",
              "    fill: var(--button-hover-fill-color);\n",
              "  }\n",
              "\n",
              "  .colab-df-quickchart-complete:disabled,\n",
              "  .colab-df-quickchart-complete:disabled:hover {\n",
              "    background-color: var(--disabled-bg-color);\n",
              "    fill: var(--disabled-fill-color);\n",
              "    box-shadow: none;\n",
              "  }\n",
              "\n",
              "  .colab-df-spinner {\n",
              "    border: 2px solid var(--fill-color);\n",
              "    border-color: transparent;\n",
              "    border-bottom-color: var(--fill-color);\n",
              "    animation:\n",
              "      spin 1s steps(1) infinite;\n",
              "  }\n",
              "\n",
              "  @keyframes spin {\n",
              "    0% {\n",
              "      border-color: transparent;\n",
              "      border-bottom-color: var(--fill-color);\n",
              "      border-left-color: var(--fill-color);\n",
              "    }\n",
              "    20% {\n",
              "      border-color: transparent;\n",
              "      border-left-color: var(--fill-color);\n",
              "      border-top-color: var(--fill-color);\n",
              "    }\n",
              "    30% {\n",
              "      border-color: transparent;\n",
              "      border-left-color: var(--fill-color);\n",
              "      border-top-color: var(--fill-color);\n",
              "      border-right-color: var(--fill-color);\n",
              "    }\n",
              "    40% {\n",
              "      border-color: transparent;\n",
              "      border-right-color: var(--fill-color);\n",
              "      border-top-color: var(--fill-color);\n",
              "    }\n",
              "    60% {\n",
              "      border-color: transparent;\n",
              "      border-right-color: var(--fill-color);\n",
              "    }\n",
              "    80% {\n",
              "      border-color: transparent;\n",
              "      border-right-color: var(--fill-color);\n",
              "      border-bottom-color: var(--fill-color);\n",
              "    }\n",
              "    90% {\n",
              "      border-color: transparent;\n",
              "      border-bottom-color: var(--fill-color);\n",
              "    }\n",
              "  }\n",
              "</style>\n",
              "\n",
              "  <script>\n",
              "    async function quickchart(key) {\n",
              "      const quickchartButtonEl =\n",
              "        document.querySelector('#' + key + ' button');\n",
              "      quickchartButtonEl.disabled = true;  // To prevent multiple clicks.\n",
              "      quickchartButtonEl.classList.add('colab-df-spinner');\n",
              "      try {\n",
              "        const charts = await google.colab.kernel.invokeFunction(\n",
              "            'suggestCharts', [key], {});\n",
              "      } catch (error) {\n",
              "        console.error('Error during call to suggestCharts:', error);\n",
              "      }\n",
              "      quickchartButtonEl.classList.remove('colab-df-spinner');\n",
              "      quickchartButtonEl.classList.add('colab-df-quickchart-complete');\n",
              "    }\n",
              "    (() => {\n",
              "      let quickchartButtonEl =\n",
              "        document.querySelector('#df-124e954b-ca08-49e2-9ec2-867bed5281de button');\n",
              "      quickchartButtonEl.style.display =\n",
              "        google.colab.kernel.accessAllowed ? 'block' : 'none';\n",
              "    })();\n",
              "  </script>\n",
              "</div>\n",
              "\n",
              "    </div>\n",
              "  </div>\n"
            ],
            "application/vnd.google.colaboratory.intrinsic+json": {
              "type": "dataframe",
              "variable_name": "merged_df",
              "summary": "{\n  \"name\": \"merged_df\",\n  \"rows\": 8458,\n  \"fields\": [\n    {\n      \"column\": \"Unnamed: 0_x\",\n      \"properties\": {\n        \"dtype\": \"number\",\n        \"std\": 2441,\n        \"min\": 0,\n        \"max\": 8457,\n        \"num_unique_values\": 8458,\n        \"samples\": [\n          7100,\n          522,\n          5012\n        ],\n        \"semantic_type\": \"\",\n        \"description\": \"\"\n      }\n    },\n    {\n      \"column\": \"image\",\n      \"properties\": {\n        \"dtype\": \"string\",\n        \"num_unique_values\": 8458,\n        \"samples\": [\n          \"annoyed_girl_407.jpg\",\n          \"awe_programmer_56.jpg\",\n          \"amazed_family_94.jpg\"\n        ],\n        \"semantic_type\": \"\",\n        \"description\": \"\"\n      }\n    },\n    {\n      \"column\": \"gt_emotion\",\n      \"properties\": {\n        \"dtype\": \"category\",\n        \"num_unique_values\": 7,\n        \"samples\": [\n          \"Fear\",\n          \"Surprise\",\n          \"Disgust\"\n        ],\n        \"semantic_type\": \"\",\n        \"description\": \"\"\n      }\n    },\n    {\n      \"column\": \"gt_race\",\n      \"properties\": {\n        \"dtype\": \"category\",\n        \"num_unique_values\": 6,\n        \"samples\": [\n          \"African\",\n          \"Asian\",\n          \"Indian\"\n        ],\n        \"semantic_type\": \"\",\n        \"description\": \"\"\n      }\n    },\n    {\n      \"column\": \"p_emotion_non_dann\",\n      \"properties\": {\n        \"dtype\": \"category\",\n        \"num_unique_values\": 7,\n        \"samples\": [\n          \"Fear\",\n          \"Angry\",\n          \"Happy\"\n        ],\n        \"semantic_type\": \"\",\n        \"description\": \"\"\n      }\n    },\n    {\n      \"column\": \"Unnamed: 0_y\",\n      \"properties\": {\n        \"dtype\": \"number\",\n        \"std\": 2441,\n        \"min\": 0,\n        \"max\": 8457,\n        \"num_unique_values\": 8458,\n        \"samples\": [\n          4170,\n          7989,\n          871\n        ],\n        \"semantic_type\": \"\",\n        \"description\": \"\"\n      }\n    },\n    {\n      \"column\": \"p_emotion_dann\",\n      \"properties\": {\n        \"dtype\": \"category\",\n        \"num_unique_values\": 7,\n        \"samples\": [\n          \"Neutral\",\n          \"Angry\",\n          \"Happy\"\n        ],\n        \"semantic_type\": \"\",\n        \"description\": \"\"\n      }\n    },\n    {\n      \"column\": \"Unnamed: 0\",\n      \"properties\": {\n        \"dtype\": \"number\",\n        \"std\": 2441,\n        \"min\": 0,\n        \"max\": 8457,\n        \"num_unique_values\": 8458,\n        \"samples\": [\n          923,\n          3117,\n          2766\n        ],\n        \"semantic_type\": \"\",\n        \"description\": \"\"\n      }\n    },\n    {\n      \"column\": \"p_emotion_ewc_dann\",\n      \"properties\": {\n        \"dtype\": \"category\",\n        \"num_unique_values\": 7,\n        \"samples\": [\n          \"Neutral\",\n          \"Fear\",\n          \"Happy\"\n        ],\n        \"semantic_type\": \"\",\n        \"description\": \"\"\n      }\n    }\n  ]\n}"
            }
          },
          "metadata": {},
          "execution_count": 10
        }
      ],
      "source": [
        "merged_df.head()"
      ]
    },
    {
      "cell_type": "code",
      "execution_count": 11,
      "metadata": {
        "id": "9ECynytNj541"
      },
      "outputs": [],
      "source": [
        "merged_df = merged_df[['image', 'gt_emotion', 'gt_race', 'p_emotion_non_dann', 'p_emotion_dann', 'p_emotion_ewc_dann']]"
      ]
    },
    {
      "cell_type": "code",
      "execution_count": 12,
      "metadata": {
        "colab": {
          "base_uri": "https://localhost:8080/"
        },
        "id": "l9ne41WOj-L4",
        "outputId": "6769cb11-a2b0-4673-a2b6-8ffc8d4473c6"
      },
      "outputs": [
        {
          "output_type": "execute_result",
          "data": {
            "text/plain": [
              "((8458, 6),\n",
              " Index(['image', 'gt_emotion', 'gt_race', 'p_emotion_non_dann',\n",
              "        'p_emotion_dann', 'p_emotion_ewc_dann'],\n",
              "       dtype='object'),\n",
              "                      image gt_emotion  gt_race p_emotion_non_dann  \\\n",
              " 0   afraid_African_214.jpg       Fear  African               Fear   \n",
              " 1  afraid_american_238.jpg   Surprise  African               Fear   \n",
              " 2     afraid_asian_103.jpg      Happy    Asian              Angry   \n",
              " 3     afraid_asian_336.jpg   Surprise    Asian            Neutral   \n",
              " 4     afraid_asian_367.jpg   Surprise    Asian            Neutral   \n",
              " \n",
              "   p_emotion_dann p_emotion_ewc_dann  \n",
              " 0        Neutral            Neutral  \n",
              " 1        Neutral               Fear  \n",
              " 2          Angry              Angry  \n",
              " 3        Neutral            Neutral  \n",
              " 4        Neutral            Neutral  )"
            ]
          },
          "metadata": {},
          "execution_count": 12
        }
      ],
      "source": [
        "merged_df.shape, merged_df.columns,merged_df.head()"
      ]
    },
    {
      "cell_type": "markdown",
      "metadata": {
        "id": "ncy9wqBPkI7S"
      },
      "source": [
        "## Dataframes based on Conditions\n",
        "1. Images that are ok in non_dann, dann, dann_ewc\n",
        "2. Images that are nok in non_dann, ok in dann and dann_ewc\n",
        "3. Images that are nok in non_dann, nok in dann and ok in dann_ewc\n",
        "4. Images that are nok in non_dann, dann_ewc but ok in dann\n",
        "5. Images which are non_ok on all 3\n",
        "6. Images that are ok in non_dann, but nok in dann and dann_ewc\n",
        "7. Images that are ok in non_dann, dann, but nok in dann_ewc\n",
        "8. Images that are ok in non_dann, dann_ewc, but nok in dann"
      ]
    },
    {
      "cell_type": "markdown",
      "metadata": {
        "id": "9TOUzqREp0IA"
      },
      "source": [
        "### Condition 1: Images that are predicted same in non_dann, dann, dann_ewc, ground truth"
      ]
    },
    {
      "cell_type": "code",
      "execution_count": 13,
      "metadata": {
        "id": "tQ_CoAd0kCpH"
      },
      "outputs": [],
      "source": [
        "condition_1 = (merged_df['gt_emotion'] == merged_df['p_emotion_non_dann']) & (merged_df['gt_emotion'] == merged_df['p_emotion_dann']) & ( merged_df['gt_emotion'] == merged_df['p_emotion_ewc_dann'])"
      ]
    },
    {
      "cell_type": "code",
      "execution_count": 14,
      "metadata": {
        "colab": {
          "base_uri": "https://localhost:8080/"
        },
        "id": "oy9C6upxk6Na",
        "outputId": "47c702b8-4146-45b6-c111-3ba5fbdac223"
      },
      "outputs": [
        {
          "output_type": "execute_result",
          "data": {
            "text/plain": [
              "((1805, 6),\n",
              "                      image gt_emotion  gt_race p_emotion_non_dann  \\\n",
              " 5      afraid_asian_39.jpg    Neutral    Asian            Neutral   \n",
              " 32  amazed_African_145.jpg      Happy  African              Happy   \n",
              " 38  amazed_African_253.jpg      Happy  African              Happy   \n",
              " 40   amazed_African_28.jpg      Happy  African              Happy   \n",
              " 41  amazed_African_293.jpg    Neutral  African            Neutral   \n",
              " \n",
              "    p_emotion_dann p_emotion_ewc_dann  \n",
              " 5         Neutral            Neutral  \n",
              " 32          Happy              Happy  \n",
              " 38          Happy              Happy  \n",
              " 40          Happy              Happy  \n",
              " 41        Neutral            Neutral  )"
            ]
          },
          "metadata": {},
          "execution_count": 14
        }
      ],
      "source": [
        "filtered_df_condition_1 = merged_df[condition_1]\n",
        "filtered_df_condition_1.shape, filtered_df_condition_1.head()"
      ]
    },
    {
      "cell_type": "code",
      "source": [
        "# filtered_df_condition_1.columns"
      ],
      "metadata": {
        "colab": {
          "base_uri": "https://localhost:8080/"
        },
        "id": "X3-Fx8GmBdQG",
        "outputId": "e93d4e19-56e0-4fb5-fc75-f9f167162360"
      },
      "execution_count": null,
      "outputs": [
        {
          "output_type": "execute_result",
          "data": {
            "text/plain": [
              "Index(['image', 'gt_emotion', 'gt_race', 'p_emotion_non_dann',\n",
              "       'p_emotion_dann', 'p_emotion_ewc_dann'],\n",
              "      dtype='object')"
            ]
          },
          "metadata": {},
          "execution_count": 15
        }
      ]
    },
    {
      "cell_type": "code",
      "execution_count": null,
      "metadata": {
        "id": "_hLNKLmsl3a9"
      },
      "outputs": [],
      "source": [
        "# df_merged_per_race = merged_df.groupby('gt_race').size().reset_index(name='merged_count')"
      ]
    },
    {
      "cell_type": "code",
      "execution_count": null,
      "metadata": {
        "id": "EpPEpqIclToh"
      },
      "outputs": [],
      "source": [
        "# filtered_df_condition_1_per_race= filtered_df_condition_1.groupby('gt_race').size().reset_index(name='condition_1_count')"
      ]
    },
    {
      "cell_type": "code",
      "execution_count": null,
      "metadata": {
        "id": "UG6vECajmcnN"
      },
      "outputs": [],
      "source": [
        "# def race_proportion(base_df, condition_df, column_name = 'gt_race'):#, column_name):\n",
        "#     \"\"\"\n",
        "#     Trying to understand the distribution of race in base df and conditional df\n",
        "#     Further understanding if proportion of a race in condition and base...\n",
        "#     \"\"\"\n",
        "#     base_df_col = f'{column_name}'+'_base'\n",
        "#     condition_df_col = f'{column_name}'+'_condition'\n",
        "#     base_df_per_column_name = base_df.groupby(column_name).size().reset_index(name=base_df_col)\n",
        "#     condition_df_per_column_name = condition_df.groupby(column_name).size().reset_index(name=condition_df_col)\n",
        "#     merged_df = base_df_per_column_name.merge(condition_df_per_column_name, on=column_name)\n",
        "\n",
        "\n",
        "#     merged_df[condition_df_col] =   merged_df[condition_df_col].fillna(0)\n",
        "#     # # merged_df[merged_df.columns[-1]] =   merged_df[merged_df.columns[-1]].fillna(0)\n",
        "#     proportion_col = f'{column_name}'+'_proportion'\n",
        "#     merged_df[proportion_col] = round(merged_df[condition_df_col] *100/ merged_df[base_df_col],2)\n",
        "#     print(merged_df.head())\n",
        "\n",
        "#     return merged_df\n",
        "#     # merged_df[] = merged_df[column_name].fillna(0)\n",
        "#     # print(merged_df.head())"
      ]
    },
    {
      "cell_type": "code",
      "execution_count": null,
      "metadata": {
        "colab": {
          "base_uri": "https://localhost:8080/",
          "height": 345
        },
        "id": "9kLYQ577s7xz",
        "outputId": "3c12a176-2d9e-452b-a5e2-1045d4c0a261"
      },
      "outputs": [
        {
          "output_type": "stream",
          "name": "stdout",
          "text": [
            "          gt_race  gt_race_base  gt_race_condition  gt_race_proportion\n",
            "0         African           814                164               20.15\n",
            "1           Asian          1072                212               19.78\n",
            "2          Indian           580                102               17.59\n",
            "3          Latino           194                 70               36.08\n",
            "4  Middle Eastern           202                 33               16.34\n"
          ]
        },
        {
          "output_type": "execute_result",
          "data": {
            "text/plain": [
              "          gt_race  gt_race_base  gt_race_condition  gt_race_proportion\n",
              "0         African           814                164               20.15\n",
              "1           Asian          1072                212               19.78\n",
              "2          Indian           580                102               17.59\n",
              "3          Latino           194                 70               36.08\n",
              "4  Middle Eastern           202                 33               16.34\n",
              "5           White          5596               1224               21.87"
            ],
            "text/html": [
              "\n",
              "  <div id=\"df-0327d45e-342c-4608-a11f-591efe6d2ad2\" class=\"colab-df-container\">\n",
              "    <div>\n",
              "<style scoped>\n",
              "    .dataframe tbody tr th:only-of-type {\n",
              "        vertical-align: middle;\n",
              "    }\n",
              "\n",
              "    .dataframe tbody tr th {\n",
              "        vertical-align: top;\n",
              "    }\n",
              "\n",
              "    .dataframe thead th {\n",
              "        text-align: right;\n",
              "    }\n",
              "</style>\n",
              "<table border=\"1\" class=\"dataframe\">\n",
              "  <thead>\n",
              "    <tr style=\"text-align: right;\">\n",
              "      <th></th>\n",
              "      <th>gt_race</th>\n",
              "      <th>gt_race_base</th>\n",
              "      <th>gt_race_condition</th>\n",
              "      <th>gt_race_proportion</th>\n",
              "    </tr>\n",
              "  </thead>\n",
              "  <tbody>\n",
              "    <tr>\n",
              "      <th>0</th>\n",
              "      <td>African</td>\n",
              "      <td>814</td>\n",
              "      <td>164</td>\n",
              "      <td>20.15</td>\n",
              "    </tr>\n",
              "    <tr>\n",
              "      <th>1</th>\n",
              "      <td>Asian</td>\n",
              "      <td>1072</td>\n",
              "      <td>212</td>\n",
              "      <td>19.78</td>\n",
              "    </tr>\n",
              "    <tr>\n",
              "      <th>2</th>\n",
              "      <td>Indian</td>\n",
              "      <td>580</td>\n",
              "      <td>102</td>\n",
              "      <td>17.59</td>\n",
              "    </tr>\n",
              "    <tr>\n",
              "      <th>3</th>\n",
              "      <td>Latino</td>\n",
              "      <td>194</td>\n",
              "      <td>70</td>\n",
              "      <td>36.08</td>\n",
              "    </tr>\n",
              "    <tr>\n",
              "      <th>4</th>\n",
              "      <td>Middle Eastern</td>\n",
              "      <td>202</td>\n",
              "      <td>33</td>\n",
              "      <td>16.34</td>\n",
              "    </tr>\n",
              "    <tr>\n",
              "      <th>5</th>\n",
              "      <td>White</td>\n",
              "      <td>5596</td>\n",
              "      <td>1224</td>\n",
              "      <td>21.87</td>\n",
              "    </tr>\n",
              "  </tbody>\n",
              "</table>\n",
              "</div>\n",
              "    <div class=\"colab-df-buttons\">\n",
              "\n",
              "  <div class=\"colab-df-container\">\n",
              "    <button class=\"colab-df-convert\" onclick=\"convertToInteractive('df-0327d45e-342c-4608-a11f-591efe6d2ad2')\"\n",
              "            title=\"Convert this dataframe to an interactive table.\"\n",
              "            style=\"display:none;\">\n",
              "\n",
              "  <svg xmlns=\"http://www.w3.org/2000/svg\" height=\"24px\" viewBox=\"0 -960 960 960\">\n",
              "    <path d=\"M120-120v-720h720v720H120Zm60-500h600v-160H180v160Zm220 220h160v-160H400v160Zm0 220h160v-160H400v160ZM180-400h160v-160H180v160Zm440 0h160v-160H620v160ZM180-180h160v-160H180v160Zm440 0h160v-160H620v160Z\"/>\n",
              "  </svg>\n",
              "    </button>\n",
              "\n",
              "  <style>\n",
              "    .colab-df-container {\n",
              "      display:flex;\n",
              "      gap: 12px;\n",
              "    }\n",
              "\n",
              "    .colab-df-convert {\n",
              "      background-color: #E8F0FE;\n",
              "      border: none;\n",
              "      border-radius: 50%;\n",
              "      cursor: pointer;\n",
              "      display: none;\n",
              "      fill: #1967D2;\n",
              "      height: 32px;\n",
              "      padding: 0 0 0 0;\n",
              "      width: 32px;\n",
              "    }\n",
              "\n",
              "    .colab-df-convert:hover {\n",
              "      background-color: #E2EBFA;\n",
              "      box-shadow: 0px 1px 2px rgba(60, 64, 67, 0.3), 0px 1px 3px 1px rgba(60, 64, 67, 0.15);\n",
              "      fill: #174EA6;\n",
              "    }\n",
              "\n",
              "    .colab-df-buttons div {\n",
              "      margin-bottom: 4px;\n",
              "    }\n",
              "\n",
              "    [theme=dark] .colab-df-convert {\n",
              "      background-color: #3B4455;\n",
              "      fill: #D2E3FC;\n",
              "    }\n",
              "\n",
              "    [theme=dark] .colab-df-convert:hover {\n",
              "      background-color: #434B5C;\n",
              "      box-shadow: 0px 1px 3px 1px rgba(0, 0, 0, 0.15);\n",
              "      filter: drop-shadow(0px 1px 2px rgba(0, 0, 0, 0.3));\n",
              "      fill: #FFFFFF;\n",
              "    }\n",
              "  </style>\n",
              "\n",
              "    <script>\n",
              "      const buttonEl =\n",
              "        document.querySelector('#df-0327d45e-342c-4608-a11f-591efe6d2ad2 button.colab-df-convert');\n",
              "      buttonEl.style.display =\n",
              "        google.colab.kernel.accessAllowed ? 'block' : 'none';\n",
              "\n",
              "      async function convertToInteractive(key) {\n",
              "        const element = document.querySelector('#df-0327d45e-342c-4608-a11f-591efe6d2ad2');\n",
              "        const dataTable =\n",
              "          await google.colab.kernel.invokeFunction('convertToInteractive',\n",
              "                                                    [key], {});\n",
              "        if (!dataTable) return;\n",
              "\n",
              "        const docLinkHtml = 'Like what you see? Visit the ' +\n",
              "          '<a target=\"_blank\" href=https://colab.research.google.com/notebooks/data_table.ipynb>data table notebook</a>'\n",
              "          + ' to learn more about interactive tables.';\n",
              "        element.innerHTML = '';\n",
              "        dataTable['output_type'] = 'display_data';\n",
              "        await google.colab.output.renderOutput(dataTable, element);\n",
              "        const docLink = document.createElement('div');\n",
              "        docLink.innerHTML = docLinkHtml;\n",
              "        element.appendChild(docLink);\n",
              "      }\n",
              "    </script>\n",
              "  </div>\n",
              "\n",
              "\n",
              "<div id=\"df-4a5b66b9-5fcb-4a6f-942d-3a2bf0bd33b5\">\n",
              "  <button class=\"colab-df-quickchart\" onclick=\"quickchart('df-4a5b66b9-5fcb-4a6f-942d-3a2bf0bd33b5')\"\n",
              "            title=\"Suggest charts\"\n",
              "            style=\"display:none;\">\n",
              "\n",
              "<svg xmlns=\"http://www.w3.org/2000/svg\" height=\"24px\"viewBox=\"0 0 24 24\"\n",
              "     width=\"24px\">\n",
              "    <g>\n",
              "        <path d=\"M19 3H5c-1.1 0-2 .9-2 2v14c0 1.1.9 2 2 2h14c1.1 0 2-.9 2-2V5c0-1.1-.9-2-2-2zM9 17H7v-7h2v7zm4 0h-2V7h2v10zm4 0h-2v-4h2v4z\"/>\n",
              "    </g>\n",
              "</svg>\n",
              "  </button>\n",
              "\n",
              "<style>\n",
              "  .colab-df-quickchart {\n",
              "      --bg-color: #E8F0FE;\n",
              "      --fill-color: #1967D2;\n",
              "      --hover-bg-color: #E2EBFA;\n",
              "      --hover-fill-color: #174EA6;\n",
              "      --disabled-fill-color: #AAA;\n",
              "      --disabled-bg-color: #DDD;\n",
              "  }\n",
              "\n",
              "  [theme=dark] .colab-df-quickchart {\n",
              "      --bg-color: #3B4455;\n",
              "      --fill-color: #D2E3FC;\n",
              "      --hover-bg-color: #434B5C;\n",
              "      --hover-fill-color: #FFFFFF;\n",
              "      --disabled-bg-color: #3B4455;\n",
              "      --disabled-fill-color: #666;\n",
              "  }\n",
              "\n",
              "  .colab-df-quickchart {\n",
              "    background-color: var(--bg-color);\n",
              "    border: none;\n",
              "    border-radius: 50%;\n",
              "    cursor: pointer;\n",
              "    display: none;\n",
              "    fill: var(--fill-color);\n",
              "    height: 32px;\n",
              "    padding: 0;\n",
              "    width: 32px;\n",
              "  }\n",
              "\n",
              "  .colab-df-quickchart:hover {\n",
              "    background-color: var(--hover-bg-color);\n",
              "    box-shadow: 0 1px 2px rgba(60, 64, 67, 0.3), 0 1px 3px 1px rgba(60, 64, 67, 0.15);\n",
              "    fill: var(--button-hover-fill-color);\n",
              "  }\n",
              "\n",
              "  .colab-df-quickchart-complete:disabled,\n",
              "  .colab-df-quickchart-complete:disabled:hover {\n",
              "    background-color: var(--disabled-bg-color);\n",
              "    fill: var(--disabled-fill-color);\n",
              "    box-shadow: none;\n",
              "  }\n",
              "\n",
              "  .colab-df-spinner {\n",
              "    border: 2px solid var(--fill-color);\n",
              "    border-color: transparent;\n",
              "    border-bottom-color: var(--fill-color);\n",
              "    animation:\n",
              "      spin 1s steps(1) infinite;\n",
              "  }\n",
              "\n",
              "  @keyframes spin {\n",
              "    0% {\n",
              "      border-color: transparent;\n",
              "      border-bottom-color: var(--fill-color);\n",
              "      border-left-color: var(--fill-color);\n",
              "    }\n",
              "    20% {\n",
              "      border-color: transparent;\n",
              "      border-left-color: var(--fill-color);\n",
              "      border-top-color: var(--fill-color);\n",
              "    }\n",
              "    30% {\n",
              "      border-color: transparent;\n",
              "      border-left-color: var(--fill-color);\n",
              "      border-top-color: var(--fill-color);\n",
              "      border-right-color: var(--fill-color);\n",
              "    }\n",
              "    40% {\n",
              "      border-color: transparent;\n",
              "      border-right-color: var(--fill-color);\n",
              "      border-top-color: var(--fill-color);\n",
              "    }\n",
              "    60% {\n",
              "      border-color: transparent;\n",
              "      border-right-color: var(--fill-color);\n",
              "    }\n",
              "    80% {\n",
              "      border-color: transparent;\n",
              "      border-right-color: var(--fill-color);\n",
              "      border-bottom-color: var(--fill-color);\n",
              "    }\n",
              "    90% {\n",
              "      border-color: transparent;\n",
              "      border-bottom-color: var(--fill-color);\n",
              "    }\n",
              "  }\n",
              "</style>\n",
              "\n",
              "  <script>\n",
              "    async function quickchart(key) {\n",
              "      const quickchartButtonEl =\n",
              "        document.querySelector('#' + key + ' button');\n",
              "      quickchartButtonEl.disabled = true;  // To prevent multiple clicks.\n",
              "      quickchartButtonEl.classList.add('colab-df-spinner');\n",
              "      try {\n",
              "        const charts = await google.colab.kernel.invokeFunction(\n",
              "            'suggestCharts', [key], {});\n",
              "      } catch (error) {\n",
              "        console.error('Error during call to suggestCharts:', error);\n",
              "      }\n",
              "      quickchartButtonEl.classList.remove('colab-df-spinner');\n",
              "      quickchartButtonEl.classList.add('colab-df-quickchart-complete');\n",
              "    }\n",
              "    (() => {\n",
              "      let quickchartButtonEl =\n",
              "        document.querySelector('#df-4a5b66b9-5fcb-4a6f-942d-3a2bf0bd33b5 button');\n",
              "      quickchartButtonEl.style.display =\n",
              "        google.colab.kernel.accessAllowed ? 'block' : 'none';\n",
              "    })();\n",
              "  </script>\n",
              "</div>\n",
              "\n",
              "    </div>\n",
              "  </div>\n"
            ],
            "application/vnd.google.colaboratory.intrinsic+json": {
              "type": "dataframe",
              "summary": "{\n  \"name\": \"race_proportion(merged_df, filtered_df_condition_1)\",\n  \"rows\": 6,\n  \"fields\": [\n    {\n      \"column\": \"gt_race\",\n      \"properties\": {\n        \"dtype\": \"string\",\n        \"num_unique_values\": 6,\n        \"samples\": [\n          \"African\",\n          \"Asian\",\n          \"White\"\n        ],\n        \"semantic_type\": \"\",\n        \"description\": \"\"\n      }\n    },\n    {\n      \"column\": \"gt_race_base\",\n      \"properties\": {\n        \"dtype\": \"number\",\n        \"std\": 2079,\n        \"min\": 194,\n        \"max\": 5596,\n        \"num_unique_values\": 6,\n        \"samples\": [\n          814,\n          1072,\n          5596\n        ],\n        \"semantic_type\": \"\",\n        \"description\": \"\"\n      }\n    },\n    {\n      \"column\": \"gt_race_condition\",\n      \"properties\": {\n        \"dtype\": \"number\",\n        \"std\": 456,\n        \"min\": 33,\n        \"max\": 1224,\n        \"num_unique_values\": 6,\n        \"samples\": [\n          164,\n          212,\n          1224\n        ],\n        \"semantic_type\": \"\",\n        \"description\": \"\"\n      }\n    },\n    {\n      \"column\": \"gt_race_proportion\",\n      \"properties\": {\n        \"dtype\": \"number\",\n        \"std\": 7.184593006334225,\n        \"min\": 16.34,\n        \"max\": 36.08,\n        \"num_unique_values\": 6,\n        \"samples\": [\n          20.15,\n          19.78,\n          21.87\n        ],\n        \"semantic_type\": \"\",\n        \"description\": \"\"\n      }\n    }\n  ]\n}"
            }
          },
          "metadata": {},
          "execution_count": 19
        }
      ],
      "source": [
        "# race_proportion(merged_df, filtered_df_condition_1)"
      ]
    },
    {
      "cell_type": "code",
      "execution_count": null,
      "metadata": {
        "id": "Kcfs1XRXnp2c"
      },
      "outputs": [],
      "source": [
        "# race_proportion(df_merged_per_race,filtered_df_condition_1_per_race)"
      ]
    },
    {
      "cell_type": "code",
      "source": [
        "# def get_sampled_df(df,num_samples = 5):\n",
        "#     sampled_df = pd.DataFrame()\n",
        "\n",
        "#     for name, group in df.groupby('gt_race'):\n",
        "#         sampled_group = group.sample(n=5, replace=True)  # replace=True to allow sampling with replacement if group has fewer than 5 rows\n",
        "#         sampled_df = pd.concat([sampled_df, sampled_group], ignore_index=True)\n",
        "\n",
        "#     return sampled_df\n",
        "\n",
        "def stratified_sample(df, n = 42):\n",
        "    # Calculate the number of samples needed for each combination of gt_race and gt_emotion\n",
        "    num_races = df['gt_race'].nunique()\n",
        "    num_emotions = df['gt_emotion'].nunique()\n",
        "\n",
        "    # Calculate the number of samples needed for each combination\n",
        "    samples_per_combination = max(1, n // (num_races * num_emotions))\n",
        "\n",
        "    # Group by gt_race and gt_emotion and sample\n",
        "    sampled_df = df.groupby(['gt_race', 'gt_emotion']).apply(lambda x: x.sample(samples_per_combination, replace=True)).reset_index(drop=True)\n",
        "\n",
        "    # If we have more samples than needed, we sample again to trim down to n samples\n",
        "    if len(sampled_df) > n:\n",
        "        sampled_df = sampled_df.sample(n)\n",
        "\n",
        "    return sampled_df"
      ],
      "metadata": {
        "id": "hkQqrlav869i"
      },
      "execution_count": 15,
      "outputs": []
    },
    {
      "cell_type": "code",
      "source": [
        "sampled_df_condition_1 = stratified_sample(filtered_df_condition_1)"
      ],
      "metadata": {
        "id": "hW__GJaW9cLx"
      },
      "execution_count": 16,
      "outputs": []
    },
    {
      "cell_type": "markdown",
      "metadata": {
        "id": "Py1vQxa8p9ZB"
      },
      "source": [
        "### Condition 2: Images that are nok in non_dann, ok in dann and dann_ewc"
      ]
    },
    {
      "cell_type": "code",
      "execution_count": 17,
      "metadata": {
        "id": "wS32j9GPp6Gq"
      },
      "outputs": [],
      "source": [
        "condition_2 = (merged_df['gt_emotion'] != merged_df['p_emotion_non_dann']) & (merged_df['gt_emotion'] == merged_df['p_emotion_dann']) & ( merged_df['gt_emotion'] == merged_df['p_emotion_ewc_dann'])"
      ]
    },
    {
      "cell_type": "code",
      "execution_count": 18,
      "metadata": {
        "colab": {
          "base_uri": "https://localhost:8080/"
        },
        "id": "kMNtlg0XrwER",
        "outputId": "6a3fcedf-47ab-452a-f1a7-905e67ff3166"
      },
      "outputs": [
        {
          "output_type": "execute_result",
          "data": {
            "text/plain": [
              "((278, 6),\n",
              "                       image gt_emotion  gt_race p_emotion_non_dann  \\\n",
              " 18        afraid_man_41.jpg    Neutral  African            Disgust   \n",
              " 31   amazed_African_141.jpg    Neutral  African            Disgust   \n",
              " 242    amazed_black_160.jpg    Neutral  African                Sad   \n",
              " 247    amazed_black_243.jpg    Neutral   Latino              Angry   \n",
              " 267     amazed_boss_204.jpg      Angry    Asian              Happy   \n",
              " \n",
              "     p_emotion_dann p_emotion_ewc_dann  \n",
              " 18         Neutral            Neutral  \n",
              " 31         Neutral            Neutral  \n",
              " 242        Neutral            Neutral  \n",
              " 247        Neutral            Neutral  \n",
              " 267          Angry              Angry  )"
            ]
          },
          "metadata": {},
          "execution_count": 18
        }
      ],
      "source": [
        "filtered_df_condition_2 = merged_df[condition_2]\n",
        "filtered_df_condition_2.shape, filtered_df_condition_2.head()"
      ]
    },
    {
      "cell_type": "code",
      "execution_count": 19,
      "metadata": {
        "id": "FpwhaXikykzr",
        "colab": {
          "base_uri": "https://localhost:8080/",
          "height": 677
        },
        "outputId": "a7d00b3f-8410-486f-b0a1-db348b638609"
      },
      "outputs": [
        {
          "output_type": "execute_result",
          "data": {
            "text/plain": [
              "                                     image gt_emotion         gt_race  \\\n",
              "0                      awe_manager_336.jpg      Happy         African   \n",
              "1                       awe_family_109.jpg    Neutral         African   \n",
              "2                 angry_expression_276.jpg      Angry           Asian   \n",
              "3                      awe_chinese_388.jpg      Happy           Asian   \n",
              "4                  astound_chinese_146.jpg    Neutral           Asian   \n",
              "5                     hostile_woman_32.jpg      Angry          Indian   \n",
              "6               anxious_grandfather_76.jpg       Fear          Indian   \n",
              "7                         awe_boss_527.jpg    Neutral          Indian   \n",
              "8                       awe_husband_71.jpg      Happy          Latino   \n",
              "9                     amazed_black_243.jpg    Neutral          Latino   \n",
              "10                   anxious_asian_376.jpg        Sad          Latino   \n",
              "11                   angry_manager_297.jpg   Surprise          Latino   \n",
              "12               disgust_president_324.jpg    Neutral  Middle Eastern   \n",
              "13                angry_expression_109.jpg      Angry           White   \n",
              "14                  boring_manager_166.jpg    Disgust           White   \n",
              "15  frightened_by_the_movie_couple_205.jpg       Fear           White   \n",
              "16                      awe_infant_513.jpg      Happy           White   \n",
              "17                  awe_expression_828.jpg    Neutral           White   \n",
              "18              heartbroken_mother_691.jpg        Sad           White   \n",
              "19            ecstatic_grandfather_920.jpg   Surprise           White   \n",
              "\n",
              "   p_emotion_non_dann p_emotion_dann p_emotion_ewc_dann  \n",
              "0             Disgust          Happy              Happy  \n",
              "1            Surprise        Neutral            Neutral  \n",
              "2               Happy          Angry              Angry  \n",
              "3             Disgust          Happy              Happy  \n",
              "4            Surprise        Neutral            Neutral  \n",
              "5               Happy          Angry              Angry  \n",
              "6             Neutral           Fear               Fear  \n",
              "7             Disgust        Neutral            Neutral  \n",
              "8            Surprise          Happy              Happy  \n",
              "9               Angry        Neutral            Neutral  \n",
              "10              Happy            Sad                Sad  \n",
              "11              Angry       Surprise           Surprise  \n",
              "12           Surprise        Neutral            Neutral  \n",
              "13              Happy          Angry              Angry  \n",
              "14              Angry        Disgust            Disgust  \n",
              "15              Happy           Fear               Fear  \n",
              "16            Disgust          Happy              Happy  \n",
              "17               Fear        Neutral            Neutral  \n",
              "18            Disgust            Sad                Sad  \n",
              "19                Sad       Surprise           Surprise  "
            ],
            "text/html": [
              "\n",
              "  <div id=\"df-646647b3-7658-489f-8a9e-a56bd097736c\" class=\"colab-df-container\">\n",
              "    <div>\n",
              "<style scoped>\n",
              "    .dataframe tbody tr th:only-of-type {\n",
              "        vertical-align: middle;\n",
              "    }\n",
              "\n",
              "    .dataframe tbody tr th {\n",
              "        vertical-align: top;\n",
              "    }\n",
              "\n",
              "    .dataframe thead th {\n",
              "        text-align: right;\n",
              "    }\n",
              "</style>\n",
              "<table border=\"1\" class=\"dataframe\">\n",
              "  <thead>\n",
              "    <tr style=\"text-align: right;\">\n",
              "      <th></th>\n",
              "      <th>image</th>\n",
              "      <th>gt_emotion</th>\n",
              "      <th>gt_race</th>\n",
              "      <th>p_emotion_non_dann</th>\n",
              "      <th>p_emotion_dann</th>\n",
              "      <th>p_emotion_ewc_dann</th>\n",
              "    </tr>\n",
              "  </thead>\n",
              "  <tbody>\n",
              "    <tr>\n",
              "      <th>0</th>\n",
              "      <td>awe_manager_336.jpg</td>\n",
              "      <td>Happy</td>\n",
              "      <td>African</td>\n",
              "      <td>Disgust</td>\n",
              "      <td>Happy</td>\n",
              "      <td>Happy</td>\n",
              "    </tr>\n",
              "    <tr>\n",
              "      <th>1</th>\n",
              "      <td>awe_family_109.jpg</td>\n",
              "      <td>Neutral</td>\n",
              "      <td>African</td>\n",
              "      <td>Surprise</td>\n",
              "      <td>Neutral</td>\n",
              "      <td>Neutral</td>\n",
              "    </tr>\n",
              "    <tr>\n",
              "      <th>2</th>\n",
              "      <td>angry_expression_276.jpg</td>\n",
              "      <td>Angry</td>\n",
              "      <td>Asian</td>\n",
              "      <td>Happy</td>\n",
              "      <td>Angry</td>\n",
              "      <td>Angry</td>\n",
              "    </tr>\n",
              "    <tr>\n",
              "      <th>3</th>\n",
              "      <td>awe_chinese_388.jpg</td>\n",
              "      <td>Happy</td>\n",
              "      <td>Asian</td>\n",
              "      <td>Disgust</td>\n",
              "      <td>Happy</td>\n",
              "      <td>Happy</td>\n",
              "    </tr>\n",
              "    <tr>\n",
              "      <th>4</th>\n",
              "      <td>astound_chinese_146.jpg</td>\n",
              "      <td>Neutral</td>\n",
              "      <td>Asian</td>\n",
              "      <td>Surprise</td>\n",
              "      <td>Neutral</td>\n",
              "      <td>Neutral</td>\n",
              "    </tr>\n",
              "    <tr>\n",
              "      <th>5</th>\n",
              "      <td>hostile_woman_32.jpg</td>\n",
              "      <td>Angry</td>\n",
              "      <td>Indian</td>\n",
              "      <td>Happy</td>\n",
              "      <td>Angry</td>\n",
              "      <td>Angry</td>\n",
              "    </tr>\n",
              "    <tr>\n",
              "      <th>6</th>\n",
              "      <td>anxious_grandfather_76.jpg</td>\n",
              "      <td>Fear</td>\n",
              "      <td>Indian</td>\n",
              "      <td>Neutral</td>\n",
              "      <td>Fear</td>\n",
              "      <td>Fear</td>\n",
              "    </tr>\n",
              "    <tr>\n",
              "      <th>7</th>\n",
              "      <td>awe_boss_527.jpg</td>\n",
              "      <td>Neutral</td>\n",
              "      <td>Indian</td>\n",
              "      <td>Disgust</td>\n",
              "      <td>Neutral</td>\n",
              "      <td>Neutral</td>\n",
              "    </tr>\n",
              "    <tr>\n",
              "      <th>8</th>\n",
              "      <td>awe_husband_71.jpg</td>\n",
              "      <td>Happy</td>\n",
              "      <td>Latino</td>\n",
              "      <td>Surprise</td>\n",
              "      <td>Happy</td>\n",
              "      <td>Happy</td>\n",
              "    </tr>\n",
              "    <tr>\n",
              "      <th>9</th>\n",
              "      <td>amazed_black_243.jpg</td>\n",
              "      <td>Neutral</td>\n",
              "      <td>Latino</td>\n",
              "      <td>Angry</td>\n",
              "      <td>Neutral</td>\n",
              "      <td>Neutral</td>\n",
              "    </tr>\n",
              "    <tr>\n",
              "      <th>10</th>\n",
              "      <td>anxious_asian_376.jpg</td>\n",
              "      <td>Sad</td>\n",
              "      <td>Latino</td>\n",
              "      <td>Happy</td>\n",
              "      <td>Sad</td>\n",
              "      <td>Sad</td>\n",
              "    </tr>\n",
              "    <tr>\n",
              "      <th>11</th>\n",
              "      <td>angry_manager_297.jpg</td>\n",
              "      <td>Surprise</td>\n",
              "      <td>Latino</td>\n",
              "      <td>Angry</td>\n",
              "      <td>Surprise</td>\n",
              "      <td>Surprise</td>\n",
              "    </tr>\n",
              "    <tr>\n",
              "      <th>12</th>\n",
              "      <td>disgust_president_324.jpg</td>\n",
              "      <td>Neutral</td>\n",
              "      <td>Middle Eastern</td>\n",
              "      <td>Surprise</td>\n",
              "      <td>Neutral</td>\n",
              "      <td>Neutral</td>\n",
              "    </tr>\n",
              "    <tr>\n",
              "      <th>13</th>\n",
              "      <td>angry_expression_109.jpg</td>\n",
              "      <td>Angry</td>\n",
              "      <td>White</td>\n",
              "      <td>Happy</td>\n",
              "      <td>Angry</td>\n",
              "      <td>Angry</td>\n",
              "    </tr>\n",
              "    <tr>\n",
              "      <th>14</th>\n",
              "      <td>boring_manager_166.jpg</td>\n",
              "      <td>Disgust</td>\n",
              "      <td>White</td>\n",
              "      <td>Angry</td>\n",
              "      <td>Disgust</td>\n",
              "      <td>Disgust</td>\n",
              "    </tr>\n",
              "    <tr>\n",
              "      <th>15</th>\n",
              "      <td>frightened_by_the_movie_couple_205.jpg</td>\n",
              "      <td>Fear</td>\n",
              "      <td>White</td>\n",
              "      <td>Happy</td>\n",
              "      <td>Fear</td>\n",
              "      <td>Fear</td>\n",
              "    </tr>\n",
              "    <tr>\n",
              "      <th>16</th>\n",
              "      <td>awe_infant_513.jpg</td>\n",
              "      <td>Happy</td>\n",
              "      <td>White</td>\n",
              "      <td>Disgust</td>\n",
              "      <td>Happy</td>\n",
              "      <td>Happy</td>\n",
              "    </tr>\n",
              "    <tr>\n",
              "      <th>17</th>\n",
              "      <td>awe_expression_828.jpg</td>\n",
              "      <td>Neutral</td>\n",
              "      <td>White</td>\n",
              "      <td>Fear</td>\n",
              "      <td>Neutral</td>\n",
              "      <td>Neutral</td>\n",
              "    </tr>\n",
              "    <tr>\n",
              "      <th>18</th>\n",
              "      <td>heartbroken_mother_691.jpg</td>\n",
              "      <td>Sad</td>\n",
              "      <td>White</td>\n",
              "      <td>Disgust</td>\n",
              "      <td>Sad</td>\n",
              "      <td>Sad</td>\n",
              "    </tr>\n",
              "    <tr>\n",
              "      <th>19</th>\n",
              "      <td>ecstatic_grandfather_920.jpg</td>\n",
              "      <td>Surprise</td>\n",
              "      <td>White</td>\n",
              "      <td>Sad</td>\n",
              "      <td>Surprise</td>\n",
              "      <td>Surprise</td>\n",
              "    </tr>\n",
              "  </tbody>\n",
              "</table>\n",
              "</div>\n",
              "    <div class=\"colab-df-buttons\">\n",
              "\n",
              "  <div class=\"colab-df-container\">\n",
              "    <button class=\"colab-df-convert\" onclick=\"convertToInteractive('df-646647b3-7658-489f-8a9e-a56bd097736c')\"\n",
              "            title=\"Convert this dataframe to an interactive table.\"\n",
              "            style=\"display:none;\">\n",
              "\n",
              "  <svg xmlns=\"http://www.w3.org/2000/svg\" height=\"24px\" viewBox=\"0 -960 960 960\">\n",
              "    <path d=\"M120-120v-720h720v720H120Zm60-500h600v-160H180v160Zm220 220h160v-160H400v160Zm0 220h160v-160H400v160ZM180-400h160v-160H180v160Zm440 0h160v-160H620v160ZM180-180h160v-160H180v160Zm440 0h160v-160H620v160Z\"/>\n",
              "  </svg>\n",
              "    </button>\n",
              "\n",
              "  <style>\n",
              "    .colab-df-container {\n",
              "      display:flex;\n",
              "      gap: 12px;\n",
              "    }\n",
              "\n",
              "    .colab-df-convert {\n",
              "      background-color: #E8F0FE;\n",
              "      border: none;\n",
              "      border-radius: 50%;\n",
              "      cursor: pointer;\n",
              "      display: none;\n",
              "      fill: #1967D2;\n",
              "      height: 32px;\n",
              "      padding: 0 0 0 0;\n",
              "      width: 32px;\n",
              "    }\n",
              "\n",
              "    .colab-df-convert:hover {\n",
              "      background-color: #E2EBFA;\n",
              "      box-shadow: 0px 1px 2px rgba(60, 64, 67, 0.3), 0px 1px 3px 1px rgba(60, 64, 67, 0.15);\n",
              "      fill: #174EA6;\n",
              "    }\n",
              "\n",
              "    .colab-df-buttons div {\n",
              "      margin-bottom: 4px;\n",
              "    }\n",
              "\n",
              "    [theme=dark] .colab-df-convert {\n",
              "      background-color: #3B4455;\n",
              "      fill: #D2E3FC;\n",
              "    }\n",
              "\n",
              "    [theme=dark] .colab-df-convert:hover {\n",
              "      background-color: #434B5C;\n",
              "      box-shadow: 0px 1px 3px 1px rgba(0, 0, 0, 0.15);\n",
              "      filter: drop-shadow(0px 1px 2px rgba(0, 0, 0, 0.3));\n",
              "      fill: #FFFFFF;\n",
              "    }\n",
              "  </style>\n",
              "\n",
              "    <script>\n",
              "      const buttonEl =\n",
              "        document.querySelector('#df-646647b3-7658-489f-8a9e-a56bd097736c button.colab-df-convert');\n",
              "      buttonEl.style.display =\n",
              "        google.colab.kernel.accessAllowed ? 'block' : 'none';\n",
              "\n",
              "      async function convertToInteractive(key) {\n",
              "        const element = document.querySelector('#df-646647b3-7658-489f-8a9e-a56bd097736c');\n",
              "        const dataTable =\n",
              "          await google.colab.kernel.invokeFunction('convertToInteractive',\n",
              "                                                    [key], {});\n",
              "        if (!dataTable) return;\n",
              "\n",
              "        const docLinkHtml = 'Like what you see? Visit the ' +\n",
              "          '<a target=\"_blank\" href=https://colab.research.google.com/notebooks/data_table.ipynb>data table notebook</a>'\n",
              "          + ' to learn more about interactive tables.';\n",
              "        element.innerHTML = '';\n",
              "        dataTable['output_type'] = 'display_data';\n",
              "        await google.colab.output.renderOutput(dataTable, element);\n",
              "        const docLink = document.createElement('div');\n",
              "        docLink.innerHTML = docLinkHtml;\n",
              "        element.appendChild(docLink);\n",
              "      }\n",
              "    </script>\n",
              "  </div>\n",
              "\n",
              "\n",
              "<div id=\"df-6b24f7ef-0ad5-44cc-b0d6-789a31981460\">\n",
              "  <button class=\"colab-df-quickchart\" onclick=\"quickchart('df-6b24f7ef-0ad5-44cc-b0d6-789a31981460')\"\n",
              "            title=\"Suggest charts\"\n",
              "            style=\"display:none;\">\n",
              "\n",
              "<svg xmlns=\"http://www.w3.org/2000/svg\" height=\"24px\"viewBox=\"0 0 24 24\"\n",
              "     width=\"24px\">\n",
              "    <g>\n",
              "        <path d=\"M19 3H5c-1.1 0-2 .9-2 2v14c0 1.1.9 2 2 2h14c1.1 0 2-.9 2-2V5c0-1.1-.9-2-2-2zM9 17H7v-7h2v7zm4 0h-2V7h2v10zm4 0h-2v-4h2v4z\"/>\n",
              "    </g>\n",
              "</svg>\n",
              "  </button>\n",
              "\n",
              "<style>\n",
              "  .colab-df-quickchart {\n",
              "      --bg-color: #E8F0FE;\n",
              "      --fill-color: #1967D2;\n",
              "      --hover-bg-color: #E2EBFA;\n",
              "      --hover-fill-color: #174EA6;\n",
              "      --disabled-fill-color: #AAA;\n",
              "      --disabled-bg-color: #DDD;\n",
              "  }\n",
              "\n",
              "  [theme=dark] .colab-df-quickchart {\n",
              "      --bg-color: #3B4455;\n",
              "      --fill-color: #D2E3FC;\n",
              "      --hover-bg-color: #434B5C;\n",
              "      --hover-fill-color: #FFFFFF;\n",
              "      --disabled-bg-color: #3B4455;\n",
              "      --disabled-fill-color: #666;\n",
              "  }\n",
              "\n",
              "  .colab-df-quickchart {\n",
              "    background-color: var(--bg-color);\n",
              "    border: none;\n",
              "    border-radius: 50%;\n",
              "    cursor: pointer;\n",
              "    display: none;\n",
              "    fill: var(--fill-color);\n",
              "    height: 32px;\n",
              "    padding: 0;\n",
              "    width: 32px;\n",
              "  }\n",
              "\n",
              "  .colab-df-quickchart:hover {\n",
              "    background-color: var(--hover-bg-color);\n",
              "    box-shadow: 0 1px 2px rgba(60, 64, 67, 0.3), 0 1px 3px 1px rgba(60, 64, 67, 0.15);\n",
              "    fill: var(--button-hover-fill-color);\n",
              "  }\n",
              "\n",
              "  .colab-df-quickchart-complete:disabled,\n",
              "  .colab-df-quickchart-complete:disabled:hover {\n",
              "    background-color: var(--disabled-bg-color);\n",
              "    fill: var(--disabled-fill-color);\n",
              "    box-shadow: none;\n",
              "  }\n",
              "\n",
              "  .colab-df-spinner {\n",
              "    border: 2px solid var(--fill-color);\n",
              "    border-color: transparent;\n",
              "    border-bottom-color: var(--fill-color);\n",
              "    animation:\n",
              "      spin 1s steps(1) infinite;\n",
              "  }\n",
              "\n",
              "  @keyframes spin {\n",
              "    0% {\n",
              "      border-color: transparent;\n",
              "      border-bottom-color: var(--fill-color);\n",
              "      border-left-color: var(--fill-color);\n",
              "    }\n",
              "    20% {\n",
              "      border-color: transparent;\n",
              "      border-left-color: var(--fill-color);\n",
              "      border-top-color: var(--fill-color);\n",
              "    }\n",
              "    30% {\n",
              "      border-color: transparent;\n",
              "      border-left-color: var(--fill-color);\n",
              "      border-top-color: var(--fill-color);\n",
              "      border-right-color: var(--fill-color);\n",
              "    }\n",
              "    40% {\n",
              "      border-color: transparent;\n",
              "      border-right-color: var(--fill-color);\n",
              "      border-top-color: var(--fill-color);\n",
              "    }\n",
              "    60% {\n",
              "      border-color: transparent;\n",
              "      border-right-color: var(--fill-color);\n",
              "    }\n",
              "    80% {\n",
              "      border-color: transparent;\n",
              "      border-right-color: var(--fill-color);\n",
              "      border-bottom-color: var(--fill-color);\n",
              "    }\n",
              "    90% {\n",
              "      border-color: transparent;\n",
              "      border-bottom-color: var(--fill-color);\n",
              "    }\n",
              "  }\n",
              "</style>\n",
              "\n",
              "  <script>\n",
              "    async function quickchart(key) {\n",
              "      const quickchartButtonEl =\n",
              "        document.querySelector('#' + key + ' button');\n",
              "      quickchartButtonEl.disabled = true;  // To prevent multiple clicks.\n",
              "      quickchartButtonEl.classList.add('colab-df-spinner');\n",
              "      try {\n",
              "        const charts = await google.colab.kernel.invokeFunction(\n",
              "            'suggestCharts', [key], {});\n",
              "      } catch (error) {\n",
              "        console.error('Error during call to suggestCharts:', error);\n",
              "      }\n",
              "      quickchartButtonEl.classList.remove('colab-df-spinner');\n",
              "      quickchartButtonEl.classList.add('colab-df-quickchart-complete');\n",
              "    }\n",
              "    (() => {\n",
              "      let quickchartButtonEl =\n",
              "        document.querySelector('#df-6b24f7ef-0ad5-44cc-b0d6-789a31981460 button');\n",
              "      quickchartButtonEl.style.display =\n",
              "        google.colab.kernel.accessAllowed ? 'block' : 'none';\n",
              "    })();\n",
              "  </script>\n",
              "</div>\n",
              "\n",
              "  <div id=\"id_bcf41a4c-9b70-4101-9e59-6c63f565a344\">\n",
              "    <style>\n",
              "      .colab-df-generate {\n",
              "        background-color: #E8F0FE;\n",
              "        border: none;\n",
              "        border-radius: 50%;\n",
              "        cursor: pointer;\n",
              "        display: none;\n",
              "        fill: #1967D2;\n",
              "        height: 32px;\n",
              "        padding: 0 0 0 0;\n",
              "        width: 32px;\n",
              "      }\n",
              "\n",
              "      .colab-df-generate:hover {\n",
              "        background-color: #E2EBFA;\n",
              "        box-shadow: 0px 1px 2px rgba(60, 64, 67, 0.3), 0px 1px 3px 1px rgba(60, 64, 67, 0.15);\n",
              "        fill: #174EA6;\n",
              "      }\n",
              "\n",
              "      [theme=dark] .colab-df-generate {\n",
              "        background-color: #3B4455;\n",
              "        fill: #D2E3FC;\n",
              "      }\n",
              "\n",
              "      [theme=dark] .colab-df-generate:hover {\n",
              "        background-color: #434B5C;\n",
              "        box-shadow: 0px 1px 3px 1px rgba(0, 0, 0, 0.15);\n",
              "        filter: drop-shadow(0px 1px 2px rgba(0, 0, 0, 0.3));\n",
              "        fill: #FFFFFF;\n",
              "      }\n",
              "    </style>\n",
              "    <button class=\"colab-df-generate\" onclick=\"generateWithVariable('sampled_df_condition_2')\"\n",
              "            title=\"Generate code using this dataframe.\"\n",
              "            style=\"display:none;\">\n",
              "\n",
              "  <svg xmlns=\"http://www.w3.org/2000/svg\" height=\"24px\"viewBox=\"0 0 24 24\"\n",
              "       width=\"24px\">\n",
              "    <path d=\"M7,19H8.4L18.45,9,17,7.55,7,17.6ZM5,21V16.75L18.45,3.32a2,2,0,0,1,2.83,0l1.4,1.43a1.91,1.91,0,0,1,.58,1.4,1.91,1.91,0,0,1-.58,1.4L9.25,21ZM18.45,9,17,7.55Zm-12,3A5.31,5.31,0,0,0,4.9,8.1,5.31,5.31,0,0,0,1,6.5,5.31,5.31,0,0,0,4.9,4.9,5.31,5.31,0,0,0,6.5,1,5.31,5.31,0,0,0,8.1,4.9,5.31,5.31,0,0,0,12,6.5,5.46,5.46,0,0,0,6.5,12Z\"/>\n",
              "  </svg>\n",
              "    </button>\n",
              "    <script>\n",
              "      (() => {\n",
              "      const buttonEl =\n",
              "        document.querySelector('#id_bcf41a4c-9b70-4101-9e59-6c63f565a344 button.colab-df-generate');\n",
              "      buttonEl.style.display =\n",
              "        google.colab.kernel.accessAllowed ? 'block' : 'none';\n",
              "\n",
              "      buttonEl.onclick = () => {\n",
              "        google.colab.notebook.generateWithVariable('sampled_df_condition_2');\n",
              "      }\n",
              "      })();\n",
              "    </script>\n",
              "  </div>\n",
              "\n",
              "    </div>\n",
              "  </div>\n"
            ],
            "application/vnd.google.colaboratory.intrinsic+json": {
              "type": "dataframe",
              "variable_name": "sampled_df_condition_2",
              "summary": "{\n  \"name\": \"sampled_df_condition_2\",\n  \"rows\": 20,\n  \"fields\": [\n    {\n      \"column\": \"image\",\n      \"properties\": {\n        \"dtype\": \"string\",\n        \"num_unique_values\": 20,\n        \"samples\": [\n          \"awe_manager_336.jpg\",\n          \"awe_expression_828.jpg\",\n          \"frightened_by_the_movie_couple_205.jpg\"\n        ],\n        \"semantic_type\": \"\",\n        \"description\": \"\"\n      }\n    },\n    {\n      \"column\": \"gt_emotion\",\n      \"properties\": {\n        \"dtype\": \"category\",\n        \"num_unique_values\": 7,\n        \"samples\": [\n          \"Happy\",\n          \"Neutral\",\n          \"Surprise\"\n        ],\n        \"semantic_type\": \"\",\n        \"description\": \"\"\n      }\n    },\n    {\n      \"column\": \"gt_race\",\n      \"properties\": {\n        \"dtype\": \"category\",\n        \"num_unique_values\": 6,\n        \"samples\": [\n          \"African\",\n          \"Asian\",\n          \"White\"\n        ],\n        \"semantic_type\": \"\",\n        \"description\": \"\"\n      }\n    },\n    {\n      \"column\": \"p_emotion_non_dann\",\n      \"properties\": {\n        \"dtype\": \"category\",\n        \"num_unique_values\": 7,\n        \"samples\": [\n          \"Disgust\",\n          \"Surprise\",\n          \"Fear\"\n        ],\n        \"semantic_type\": \"\",\n        \"description\": \"\"\n      }\n    },\n    {\n      \"column\": \"p_emotion_dann\",\n      \"properties\": {\n        \"dtype\": \"category\",\n        \"num_unique_values\": 7,\n        \"samples\": [\n          \"Happy\",\n          \"Neutral\",\n          \"Surprise\"\n        ],\n        \"semantic_type\": \"\",\n        \"description\": \"\"\n      }\n    },\n    {\n      \"column\": \"p_emotion_ewc_dann\",\n      \"properties\": {\n        \"dtype\": \"category\",\n        \"num_unique_values\": 7,\n        \"samples\": [\n          \"Happy\",\n          \"Neutral\",\n          \"Surprise\"\n        ],\n        \"semantic_type\": \"\",\n        \"description\": \"\"\n      }\n    }\n  ]\n}"
            }
          },
          "metadata": {},
          "execution_count": 19
        }
      ],
      "source": [
        "# sampled_df_condition_2 = get_sampled_df(filtered_df_condition_2)\n",
        "sampled_df_condition_2 = stratified_sample(filtered_df_condition_2)\n",
        "sampled_df_condition_2"
      ]
    },
    {
      "cell_type": "markdown",
      "source": [
        "### Condition3. Images that are nok in non_dann, nok in dann and ok in dann_ewc\n"
      ],
      "metadata": {
        "id": "EUga8PaCFgI6"
      }
    },
    {
      "cell_type": "code",
      "source": [
        "condition_3 = (merged_df['gt_emotion'] != merged_df['p_emotion_non_dann']) & (merged_df['gt_emotion'] != merged_df['p_emotion_dann']) & ( merged_df['gt_emotion'] == merged_df['p_emotion_ewc_dann'])"
      ],
      "metadata": {
        "id": "H2Vs3AChFZxd"
      },
      "execution_count": 20,
      "outputs": []
    },
    {
      "cell_type": "code",
      "source": [
        "filtered_df_condition_3 = merged_df[condition_3]\n",
        "filtered_df_condition_3.shape, filtered_df_condition_3.head()"
      ],
      "metadata": {
        "colab": {
          "base_uri": "https://localhost:8080/"
        },
        "id": "0futtemcFtTO",
        "outputId": "654d8146-7a58-495f-8ccd-99ae9bbf46d8"
      },
      "execution_count": 21,
      "outputs": [
        {
          "output_type": "execute_result",
          "data": {
            "text/plain": [
              "((318, 6),\n",
              "                      image gt_emotion  gt_race p_emotion_non_dann  \\\n",
              " 7         afraid_boy_8.jpg       Fear    White              Angry   \n",
              " 35   amazed_African_19.jpg      Happy  African           Surprise   \n",
              " 39  amazed_African_256.jpg        Sad  African              Angry   \n",
              " 52   amazed_African_47.jpg    Neutral  African                Sad   \n",
              " 61  amazed_African_645.jpg    Neutral  African                Sad   \n",
              " \n",
              "    p_emotion_dann p_emotion_ewc_dann  \n",
              " 7           Angry               Fear  \n",
              " 35       Surprise              Happy  \n",
              " 39       Surprise                Sad  \n",
              " 52            Sad            Neutral  \n",
              " 61       Surprise            Neutral  )"
            ]
          },
          "metadata": {},
          "execution_count": 21
        }
      ]
    },
    {
      "cell_type": "code",
      "source": [
        "sampled_df_condition_3 = stratified_sample(filtered_df_condition_3)\n",
        "sampled_df_condition_3.shape, sampled_df_condition_3.head()"
      ],
      "metadata": {
        "colab": {
          "base_uri": "https://localhost:8080/"
        },
        "id": "LY8TYe0UF3Nm",
        "outputId": "6a73a787-3144-408d-fe08-7d9c78325f89"
      },
      "execution_count": 22,
      "outputs": [
        {
          "output_type": "execute_result",
          "data": {
            "text/plain": [
              "((27, 6),\n",
              "                           image gt_emotion  gt_race p_emotion_non_dann  \\\n",
              " 0          astound_wife_119.jpg      Angry  African              Happy   \n",
              " 1             angry_son_378.jpg      Happy  African                Sad   \n",
              " 2  fighting_grandmother_428.jpg    Neutral  African               Fear   \n",
              " 3        amazed_African_256.jpg        Sad  African              Angry   \n",
              " 4      frightened_asian_305.jpg      Angry    Asian            Neutral   \n",
              " \n",
              "   p_emotion_dann p_emotion_ewc_dann  \n",
              " 0           Fear              Angry  \n",
              " 1            Sad              Happy  \n",
              " 2           Fear            Neutral  \n",
              " 3       Surprise                Sad  \n",
              " 4        Neutral              Angry  )"
            ]
          },
          "metadata": {},
          "execution_count": 22
        }
      ]
    },
    {
      "cell_type": "markdown",
      "source": [
        "### Condition 4. Images that are nok in non_dann, dann_ewc but ok in dann"
      ],
      "metadata": {
        "id": "-VWoe5A9Ir8Y"
      }
    },
    {
      "cell_type": "code",
      "source": [
        "condition_4 = (merged_df['gt_emotion'] != merged_df['p_emotion_non_dann']) & (merged_df['gt_emotion'] == merged_df['p_emotion_dann']) & ( merged_df['gt_emotion'] != merged_df['p_emotion_ewc_dann'])"
      ],
      "metadata": {
        "id": "_nyBjM3eIrRJ"
      },
      "execution_count": 23,
      "outputs": []
    },
    {
      "cell_type": "code",
      "source": [
        "filtered_df_condition_4 = merged_df[condition_4]\n",
        "filtered_df_condition_4.shape, filtered_df_condition_4.head()"
      ],
      "metadata": {
        "colab": {
          "base_uri": "https://localhost:8080/"
        },
        "id": "5RhUtBs-I7CC",
        "outputId": "728482d2-c8e1-4f8c-f4cd-65f2a87f2f09"
      },
      "execution_count": 24,
      "outputs": [
        {
          "output_type": "execute_result",
          "data": {
            "text/plain": [
              "((396, 6),\n",
              "                       image gt_emotion  gt_race p_emotion_non_dann  \\\n",
              " 30   amazed_African_137.jpg    Neutral  African           Surprise   \n",
              " 54    amazed_African_52.jpg    Neutral  African               Fear   \n",
              " 103     amazed_actor_41.jpg      Happy    White              Angry   \n",
              " 153    amazed_actor_825.jpg    Neutral    Asian                Sad   \n",
              " 158     amazed_actor_93.jpg    Neutral   Indian                Sad   \n",
              " \n",
              "     p_emotion_dann p_emotion_ewc_dann  \n",
              " 30         Neutral                Sad  \n",
              " 54         Neutral               Fear  \n",
              " 103          Happy              Angry  \n",
              " 153        Neutral                Sad  \n",
              " 158        Neutral                Sad  )"
            ]
          },
          "metadata": {},
          "execution_count": 24
        }
      ]
    },
    {
      "cell_type": "code",
      "source": [
        "sampled_df_condition_4 = stratified_sample(filtered_df_condition_4)\n",
        "sampled_df_condition_4.shape, sampled_df_condition_4.head()"
      ],
      "metadata": {
        "colab": {
          "base_uri": "https://localhost:8080/"
        },
        "id": "kE33SNHnJDY9",
        "outputId": "22b8e401-48dc-42ec-b49b-82ecb95a0306"
      },
      "execution_count": 25,
      "outputs": [
        {
          "output_type": "execute_result",
          "data": {
            "text/plain": [
              "((24, 6),\n",
              "                          image gt_emotion  gt_race p_emotion_non_dann  \\\n",
              " 0          mad_African_486.jpg      Happy  African              Angry   \n",
              " 1          mad_African_271.jpg    Neutral  African                Sad   \n",
              " 2  hostile_grandmother_141.jpg        Sad  African            Disgust   \n",
              " 3    amazed_expression_216.jpg      Happy    Asian              Angry   \n",
              " 4               awe_boy_50.jpg    Neutral    Asian                Sad   \n",
              " \n",
              "   p_emotion_dann p_emotion_ewc_dann  \n",
              " 0          Happy              Angry  \n",
              " 1        Neutral                Sad  \n",
              " 2            Sad            Neutral  \n",
              " 3          Happy              Angry  \n",
              " 4        Neutral                Sad  )"
            ]
          },
          "metadata": {},
          "execution_count": 25
        }
      ]
    },
    {
      "cell_type": "markdown",
      "source": [
        "### Condition 5. Images which are non_ok on all 3"
      ],
      "metadata": {
        "id": "hIys-xy1MZHr"
      }
    },
    {
      "cell_type": "code",
      "source": [
        "condition_5 = (merged_df['gt_emotion'] != merged_df['p_emotion_non_dann']) & (merged_df['gt_emotion'] != merged_df['p_emotion_dann']) & ( merged_df['gt_emotion'] != merged_df['p_emotion_ewc_dann'])"
      ],
      "metadata": {
        "id": "FhFQ2UIbMfZR"
      },
      "execution_count": 26,
      "outputs": []
    },
    {
      "cell_type": "code",
      "source": [
        "filtered_df_condition_5 = merged_df[condition_5]\n",
        "filtered_df_condition_5.shape, filtered_df_condition_5.head()"
      ],
      "metadata": {
        "colab": {
          "base_uri": "https://localhost:8080/"
        },
        "id": "ZoNP5WoLMlES",
        "outputId": "ae8a470d-4083-476a-adad-91a5a01c218d"
      },
      "execution_count": 27,
      "outputs": [
        {
          "output_type": "execute_result",
          "data": {
            "text/plain": [
              "((4923, 6),\n",
              "                      image gt_emotion  gt_race p_emotion_non_dann  \\\n",
              " 1  afraid_american_238.jpg   Surprise  African               Fear   \n",
              " 2     afraid_asian_103.jpg      Happy    Asian              Angry   \n",
              " 3     afraid_asian_336.jpg   Surprise    Asian            Neutral   \n",
              " 4     afraid_asian_367.jpg   Surprise    Asian            Neutral   \n",
              " 6       afraid_boy_234.jpg        Sad    White           Surprise   \n",
              " \n",
              "   p_emotion_dann p_emotion_ewc_dann  \n",
              " 1        Neutral               Fear  \n",
              " 2          Angry              Angry  \n",
              " 3        Neutral            Neutral  \n",
              " 4        Neutral            Neutral  \n",
              " 6       Surprise            Disgust  )"
            ]
          },
          "metadata": {},
          "execution_count": 27
        }
      ]
    },
    {
      "cell_type": "code",
      "source": [
        "sampled_df_condition_5 = stratified_sample(filtered_df_condition_5)\n",
        "sampled_df_condition_5.shape, sampled_df_condition_5.head()"
      ],
      "metadata": {
        "colab": {
          "base_uri": "https://localhost:8080/"
        },
        "id": "flooBoLGMtLl",
        "outputId": "98ea56af-11aa-4be8-ff91-39dc81ba00fe"
      },
      "execution_count": 28,
      "outputs": [
        {
          "output_type": "execute_result",
          "data": {
            "text/plain": [
              "((40, 6),\n",
              "                         image gt_emotion  gt_race p_emotion_non_dann  \\\n",
              " 0            mad_yang_495.jpg      Angry  African            Neutral   \n",
              " 1  annoyed_grandmother_37.jpg    Disgust  African               Fear   \n",
              " 2       fighting_black_88.jpg       Fear  African            Disgust   \n",
              " 3     astound_student_556.jpg      Happy  African            Disgust   \n",
              " 4       mad_president_241.jpg    Neutral  African            Disgust   \n",
              " \n",
              "   p_emotion_dann p_emotion_ewc_dann  \n",
              " 0        Neutral            Neutral  \n",
              " 1           Fear               Fear  \n",
              " 2       Surprise            Disgust  \n",
              " 3        Disgust                Sad  \n",
              " 4        Disgust            Disgust  )"
            ]
          },
          "metadata": {},
          "execution_count": 28
        }
      ]
    },
    {
      "cell_type": "markdown",
      "source": [
        "### Condition 6. Images that are ok in non_dann, but nok in dann and dann_ewc"
      ],
      "metadata": {
        "id": "5Nxhk7_HAr_x"
      }
    },
    {
      "cell_type": "code",
      "source": [
        "condition_6 = (merged_df['gt_emotion'] == merged_df['p_emotion_non_dann']) & (merged_df['gt_emotion'] != merged_df['p_emotion_dann']) & ( merged_df['gt_emotion'] != merged_df['p_emotion_ewc_dann'])\n",
        "filtered_df_condition_6 = merged_df[condition_6]\n",
        "print(filtered_df_condition_6.shape, filtered_df_condition_6.head())\n",
        "sampled_df_condition_6 = stratified_sample(filtered_df_condition_6)\n",
        "print(sampled_df_condition_6.shape, sampled_df_condition_6.head())"
      ],
      "metadata": {
        "colab": {
          "base_uri": "https://localhost:8080/"
        },
        "id": "R8V_7_EAArf1",
        "outputId": "896103d5-989d-444c-bf5d-cba2513a9659"
      },
      "execution_count": 30,
      "outputs": [
        {
          "output_type": "stream",
          "name": "stdout",
          "text": [
            "(308, 6)                        image gt_emotion  gt_race p_emotion_non_dann  \\\n",
            "0     afraid_African_214.jpg       Fear  African               Fear   \n",
            "144     amazed_actor_775.jpg      Happy   Indian              Happy   \n",
            "148     amazed_actor_796.jpg      Happy   Indian              Happy   \n",
            "166  amazed_american_223.jpg      Happy   Latino              Happy   \n",
            "173  amazed_american_300.jpg      Happy    White              Happy   \n",
            "\n",
            "    p_emotion_dann p_emotion_ewc_dann  \n",
            "0          Neutral            Neutral  \n",
            "144            Sad              Angry  \n",
            "148       Surprise           Surprise  \n",
            "166        Neutral              Angry  \n",
            "173       Surprise           Surprise  \n",
            "(30, 6)                          image gt_emotion  gt_race p_emotion_non_dann  \\\n",
            "0  heartbroken_student_648.jpg      Angry  African              Angry   \n",
            "1         angry_student_78.jpg    Disgust  African            Disgust   \n",
            "2       afraid_African_214.jpg       Fear  African               Fear   \n",
            "3        amazed_family_314.jpg      Happy  African              Happy   \n",
            "4    distressed_father_408.jpg    Neutral  African            Neutral   \n",
            "\n",
            "  p_emotion_dann p_emotion_ewc_dann  \n",
            "0          Happy              Happy  \n",
            "1          Angry              Angry  \n",
            "2        Neutral            Neutral  \n",
            "3       Surprise            Disgust  \n",
            "4       Surprise              Happy  \n"
          ]
        }
      ]
    },
    {
      "cell_type": "markdown",
      "source": [
        "### Condition 7: Images that are ok in non_dann, dann, but nok in dann_ewc"
      ],
      "metadata": {
        "id": "G0Jdb8PSBZsJ"
      }
    },
    {
      "cell_type": "code",
      "source": [
        "condition_7 = (merged_df['gt_emotion'] == merged_df['p_emotion_non_dann']) & (merged_df['gt_emotion'] == merged_df['p_emotion_dann']) & ( merged_df['gt_emotion'] != merged_df['p_emotion_ewc_dann'])\n",
        "filtered_df_condition_7 = merged_df[condition_7]\n",
        "print(filtered_df_condition_7.shape, filtered_df_condition_7.head())\n",
        "sampled_df_condition_7 = stratified_sample(filtered_df_condition_7)\n",
        "print(sampled_df_condition_7.shape, sampled_df_condition_7.head())"
      ],
      "metadata": {
        "colab": {
          "base_uri": "https://localhost:8080/"
        },
        "id": "E8MUaVbzBnqY",
        "outputId": "660b1856-8126-45ac-973f-24cce9e22763"
      },
      "execution_count": 31,
      "outputs": [
        {
          "output_type": "stream",
          "name": "stdout",
          "text": [
            "(200, 6)                       image gt_emotion  gt_race p_emotion_non_dann  \\\n",
            "42   amazed_African_299.jpg    Neutral  African            Neutral   \n",
            "70    amazed_African_88.jpg    Disgust  African            Disgust   \n",
            "107    amazed_actor_441.jpg      Happy    White              Happy   \n",
            "123    amazed_actor_578.jpg      Happy   Indian              Happy   \n",
            "134    amazed_actor_669.jpg      Happy   Indian              Happy   \n",
            "\n",
            "    p_emotion_dann p_emotion_ewc_dann  \n",
            "42         Neutral                Sad  \n",
            "70         Disgust           Surprise  \n",
            "107          Happy           Surprise  \n",
            "123          Happy              Angry  \n",
            "134          Happy            Disgust  \n",
            "(25, 6)                          image gt_emotion  gt_race p_emotion_non_dann  \\\n",
            "0         mad_european_535.jpg    Disgust  African            Disgust   \n",
            "1             awe_boss_532.jpg      Happy  African              Happy   \n",
            "2        awe_president_803.jpg    Neutral  African            Neutral   \n",
            "3      heartbroken_man_774.jpg        Sad  African                Sad   \n",
            "4  heartbroken_teacher_654.jpg   Surprise  African           Surprise   \n",
            "\n",
            "  p_emotion_dann p_emotion_ewc_dann  \n",
            "0        Disgust            Neutral  \n",
            "1          Happy              Angry  \n",
            "2        Neutral                Sad  \n",
            "3            Sad              Happy  \n",
            "4       Surprise               Fear  \n"
          ]
        }
      ]
    },
    {
      "cell_type": "markdown",
      "source": [
        "### Condition 8: Images that are ok in non_dann, dann_ewc, but nok in dann"
      ],
      "metadata": {
        "id": "omN_rstFCEeh"
      }
    },
    {
      "cell_type": "code",
      "source": [
        "condition_8 = (merged_df['gt_emotion'] == merged_df['p_emotion_non_dann']) & (merged_df['gt_emotion'] != merged_df['p_emotion_dann']) & ( merged_df['gt_emotion'] == merged_df['p_emotion_ewc_dann'])\n",
        "filtered_df_condition_8 = merged_df[condition_8]\n",
        "print(filtered_df_condition_8.shape, filtered_df_condition_8.head())\n",
        "sampled_df_condition_8 = stratified_sample(filtered_df_condition_8)\n",
        "print(sampled_df_condition_8.shape, sampled_df_condition_8.head())"
      ],
      "metadata": {
        "colab": {
          "base_uri": "https://localhost:8080/"
        },
        "id": "qBJ_a43TCMnh",
        "outputId": "5e1d7819-b618-485f-c68e-cc010379d158"
      },
      "execution_count": 32,
      "outputs": [
        {
          "output_type": "stream",
          "name": "stdout",
          "text": [
            "(230, 6)                      image gt_emotion  gt_race p_emotion_non_dann  \\\n",
            "36  amazed_African_192.jpg    Neutral    White            Neutral   \n",
            "60  amazed_African_623.jpg      Happy    White              Happy   \n",
            "62  amazed_African_704.jpg      Happy  African              Happy   \n",
            "64   amazed_African_71.jpg      Happy  African              Happy   \n",
            "80      amazed_actor_2.jpg      Happy    White              Happy   \n",
            "\n",
            "   p_emotion_dann p_emotion_ewc_dann  \n",
            "36           Fear            Neutral  \n",
            "60       Surprise              Happy  \n",
            "62        Neutral              Happy  \n",
            "64       Surprise              Happy  \n",
            "80       Surprise              Happy  \n",
            "(25, 6)                         image gt_emotion  gt_race p_emotion_non_dann  \\\n",
            "0     annoyed_African_789.jpg      Angry  African              Angry   \n",
            "1    disgust_european_382.jpg    Disgust  African            Disgust   \n",
            "2       awe_president_341.jpg      Happy  African              Happy   \n",
            "3     distaste_worker_902.jpg    Neutral  African            Neutral   \n",
            "4  shocked_expression_186.jpg        Sad  African                Sad   \n",
            "\n",
            "  p_emotion_dann p_emotion_ewc_dann  \n",
            "0        Disgust              Angry  \n",
            "1          Angry            Disgust  \n",
            "2       Surprise              Happy  \n",
            "3            Sad            Neutral  \n",
            "4        Neutral                Sad  \n"
          ]
        }
      ]
    },
    {
      "cell_type": "markdown",
      "source": [
        "###  Combined dataframe for all conditions\n",
        "To understand the number of images required and saving them"
      ],
      "metadata": {
        "id": "taRgwM9d_Y3u"
      }
    },
    {
      "cell_type": "code",
      "source": [
        "list_sample_df_all_conditions = [sampled_df_condition_1, sampled_df_condition_2, sampled_df_condition_3, sampled_df_condition_4,\n",
        "                                 sampled_df_condition_5, sampled_df_condition_6, sampled_df_condition_7, sampled_df_condition_8]\n",
        "sample_df_all_conditions = pd.concat(list_sample_df_all_conditions, ignore_index = True)"
      ],
      "metadata": {
        "id": "7cN4D502_VCY"
      },
      "execution_count": 33,
      "outputs": []
    },
    {
      "cell_type": "code",
      "source": [
        "sample_df_all_conditions = sample_df_all_conditions.drop_duplicates(subset=['image', 'gt_emotion'], keep='first') # removing duplicates if any"
      ],
      "metadata": {
        "id": "vLESz6doA-Oa"
      },
      "execution_count": 34,
      "outputs": []
    },
    {
      "cell_type": "code",
      "source": [
        "sample_df_all_conditions.shape, sample_df_all_conditions.head()"
      ],
      "metadata": {
        "colab": {
          "base_uri": "https://localhost:8080/"
        },
        "id": "PF-vAC7yAfu_",
        "outputId": "0ad25c9d-9d3b-42e4-c31a-75cf6fabecf6"
      },
      "execution_count": 35,
      "outputs": [
        {
          "output_type": "execute_result",
          "data": {
            "text/plain": [
              "((221, 6),\n",
              "                          image gt_emotion  gt_race p_emotion_non_dann  \\\n",
              " 0            angry_man_111.jpg      Angry  African              Angry   \n",
              " 1  heartbroken_teacher_574.jpg    Disgust  African            Disgust   \n",
              " 2          awe_student_787.jpg      Happy  African              Happy   \n",
              " 3             awe_yang_498.jpg    Neutral  African            Neutral   \n",
              " 4      crying_american_431.jpg        Sad  African                Sad   \n",
              " \n",
              "   p_emotion_dann p_emotion_ewc_dann  \n",
              " 0          Angry              Angry  \n",
              " 1        Disgust            Disgust  \n",
              " 2          Happy              Happy  \n",
              " 3        Neutral            Neutral  \n",
              " 4            Sad                Sad  )"
            ]
          },
          "metadata": {},
          "execution_count": 35
        }
      ]
    },
    {
      "cell_type": "code",
      "source": [
        "sample_df_all_conditions.columns"
      ],
      "metadata": {
        "colab": {
          "base_uri": "https://localhost:8080/"
        },
        "id": "rCrFuebFK7m-",
        "outputId": "adca673f-6106-4da0-c2f8-1c97e63a1fba"
      },
      "execution_count": 36,
      "outputs": [
        {
          "output_type": "execute_result",
          "data": {
            "text/plain": [
              "Index(['image', 'gt_emotion', 'gt_race', 'p_emotion_non_dann',\n",
              "       'p_emotion_dann', 'p_emotion_ewc_dann'],\n",
              "      dtype='object')"
            ]
          },
          "metadata": {},
          "execution_count": 36
        }
      ]
    },
    {
      "cell_type": "markdown",
      "source": [
        "### Saving the combined dataframe for future use"
      ],
      "metadata": {
        "id": "4yxbUYmhB0FU"
      }
    },
    {
      "cell_type": "code",
      "source": [
        "GDRIVE_DEMO_FOLDER = '/content/gdrive/MyDrive/da_demo'\n",
        "DEMO_PATH = Path(GDRIVE_DEMO_FOLDER,'fer')\n",
        "dir_suffix = '27_07' # str(time.strftime(\"%d_%m\"))\n",
        "DEMO_STORAGE_PATH = Path(DEMO_PATH, dir_suffix)"
      ],
      "metadata": {
        "id": "uL8tC-81Bysx"
      },
      "execution_count": 37,
      "outputs": []
    },
    {
      "cell_type": "code",
      "source": [
        "# torch.save(sample_df_all_conditions, Path(DEMO_STORAGE_PATH,'df_sample_c8.pt'))"
      ],
      "metadata": {
        "id": "JZgIx48UCYgc"
      },
      "execution_count": 38,
      "outputs": []
    },
    {
      "cell_type": "code",
      "source": [
        "sample_df_all_conditions.iloc[0,5]"
      ],
      "metadata": {
        "colab": {
          "base_uri": "https://localhost:8080/",
          "height": 35
        },
        "id": "6AfNERLCtItI",
        "outputId": "d2baf600-9112-4f91-e496-b8da11b4b948"
      },
      "execution_count": 40,
      "outputs": [
        {
          "output_type": "execute_result",
          "data": {
            "text/plain": [
              "'Angry'"
            ],
            "application/vnd.google.colaboratory.intrinsic+json": {
              "type": "string"
            }
          },
          "metadata": {},
          "execution_count": 40
        }
      ]
    },
    {
      "cell_type": "markdown",
      "source": [
        "### Saving all files as part of samples"
      ],
      "metadata": {
        "id": "-SPzLTXzDQk7"
      }
    },
    {
      "cell_type": "code",
      "source": [
        "GDRIVE_FOLDER = '/content/gdrive/MyDrive/CV_FER'\n",
        "RACEDS_PATH = Path(GDRIVE_FOLDER,'dataset','RaceTest_EXPW','EXPW_annotated')\n",
        "RACEDS_PATH"
      ],
      "metadata": {
        "colab": {
          "base_uri": "https://localhost:8080/"
        },
        "id": "5FYkjWspEu7t",
        "outputId": "be0312a8-52f1-4015-85bd-ddf12c16be13"
      },
      "execution_count": 43,
      "outputs": [
        {
          "output_type": "execute_result",
          "data": {
            "text/plain": [
              "PosixPath('/content/gdrive/MyDrive/CV_FER/dataset/RaceTest_EXPW/EXPW_annotated')"
            ]
          },
          "metadata": {},
          "execution_count": 43
        }
      ]
    },
    {
      "cell_type": "code",
      "source": [
        "sample_df_all_conditions['image_full_path'] = sample_df_all_conditions.apply(lambda row: Path(RACEDS_PATH, row['gt_emotion'], row['gt_race'], row['image']), axis=1)"
      ],
      "metadata": {
        "id": "qe4tMbLqFEQ5"
      },
      "execution_count": 44,
      "outputs": []
    },
    {
      "cell_type": "code",
      "source": [
        "sample_df_all_conditions.shape, sample_df_all_conditions.head()"
      ],
      "metadata": {
        "colab": {
          "base_uri": "https://localhost:8080/"
        },
        "id": "K3kWoDUhF4CV",
        "outputId": "938f953c-2098-4fe8-a6d8-7a687411c92c"
      },
      "execution_count": 45,
      "outputs": [
        {
          "output_type": "execute_result",
          "data": {
            "text/plain": [
              "((221, 7),\n",
              "                          image gt_emotion  gt_race p_emotion_non_dann  \\\n",
              " 0            angry_man_111.jpg      Angry  African              Angry   \n",
              " 1  heartbroken_teacher_574.jpg    Disgust  African            Disgust   \n",
              " 2          awe_student_787.jpg      Happy  African              Happy   \n",
              " 3             awe_yang_498.jpg    Neutral  African            Neutral   \n",
              " 4      crying_american_431.jpg        Sad  African                Sad   \n",
              " \n",
              "   p_emotion_dann p_emotion_ewc_dann  \\\n",
              " 0          Angry              Angry   \n",
              " 1        Disgust            Disgust   \n",
              " 2          Happy              Happy   \n",
              " 3        Neutral            Neutral   \n",
              " 4            Sad                Sad   \n",
              " \n",
              "                                      image_full_path  \n",
              " 0  /content/gdrive/MyDrive/CV_FER/dataset/RaceTes...  \n",
              " 1  /content/gdrive/MyDrive/CV_FER/dataset/RaceTes...  \n",
              " 2  /content/gdrive/MyDrive/CV_FER/dataset/RaceTes...  \n",
              " 3  /content/gdrive/MyDrive/CV_FER/dataset/RaceTes...  \n",
              " 4  /content/gdrive/MyDrive/CV_FER/dataset/RaceTes...  )"
            ]
          },
          "metadata": {},
          "execution_count": 45
        }
      ]
    },
    {
      "cell_type": "code",
      "source": [
        "# # sample_df_all_conditions.iloc[0,'image_full_path']\n",
        "# sample_df_all_conditions['image_full_path'][0]\n",
        "# Image.open(sample_df_all_conditions['image_full_path'][0]).convert(\"RGB\")"
      ],
      "metadata": {
        "id": "2-kn_dOgHm5C"
      },
      "execution_count": null,
      "outputs": []
    },
    {
      "cell_type": "markdown",
      "source": [
        "### Saving images in PIL format in dataframe column"
      ],
      "metadata": {
        "id": "dwFPqG_6Da87"
      }
    },
    {
      "cell_type": "code",
      "source": [
        "def open_image(path):\n",
        "    try:\n",
        "        return Image.open(path).convert(\"RGB\")\n",
        "    except Exception as e:\n",
        "        print(f\"Error opening image {path}: {e}\")\n",
        "        return None"
      ],
      "metadata": {
        "id": "cw8QWPsps1ro"
      },
      "execution_count": 46,
      "outputs": []
    },
    {
      "cell_type": "code",
      "source": [
        "sample_df_all_conditions['image_pil'] = sample_df_all_conditions['image_full_path'].apply(open_image)"
      ],
      "metadata": {
        "id": "Yx54OcY0DkPx"
      },
      "execution_count": 47,
      "outputs": []
    },
    {
      "cell_type": "code",
      "source": [
        "torch.save(sample_df_all_conditions, Path(DEMO_STORAGE_PATH,'df_sample_c8.pt'))"
      ],
      "metadata": {
        "id": "aYzcvdTLDuU2"
      },
      "execution_count": 48,
      "outputs": []
    },
    {
      "cell_type": "code",
      "source": [
        "transform = transforms.Compose([\n",
        "    transforms.Resize((224, 224)),  # Resize images to 224x224\n",
        "    transforms.ToTensor(),          # Convert images to PyTorch tensors\n",
        "])\n",
        "\n",
        "list_samples = []\n",
        "for index, row in sample_df_all_conditions.iterrows():\n",
        "    # go to the path, open the image in PIL, apply transforms # save information in a list\n",
        "    # information to save image_name, transformed_image, emotoin and race\n",
        "    # img_cv2 = cv2.imread(row['image_full_path']) # opening the image\n",
        "    # img_rgb = cv2.cvtColor(img_cv2, cv2.COLOR_BGR2RGB)\n",
        "    # img_pil = Image.fromarray(img_rgb)\n",
        "    img_pil =  Image.open(row['image_full_path']).convert(\"RGB\")\n",
        "    row_image_transformed = transform(img_pil) # row image transformed\n",
        "    # list_samples.append((row['image'],row_image_transformed,row['gt_emotion'],row['gt_race']))\n",
        "    list_samples.append((row['image'],row_image_transformed,row['gt_emotion'],row['gt_race'],row['p_emotion_non_dann'],row['p_emotion_dann'],row['p_emotion_ewc_dann']))\n"
      ],
      "metadata": {
        "id": "dttRmRq7HghN"
      },
      "execution_count": 49,
      "outputs": []
    },
    {
      "cell_type": "code",
      "source": [
        "# torch.save(list_samples, Path(DEMO_STORAGE_PATH,'list_samples_c8.pt'))"
      ],
      "metadata": {
        "id": "uMczBThXGixO"
      },
      "execution_count": 50,
      "outputs": []
    },
    {
      "cell_type": "markdown",
      "metadata": {
        "id": "N95u-WWlnDck"
      },
      "source": [
        "## Generic Dataset and Dataloader creator"
      ]
    },
    {
      "cell_type": "code",
      "execution_count": null,
      "metadata": {
        "id": "Yv4iSD4Yo7tA"
      },
      "outputs": [],
      "source": [
        "GDRIVE_FOLDER = '/content/gdrive/MyDrive/CV_FER'\n",
        "RACEDS_PATH = Path(GDRIVE_FOLDER,'dataset','RaceTest_EXPW','EXPW_annotated')"
      ]
    },
    {
      "cell_type": "code",
      "execution_count": null,
      "metadata": {
        "colab": {
          "base_uri": "https://localhost:8080/",
          "height": 373
        },
        "id": "kDNyhq-Rprbw",
        "outputId": "0ab617a8-f68d-4b1d-b717-7f6d7ba720c5"
      },
      "outputs": [
        {
          "output_type": "stream",
          "name": "stdout",
          "text": [
            "/content/gdrive/MyDrive/CV_FER/dataset/RaceTest_EXPW/EXPW_annotated/Angry/Indian/mad_woman_95.jpg\n"
          ]
        },
        {
          "output_type": "execute_result",
          "data": {
            "text/plain": [
              "<PIL.Image.Image image mode=RGB size=507x338>"
            ],
            "image/png": "[encoded data removed]",
            "image/jpeg": "[encoded data removed]"
          },
          "metadata": {},
          "execution_count": 4
        }
      ],
      "source": [
        "emotion = 'Angry'\n",
        "race = 'Indian'\n",
        "image_file_name = 'mad_woman_95.jpg'\n",
        "image_full_path = Path(RACEDS_PATH,emotion,race,image_file_name)\n",
        "print(image_full_path)\n",
        "img = Image.open(image_full_path).convert(\"RGB\")\n",
        "img"
      ]
    },
    {
      "cell_type": "code",
      "execution_count": null,
      "metadata": {
        "id": "LmERGo2W0xhO"
      },
      "outputs": [],
      "source": [
        "# self.mtcnn = MTCNN(image_size=224, device= self.device)\n",
        "img_cropped = mtcnn(img)\n",
        "img_cropped"
      ]
    },
    {
      "cell_type": "code",
      "execution_count": null,
      "metadata": {
        "id": "92KcgtZF14rk"
      },
      "outputs": [],
      "source": [
        "print(torch.min(img_cropped), torch.max(img_cropped))\n",
        "image_cropped_rescaled = (img_cropped + 1) / 2\n",
        "print(torch.min(image_cropped_rescaled), torch.max(image_cropped_rescaled))\n",
        "image_cropped_rescaled.shape"
      ]
    },
    {
      "cell_type": "code",
      "execution_count": null,
      "metadata": {
        "id": "AJOktZYn_ZSh"
      },
      "outputs": [],
      "source": [
        "def show_image(image_tensor):\n",
        "  image_tensor_np = image_tensor.numpy()\n",
        "  # print(\"before\", image_tensor_np.shape)\n",
        "  image_tensor_np = image_tensor_np.squeeze()\n",
        "  # print(\"post squeeze\", image_tensor_np.shape)\n",
        "\n",
        "  # Since Matplotlib expects images in (H, W, C) format, transpose the tensor from (C, H, W)\n",
        "  image_tensor_np = np.transpose(image_tensor_np, (1, 2, 0))\n",
        "  # print(\"after\", image_tensor_np.shape)\n",
        "\n",
        "  # Display the image using Matplotlib\n",
        "  plt.imshow(image_tensor_np)\n",
        "  plt.axis('off')  # Turn off axis labels\n",
        "  plt.show()\n",
        "  # img"
      ]
    },
    {
      "cell_type": "code",
      "execution_count": null,
      "metadata": {
        "id": "Lgt_ylg92fEt"
      },
      "outputs": [],
      "source": [
        "# Convert the tensor to a numpy array\n",
        "image_cropped_np = image_cropped_rescaled.numpy()\n",
        "\n",
        "# Since Matplotlib expects images in (H, W, C) format, transpose the tensor from (C, H, W)\n",
        "image_cropped_np = np.transpose(image_cropped_np, (1, 2, 0))\n",
        "\n",
        "# Display the image using Matplotlib\n",
        "plt.imshow(image_cropped_np)\n",
        "plt.axis('off')  # Turn off axis labels\n",
        "plt.show()\n",
        "img"
      ]
    },
    {
      "cell_type": "code",
      "execution_count": null,
      "metadata": {
        "id": "6G-YEbLE8woF"
      },
      "outputs": [],
      "source": [
        "import torch\n",
        "\n",
        "# Define the labels map\n",
        "labels_map = {\n",
        "    \"0\": \"angry\",\n",
        "    \"1\": \"disgust\",\n",
        "    \"2\": \"fear\",\n",
        "    \"3\": \"happy\",\n",
        "    \"4\": \"sad\",\n",
        "    \"5\": \"surprise\",\n",
        "    \"6\": \"neutral\"\n",
        "}\n",
        "\n",
        "cpu_batch_size = 6\n",
        "\n",
        "# List of labels\n",
        "labels = list(labels_map.values())\n",
        "\n",
        "# Create the one-hot encoding matrix\n",
        "label_matrix = torch.eye(len(labels))\n",
        "\n",
        "# Function to get the one-hot vector for a specific emotion\n",
        "def get_one_hot_vector(emotion, labels = labels, label_matrix= label_matrix):\n",
        "    if emotion in labels:\n",
        "        idx = labels.index(emotion)\n",
        "        return label_matrix[idx]\n",
        "    else:\n",
        "        raise ValueError(f\"Emotion '{emotion}' not found in labels.\")"
      ]
    },
    {
      "cell_type": "code",
      "execution_count": null,
      "metadata": {
        "id": "vagSl7kY-X4_"
      },
      "outputs": [],
      "source": [
        "# for _,emotion in labels_map.items():\n",
        "#   print(get_one_hot_vector(emotion))"
      ]
    },
    {
      "cell_type": "code",
      "execution_count": null,
      "metadata": {
        "id": "Yf3F0RYn9Y-u"
      },
      "outputs": [],
      "source": [
        "# label_matrix[1,:]== label_matrix[1]\n",
        "# print(label_matrix[1,:],label_matrix[1])"
      ]
    },
    {
      "cell_type": "markdown",
      "source": [
        "## Load Images"
      ],
      "metadata": {
        "id": "Sz_Qzo4BKoWV"
      }
    },
    {
      "cell_type": "code",
      "source": [
        "GDRIVE_DEMO_FOLDER = '/content/gdrive/MyDrive/da_demo'\n",
        "DEMO_PATH = Path(GDRIVE_DEMO_FOLDER,'fer')\n",
        "dir_suffix = '27_07' # str(time.strftime(\"%d_%m\"))\n",
        "DEMO_STORAGE_PATH = Path(DEMO_PATH, dir_suffix)\n",
        "list_samples_file_name = 'list_samples.pt'"
      ],
      "metadata": {
        "id": "zMHHKvN0KnYa"
      },
      "execution_count": null,
      "outputs": []
    },
    {
      "cell_type": "code",
      "source": [
        "list_samples_file_path = Path(DEMO_STORAGE_PATH,list_samples_file_name)\n",
        "list_samples_loaded = torch.load(list_samples_file_path)\n",
        "list_samples_loaded[0]"
      ],
      "metadata": {
        "colab": {
          "base_uri": "https://localhost:8080/"
        },
        "id": "iqDnqiouKlyF",
        "outputId": "565ade65-436f-4451-c03e-799f17735f09"
      },
      "execution_count": null,
      "outputs": [
        {
          "output_type": "execute_result",
          "data": {
            "text/plain": [
              "('angry_man_111.jpg',\n",
              " tensor([[[0.9294, 0.9294, 0.9294,  ..., 0.9294, 0.9294, 0.9294],\n",
              "          [0.9294, 0.9294, 0.9294,  ..., 0.9294, 0.9294, 0.9294],\n",
              "          [0.9294, 0.9294, 0.9294,  ..., 0.9294, 0.9294, 0.9294],\n",
              "          ...,\n",
              "          [0.8314, 0.8275, 0.8314,  ..., 0.8275, 0.8275, 0.8314],\n",
              "          [0.8235, 0.8314, 0.8314,  ..., 0.8275, 0.8275, 0.8314],\n",
              "          [0.8235, 0.8235, 0.8235,  ..., 0.8235, 0.8235, 0.8275]],\n",
              " \n",
              "         [[0.9333, 0.9333, 0.9333,  ..., 0.9333, 0.9333, 0.9333],\n",
              "          [0.9333, 0.9333, 0.9333,  ..., 0.9333, 0.9333, 0.9333],\n",
              "          [0.9333, 0.9333, 0.9333,  ..., 0.9333, 0.9333, 0.9333],\n",
              "          ...,\n",
              "          [0.8510, 0.8431, 0.8471,  ..., 0.8588, 0.8588, 0.8627],\n",
              "          [0.8471, 0.8549, 0.8549,  ..., 0.8588, 0.8588, 0.8627],\n",
              "          [0.8549, 0.8549, 0.8549,  ..., 0.8549, 0.8549, 0.8588]],\n",
              " \n",
              "         [[0.9490, 0.9490, 0.9490,  ..., 0.9412, 0.9412, 0.9412],\n",
              "          [0.9490, 0.9490, 0.9490,  ..., 0.9412, 0.9412, 0.9412],\n",
              "          [0.9490, 0.9490, 0.9490,  ..., 0.9412, 0.9412, 0.9412],\n",
              "          ...,\n",
              "          [0.8627, 0.8549, 0.8588,  ..., 0.8667, 0.8667, 0.8627],\n",
              "          [0.8588, 0.8667, 0.8667,  ..., 0.8667, 0.8667, 0.8627],\n",
              "          [0.8627, 0.8627, 0.8627,  ..., 0.8627, 0.8627, 0.8588]]]),\n",
              " 'Angry',\n",
              " 'African',\n",
              " 'Angry',\n",
              " 'Angry',\n",
              " 'Angry')"
            ]
          },
          "metadata": {},
          "execution_count": 65
        }
      ]
    },
    {
      "cell_type": "code",
      "source": [
        "\n",
        "class CustomImageDataset(Dataset):\n",
        "    def __init__(self,\n",
        "                 list_samples, # list_samples.append((row['image'],row_image_transformed,row['gt_emotion'],row['gt_race'],row['p_emotion_non_dann'],row['p_emotion_dann'],row['p_emotion_ewc_dann']))\n",
        "                 transform=None):\n",
        "        self.list_samples = list_samples\n",
        "        self.basic_transform = transforms.Compose([transforms.Resize(224),\n",
        "                                                   transforms.ToTensor()])\n",
        "        self.transform = transform\n",
        "    def __len__(self):\n",
        "        return len(self.list_samples)\n",
        "\n",
        "    def __getitem__(self, idx):\n",
        "\n",
        "\n",
        "        img_filename = self.list_samples[idx][0]\n",
        "        img = self.self.list_samples[idx][1]\n",
        "        emotion =self.self.list_samples[idx][2]\n",
        "        race = self.list_samples[idx][3]\n",
        "        emotion_one_hot = get_one_hot_vector(emotion.lower()) # emotion.lower() to match the labels\n",
        "        transform_to_pil  = transforms.ToPILImage()\n",
        "        image = transform_to_pil(img)\n",
        "        cropped_image = mtcnn(image) # mtcnn takes in PIL, returns tensor in cropped image 3x224x224\n",
        "\n",
        "        if self.transform:\n",
        "          image_transformed = self.transform(image) # original image, this converts PIL into tensor\n",
        "        else:\n",
        "          image_transformed = self.basic_transform(image) # original image, this converts PIL into tensor\n",
        "\n",
        "        if cropped_image is None: #error in cropping\n",
        "          # in case of error, original image is returned\n",
        "          return image_transformed, emotion_one_hot, image_transformed, race\n",
        "        else: # cropping went ok\n",
        "          # cropped image alongside original image is returned, there is no transform on cropped image.\n",
        "          cropped_image = (cropped_image + 1) / 2 # changing form -1,1 to 0,1\n",
        "          return cropped_image, emotion_one_hot, image_transformed, race\n"
      ],
      "metadata": {
        "id": "ZjTWLIuuNkur"
      },
      "execution_count": null,
      "outputs": []
    },
    {
      "cell_type": "code",
      "execution_count": null,
      "metadata": {
        "id": "DwcRK104nHH1"
      },
      "outputs": [],
      "source": [
        "\n",
        "class CustomImageDataset(Dataset):\n",
        "    def __init__(self, dataframe,\n",
        "                 transform=None,\n",
        "                 datafolder_path = RACEDS_PATH,\n",
        "                 image_file_colname = 'image',\n",
        "                 race_colname  = 'gt_race',\n",
        "                 gt_emotion_colname  = 'gt_emotion'):\n",
        "        self.dataframe = dataframe.reset_index(drop=True)\n",
        "        self.basic_transform = transforms.Compose([transforms.Resize(224),\n",
        "                                                   transforms.ToTensor()])\n",
        "        self.transform = transform\n",
        "        self.image_file_colname = image_file_colname\n",
        "        self.race_colname = race_colname\n",
        "        self.gt_emotion_colname = gt_emotion_colname\n",
        "\n",
        "    def __len__(self):\n",
        "        return len(self.dataframe)\n",
        "\n",
        "    def __getitem__(self, idx):\n",
        "\n",
        "        img_filename = self.dataframe.loc[idx, self.image_file_colname]\n",
        "        race = self.dataframe.loc[idx, self.race_colname]\n",
        "        emotion = self.dataframe.loc[idx, self.gt_emotion_colname]\n",
        "        emotion_one_hot = get_one_hot_vector(emotion.lower()) # emotion.lower() to match the labels\n",
        "\n",
        "        image_full_path = Path(RACEDS_PATH,emotion,race,img_filename)\n",
        "\n",
        "        image = Image.open(image_full_path).convert(\"RGB\")\n",
        "        cropped_image = mtcnn(image) # mtcnn takes in PIL, returns tensor in cropped image 3x224x224\n",
        "\n",
        "        if self.transform:\n",
        "          image_transformed = self.transform(image) # original image, this converts PIL into tensor\n",
        "        else:\n",
        "          image_transformed = self.basic_transform(image) # original image, this converts PIL into tensor\n",
        "\n",
        "        if cropped_image is None: #error in cropping\n",
        "          # in case of error, original image is returned\n",
        "          return image_transformed, emotion_one_hot, image_transformed, race\n",
        "        else: # cropping went ok\n",
        "          # cropped image alongside original image is returned, there is no transform on cropped image.\n",
        "          cropped_image = (cropped_image + 1) / 2 # changing form -1,1 to 0,1\n",
        "          return cropped_image, emotion_one_hot, image_transformed, race\n"
      ]
    },
    {
      "cell_type": "markdown",
      "source": [
        "### Dataset and Dataloader Condition 1"
      ],
      "metadata": {
        "id": "fUlViBOhGNVz"
      }
    },
    {
      "cell_type": "code",
      "execution_count": null,
      "metadata": {
        "id": "QrwAbrY48U8U"
      },
      "outputs": [],
      "source": [
        "# Define  transformations you want to apply to the images\n",
        "transform = transforms.Compose([\n",
        "    transforms.Resize((224, 224)),  # Resize images to 224x224\n",
        "    transforms.ToTensor(),          # Convert images to PyTorch tensors\n",
        "])\n",
        "\n",
        "# Create an instance of your custom dataset\n",
        "# dataset = CustomImageDataset(dataframe=filtered_df_condition_1, transform=transform)\n",
        "dataset = CustomImageDataset(dataframe=sampled_df_condition_1, transform=transform)\n",
        "\n",
        "\n",
        "# Create a DataLoader\n",
        "dataloader = DataLoader(dataset, batch_size=cpu_batch_size, shuffle=True)\n"
      ]
    },
    {
      "cell_type": "markdown",
      "source": [
        "### Dataset and Dataloader Condition 2\n",
        "\n",
        "\n"
      ],
      "metadata": {
        "id": "SWvrWig6GQSY"
      }
    },
    {
      "cell_type": "code",
      "source": [
        "dataset_condition_2 = CustomImageDataset(dataframe=sampled_df_condition_2, transform=transform)\n",
        "dataloader_condition_2 = DataLoader(dataset_condition_2, batch_size=cpu_batch_size, shuffle=True)"
      ],
      "metadata": {
        "id": "yJqUsW-lGI-M"
      },
      "execution_count": null,
      "outputs": []
    },
    {
      "cell_type": "markdown",
      "source": [
        "### Dataset and Dataloader Condition 3\n"
      ],
      "metadata": {
        "id": "aK-iHDJ0GUYq"
      }
    },
    {
      "cell_type": "code",
      "source": [
        "dataset_condition_3 = CustomImageDataset(dataframe=sampled_df_condition_3, transform=transform)\n",
        "dataloader_condition_3 = DataLoader(dataset_condition_3, batch_size=cpu_batch_size, shuffle=True)"
      ],
      "metadata": {
        "id": "plPf5eb-GTsZ"
      },
      "execution_count": null,
      "outputs": []
    },
    {
      "cell_type": "markdown",
      "source": [
        "### Dataset and Dataloader Condition 4\n"
      ],
      "metadata": {
        "id": "si4NyMHnJSdD"
      }
    },
    {
      "cell_type": "code",
      "source": [
        "dataset_condition_4 = CustomImageDataset(dataframe=sampled_df_condition_4, transform=transform)\n",
        "dataloader_condition_4 = DataLoader(dataset_condition_4, batch_size=cpu_batch_size, shuffle=True)"
      ],
      "metadata": {
        "id": "i0xjLtejJRxj"
      },
      "execution_count": null,
      "outputs": []
    },
    {
      "cell_type": "markdown",
      "source": [
        "### Dataset and Dataloader Condition 5"
      ],
      "metadata": {
        "id": "LzDZgzmiM0Yd"
      }
    },
    {
      "cell_type": "code",
      "source": [
        "dataset_condition_5 = CustomImageDataset(dataframe=sampled_df_condition_5, transform=transform)\n",
        "dataloader_condition_5 = DataLoader(dataset_condition_5, batch_size=cpu_batch_size, shuffle=True)"
      ],
      "metadata": {
        "id": "ChQVNmCDM5Bs"
      },
      "execution_count": null,
      "outputs": []
    },
    {
      "cell_type": "code",
      "execution_count": null,
      "metadata": {
        "colab": {
          "base_uri": "https://localhost:8080/",
          "height": 831
        },
        "id": "qhmFHIz7-ZCP",
        "outputId": "d145f756-0d23-4c2a-b1ef-62c7ec36c9e1"
      },
      "outputs": [
        {
          "output_type": "display_data",
          "data": {
            "text/plain": [
              "<Figure size 640x480 with 1 Axes>"
            ],
            "image/png": "[encoded data removed]"
          },
          "metadata": {}
        },
        {
          "output_type": "display_data",
          "data": {
            "text/plain": [
              "<Figure size 640x480 with 1 Axes>"
            ],
            "image/png": "[encoded data removed]"
          },
          "metadata": {}
        },
        {
          "output_type": "stream",
          "name": "stdout",
          "text": [
            "tensor([0., 0., 0., 0., 0., 0., 1.]) neutral\n",
            "African\n"
          ]
        }
      ],
      "source": [
        "# Example of iterating through the DataLoader\n",
        "for batch in dataloader:\n",
        "    cropped_images, emotions, images, races = batch\n",
        "    cropped_image, emotion, image, race = cropped_images[0], emotions[0], images[0], races[0]\n",
        "    show_image (image)\n",
        "    show_image(cropped_image)\n",
        "    print(emotion , labels_map[str(emotion.argmax().item())])\n",
        "    print(race)\n",
        "    break"
      ]
    },
    {
      "cell_type": "markdown",
      "metadata": {
        "id": "ptr6OikXL1nf"
      },
      "source": [
        "## Network"
      ]
    },
    {
      "cell_type": "markdown",
      "metadata": {
        "id": "CMO5jzzrMqPV"
      },
      "source": [
        "### Pre-trained network"
      ]
    },
    {
      "cell_type": "code",
      "execution_count": null,
      "metadata": {
        "id": "U8GdJyEEMdsH"
      },
      "outputs": [],
      "source": [
        "class Vgg_vd_face_sfew_dag(nn.Module):\n",
        "\n",
        "    def __init__(self):\n",
        "        super(Vgg_vd_face_sfew_dag, self).__init__()\n",
        "        self.meta = {'mean': [129.186279296875, 104.76238250732422, 93.59396362304688],\n",
        "                     'std': [1, 1, 1],\n",
        "                     'imageSize': [224, 224, 3]}\n",
        "        self.conv1_1 = nn.Conv2d(3, 64, kernel_size=[3, 3], stride=(1, 1), padding=(1, 1))\n",
        "        self.relu1_1 = nn.ReLU()\n",
        "        self.conv1_2 = nn.Conv2d(64, 64, kernel_size=[3, 3], stride=(1, 1), padding=(1, 1))\n",
        "        self.relu1_2 = nn.ReLU()\n",
        "        self.pool1 = nn.MaxPool2d(kernel_size=[2, 2], stride=[2, 2], padding=0, dilation=1, ceil_mode=False)\n",
        "        self.conv2_1 = nn.Conv2d(64, 128, kernel_size=[3, 3], stride=(1, 1), padding=(1, 1))\n",
        "        self.relu2_1 = nn.ReLU()\n",
        "        self.conv2_2 = nn.Conv2d(128, 128, kernel_size=[3, 3], stride=(1, 1), padding=(1, 1))\n",
        "        self.relu2_2 = nn.ReLU()\n",
        "        self.pool2 = nn.MaxPool2d(kernel_size=[2, 2], stride=[2, 2], padding=0, dilation=1, ceil_mode=False)\n",
        "        self.conv3_1 = nn.Conv2d(128, 256, kernel_size=[3, 3], stride=(1, 1), padding=(1, 1))\n",
        "        self.relu3_1 = nn.ReLU()\n",
        "        self.conv3_2 = nn.Conv2d(256, 256, kernel_size=[3, 3], stride=(1, 1), padding=(1, 1))\n",
        "        self.relu3_2 = nn.ReLU()\n",
        "        self.conv3_3 = nn.Conv2d(256, 256, kernel_size=[3, 3], stride=(1, 1), padding=(1, 1))\n",
        "        self.relu3_3 = nn.ReLU()\n",
        "        self.pool3 = nn.MaxPool2d(kernel_size=[2, 2], stride=[2, 2], padding=0, dilation=1, ceil_mode=False)\n",
        "        self.conv4_1 = nn.Conv2d(256, 512, kernel_size=[3, 3], stride=(1, 1), padding=(1, 1))\n",
        "        self.relu4_1 = nn.ReLU()\n",
        "        self.conv4_2 = nn.Conv2d(512, 512, kernel_size=[3, 3], stride=(1, 1), padding=(1, 1))\n",
        "        self.relu4_2 = nn.ReLU()\n",
        "        self.conv4_3 = nn.Conv2d(512, 512, kernel_size=[3, 3], stride=(1, 1), padding=(1, 1))\n",
        "        self.relu4_3 = nn.ReLU()\n",
        "        self.pool4 = nn.MaxPool2d(kernel_size=[2, 2], stride=[2, 2], padding=0, dilation=1, ceil_mode=False)\n",
        "        self.conv5_1 = nn.Conv2d(512, 512, kernel_size=[3, 3], stride=(1, 1), padding=(1, 1))\n",
        "        self.relu5_1 = nn.ReLU()\n",
        "        self.conv5_2 = nn.Conv2d(512, 512, kernel_size=[3, 3], stride=(1, 1), padding=(1, 1))\n",
        "        self.relu5_2 = nn.ReLU()\n",
        "        self.conv5_3 = nn.Conv2d(512, 512, kernel_size=[3, 3], stride=(1, 1), padding=(1, 1))\n",
        "        self.relu5_3 = nn.ReLU()\n",
        "        self.pool5 = nn.MaxPool2d(kernel_size=[2, 2], stride=[2, 2], padding=0, dilation=1, ceil_mode=False)\n",
        "        self.fc6 = nn.Conv2d(512, 4096, kernel_size=[7, 7], stride=(1, 1))\n",
        "        self.relu6 = nn.ReLU()\n",
        "        self.fc7 = nn.Linear(in_features=4096, out_features=4096, bias=True)\n",
        "        self.relu7 = nn.ReLU()\n",
        "        self.fc8 = nn.Linear(in_features=4096, out_features=7, bias=True)\n",
        "\n",
        "    def forward(self, data):\n",
        "        x1 = self.conv1_1(data)\n",
        "        x2 = self.relu1_1(x1)\n",
        "        x3 = self.conv1_2(x2)\n",
        "        x4 = self.relu1_2(x3)\n",
        "        x5 = self.pool1(x4)\n",
        "        x6 = self.conv2_1(x5)\n",
        "        x7 = self.relu2_1(x6)\n",
        "        x8 = self.conv2_2(x7)\n",
        "        x9 = self.relu2_2(x8)\n",
        "        x10 = self.pool2(x9)\n",
        "        x11 = self.conv3_1(x10)\n",
        "        x12 = self.relu3_1(x11)\n",
        "        x13 = self.conv3_2(x12)\n",
        "        x14 = self.relu3_2(x13)\n",
        "        x15 = self.conv3_3(x14)\n",
        "        x16 = self.relu3_3(x15)\n",
        "        x17 = self.pool3(x16)\n",
        "        x18 = self.conv4_1(x17)\n",
        "        x19 = self.relu4_1(x18)\n",
        "        x20 = self.conv4_2(x19)\n",
        "        x21 = self.relu4_2(x20)\n",
        "        x22 = self.conv4_3(x21)\n",
        "        x23 = self.relu4_3(x22)\n",
        "        x24 = self.pool4(x23)\n",
        "        x25 = self.conv5_1(x24)\n",
        "        x26 = self.relu5_1(x25)\n",
        "        x27 = self.conv5_2(x26)\n",
        "        x28 = self.relu5_2(x27)\n",
        "        x29 = self.conv5_3(x28)\n",
        "        x30 = self.relu5_3(x29)\n",
        "        x31 = self.pool5(x30)\n",
        "        x32 = self.fc6(x31) # this is a conv layer, this is the output we need\n",
        "        x33_preflatten = self.relu6(x32)\n",
        "        x33 = x33_preflatten.view(x33_preflatten.size(0), -1)\n",
        "        x34 = self.fc7(x33)\n",
        "        x35 = self.relu7(x34)\n",
        "        prediction = self.fc8(x35)\n",
        "        return prediction\n",
        "\n",
        "\n",
        "def vgg_vd_face_sfew_dag(weights_path=None, **kwargs):\n",
        "    \"\"\"\n",
        "    load imported model instance\n",
        "\n",
        "    Args:\n",
        "        weights_path (str): If set, loads model weights from the given path\n",
        "    \"\"\"\n",
        "    model = Vgg_vd_face_sfew_dag()\n",
        "    if weights_path:\n",
        "        state_dict = torch.load(weights_path)\n",
        "        model.load_state_dict(state_dict)\n",
        "    return model"
      ]
    },
    {
      "cell_type": "code",
      "execution_count": null,
      "metadata": {
        "id": "pAnjyeuvMuyQ"
      },
      "outputs": [],
      "source": [
        "model_pretrained = vgg_vd_face_sfew_dag(weights_path=\"/content/gdrive/MyDrive/CV_FER/weights/vgg_vd_face_sfew_dag.pth\")"
      ]
    },
    {
      "cell_type": "code",
      "execution_count": null,
      "metadata": {
        "id": "yW3L9yapR4jQ"
      },
      "outputs": [],
      "source": [
        "class GradientReversalFn(Function):\n",
        "    @staticmethod\n",
        "    def forward(ctx, x, alpha):\n",
        "        ctx.alpha = alpha\n",
        "\n",
        "        return x.view_as(x)\n",
        "\n",
        "    @staticmethod\n",
        "    def backward(ctx, grad_output):\n",
        "        output = grad_output.neg() * ctx.alpha\n",
        "\n",
        "        return output, None\n",
        "\n",
        "class DANN_VGG(nn.Module):\n",
        "    def __init__(self,\n",
        "                 model_pretrained = model_pretrained,\n",
        "                 num_classes=7,\n",
        "                 dropout_rate = 0.1,\n",
        "                 ):\n",
        "        super(DANN_VGG, self).__init__()\n",
        "        #---------------------Feature Extractor Network---------------#\n",
        "\n",
        "        list_feature_extractor = list(model_pretrained.children())[:-4]\n",
        "        self.feature_extractor = nn.Sequential(*list_feature_extractor)\n",
        "\n",
        "        #---------------------Class Classifier------------------------#\n",
        "\n",
        "        list_class_classifer = list(model_pretrained.children())[-4:]\n",
        "        list_class_classifer.insert(2, nn.Dropout(dropout_rate))\n",
        "        self.class_classifier = nn.Sequential(*list_class_classifer)\n",
        "\n",
        "        #---------------------Domain Classifier-----------------------#\n",
        "\n",
        "        self.domain_classifier = nn.Sequential(nn.ReLU(),\n",
        "                                               nn.Linear(4096, 4096),\n",
        "                                               nn.Dropout(dropout_rate),\n",
        "                                               nn.ReLU(),\n",
        "                                               nn.Linear(4096, 2)\n",
        "                                               )\n",
        "\n",
        "        # Initialize the 4096,4096 to pre-trained\n",
        "        pretrained_weights = model_pretrained.fc7.weight\n",
        "        pretrained_biases = model_pretrained.fc7.bias\n",
        "        with torch.no_grad():\n",
        "          self.domain_classifier[1].weight.copy_(pretrained_weights)\n",
        "          self.domain_classifier[1].bias.copy_(pretrained_biases)\n",
        "\n",
        "\n",
        "    def forward(self, input_data, alpha = 0.0):\n",
        "        features = self.feature_extractor(input_data)\n",
        "        # print(\"features.shape......\", features.shape)\n",
        "        features = features.view(-1,features.size(1))\n",
        "        # print(\"features.shape after view......\", features.shape)\n",
        "\n",
        "        reverse_features = GradientReversalFn.apply(features,alpha)\n",
        "\n",
        "        class_output = self.class_classifier(features)\n",
        "        domain_output = self.domain_classifier(reverse_features)\n",
        "\n",
        "        return class_output, domain_output, features\n"
      ]
    },
    {
      "cell_type": "code",
      "execution_count": null,
      "metadata": {
        "id": "3_SeT3CmSagS"
      },
      "outputs": [],
      "source": [
        "# model = DANN_VGG(model_pretrained = model_pretrained, num_classes=7)\n",
        "# model = model.to(device=device)"
      ]
    },
    {
      "cell_type": "markdown",
      "metadata": {
        "id": "03tKWc3vTGHV"
      },
      "source": [
        "## Downloading Models"
      ]
    },
    {
      "cell_type": "code",
      "execution_count": null,
      "metadata": {
        "id": "R9uEqmz4T7Ny"
      },
      "outputs": [],
      "source": [
        "MODEL_DIR = Path(GDRIVE_FOLDER,\"models\") # for drive\n",
        "non_dann_model_name = 'non_dann_sfew_expw_23_05_wo_se_a.pt'\n",
        "dann_model_name = 'dann_sfew_expw_23_05_wo_se_a.pt'\n",
        "ewc_dann_model_name = 'ewc_dann_sfew_expw_23_05_wo_se_a.pt'"
      ]
    },
    {
      "cell_type": "code",
      "source": [
        "skeleton_model = DANN_VGG(model_pretrained = model_pretrained, num_classes=7)  # skeleton copy"
      ],
      "metadata": {
        "id": "dxlTD8go_SsX"
      },
      "execution_count": null,
      "outputs": []
    },
    {
      "cell_type": "markdown",
      "metadata": {
        "id": "PQMLCdk6TRiN"
      },
      "source": [
        "### Non-DANN Model"
      ]
    },
    {
      "cell_type": "code",
      "execution_count": null,
      "metadata": {
        "id": "sHlg8ikDS8kC"
      },
      "outputs": [],
      "source": [
        "NON_DANN_MODEL_PATH = Path(os.path.join(MODEL_DIR, f'non_dann_sfew_expw', non_dann_model_name))\n",
        "print(NON_DANN_MODEL_PATH)\n",
        "non_dann_model_sfew_expw_inference =  deepcopy(skeleton_model) # DANN_VGG(model_pretrained = model_pretrained, num_classes=7)  # skeleton copy\n",
        "non_dann_model_sfew_expw_inference.load_state_dict(torch.load(NON_DANN_MODEL_PATH,map_location=torch.device(device)))\n",
        "# non_dann_model_sfew_expw_inference.eval()"
      ]
    },
    {
      "cell_type": "markdown",
      "metadata": {
        "id": "7aypDG3HU9R5"
      },
      "source": [
        "### DANN Model"
      ]
    },
    {
      "cell_type": "code",
      "execution_count": null,
      "metadata": {
        "id": "wl7ecI7PU_li"
      },
      "outputs": [],
      "source": [
        "DANN_MODEL_PATH = Path(os.path.join(MODEL_DIR, f'dann_sfew_expw', dann_model_name))\n",
        "print(DANN_MODEL_PATH)\n",
        "dann_model_sfew_expw_inference =  deepcopy(skeleton_model) # DANN_VGG(model_pretrained = model_pretrained, num_classes=7)  # skeleton copy\n",
        "dann_model_sfew_expw_inference.load_state_dict(torch.load(DANN_MODEL_PATH,map_location=torch.device(device)))\n",
        "# dann_model_sfew_expw_inference.eval()"
      ]
    },
    {
      "cell_type": "markdown",
      "metadata": {
        "id": "ybhmYjmTVZy-"
      },
      "source": [
        "### EWC DANN Model"
      ]
    },
    {
      "cell_type": "code",
      "execution_count": null,
      "metadata": {
        "id": "0PZ1D0BIVf_1"
      },
      "outputs": [],
      "source": [
        "EWC_MODEL_PATH = Path(os.path.join(MODEL_DIR, f'ewc_dann_sfew_expw', ewc_dann_model_name))\n",
        "print(EWC_MODEL_PATH)\n",
        "ewc_dann_model_sfew_expw_inference =  deepcopy(skeleton_model) # DANN_VGG(model_pretrained = model_pretrained, num_classes=7)  # skeleton copy\n",
        "ewc_dann_model_sfew_expw_inference.load_state_dict(torch.load(EWC_MODEL_PATH,map_location=torch.device(device)))\n",
        "# ewc_dann_model_sfew_expw_inference.to(device)"
      ]
    },
    {
      "cell_type": "markdown",
      "metadata": {
        "id": "122rxG3kef0D"
      },
      "source": [
        "# UI"
      ]
    },
    {
      "cell_type": "markdown",
      "metadata": {
        "id": "DY4BJAMOim1y"
      },
      "source": [
        "## Inference"
      ]
    },
    {
      "cell_type": "code",
      "execution_count": null,
      "metadata": {
        "id": "xsP4pPR1klCN"
      },
      "outputs": [],
      "source": [
        "transform_to_pil  = transforms.ToPILImage()\n",
        "emotion_labels = [label.capitalize() for label in list(labels_map.values())]\n",
        "\n",
        "def get_images(dataloader = dataloader):\n",
        "    cropped_images, emotions, images, races = next(iter(dataloader))\n",
        "\n",
        "    list_pil_cropped_images = [transform_to_pil(cropped_img) for cropped_img in cropped_images]\n",
        "    list_pil_images = [transform_to_pil(img) for img in images]\n",
        "    list_emotions = list(emotions) # list of one hot tensort\n",
        "    list_emotions = [ emotion_labels[torch.argmax(emotion).item()] for emotion in emotions]\n",
        "\n",
        "    # return list_pil_cropped_images, list(emotions), list_pil_images, list(races)\n",
        "    return list_pil_cropped_images, list_emotions, list_pil_images, list(races)"
      ]
    },
    {
      "cell_type": "markdown",
      "source": [],
      "metadata": {
        "id": "PUY_knTHzDV0"
      }
    },
    {
      "cell_type": "code",
      "source": [
        "def get_images_condition_2():\n",
        "    return get_images(dataloader_condition_2)"
      ],
      "metadata": {
        "id": "P-JPDcSTEchq"
      },
      "execution_count": null,
      "outputs": []
    },
    {
      "cell_type": "code",
      "source": [
        "def get_images_condition_3():\n",
        "    return get_images(dataloader_condition_3)"
      ],
      "metadata": {
        "id": "d0U2ouNPGjxS"
      },
      "execution_count": null,
      "outputs": []
    },
    {
      "cell_type": "code",
      "source": [
        "def get_images_condition_4():\n",
        "    return get_images(dataloader_condition_4)"
      ],
      "metadata": {
        "id": "vA34-Xq4JfY6"
      },
      "execution_count": null,
      "outputs": []
    },
    {
      "cell_type": "code",
      "source": [
        "def get_images_condition_5():\n",
        "    return get_images(dataloader_condition_5)"
      ],
      "metadata": {
        "id": "RibfCdNwNI_s"
      },
      "execution_count": null,
      "outputs": []
    },
    {
      "cell_type": "code",
      "execution_count": null,
      "metadata": {
        "colab": {
          "base_uri": "https://localhost:8080/"
        },
        "id": "MbfHBJsPqbZH",
        "outputId": "29de2bbd-7319-4328-ac4b-ab1c66f6ef02"
      },
      "outputs": [
        {
          "output_type": "execute_result",
          "data": {
            "text/plain": [
              "([<PIL.Image.Image image mode=RGB size=224x224>,\n",
              "  <PIL.Image.Image image mode=RGB size=224x224>,\n",
              "  <PIL.Image.Image image mode=RGB size=224x224>,\n",
              "  <PIL.Image.Image image mode=RGB size=224x224>,\n",
              "  <PIL.Image.Image image mode=RGB size=224x224>,\n",
              "  <PIL.Image.Image image mode=RGB size=224x224>],\n",
              " ['Sad', 'Fear', 'Surprise', 'Sad', 'Angry', 'Angry'],\n",
              " [<PIL.Image.Image image mode=RGB size=224x224>,\n",
              "  <PIL.Image.Image image mode=RGB size=224x224>,\n",
              "  <PIL.Image.Image image mode=RGB size=224x224>,\n",
              "  <PIL.Image.Image image mode=RGB size=224x224>,\n",
              "  <PIL.Image.Image image mode=RGB size=224x224>,\n",
              "  <PIL.Image.Image image mode=RGB size=224x224>],\n",
              " ['Asian', 'White', 'White', 'Latino', 'Indian', 'Asian'])"
            ]
          },
          "metadata": {},
          "execution_count": 96
        }
      ],
      "source": [
        "get_images()"
      ]
    },
    {
      "cell_type": "code",
      "source": [
        "# list(labels_map.values())\n",
        "# emotion_labels = [label.capitalize() for label in list(labels_map.values())]\n",
        "# emotion_labels"
      ],
      "metadata": {
        "id": "3GKnxsPdqYf6"
      },
      "execution_count": null,
      "outputs": []
    },
    {
      "cell_type": "code",
      "source": [],
      "metadata": {
        "id": "f-v77SoB1GDW"
      },
      "execution_count": null,
      "outputs": []
    },
    {
      "cell_type": "markdown",
      "source": [
        "### classify_image_all_models"
      ],
      "metadata": {
        "id": "WuC5FFktsxTx"
      }
    },
    {
      "cell_type": "code",
      "execution_count": null,
      "metadata": {
        "id": "0KG5hkXVjq7k"
      },
      "outputs": [],
      "source": [
        "emotion_labels = [label.capitalize() for label in list(labels_map.values())]\n",
        "\n",
        "def classify_image_all_models(input_image):\n",
        "    # print(\"-------\")\n",
        "    # print(input_image)\n",
        "    # print(type(input_image))\n",
        "    # print(\"-------\")\n",
        "\n",
        "    image_transforms =  transforms.Compose([\n",
        "                                  transforms.Resize((224,224)),\n",
        "                                  transforms.ToTensor()\n",
        "                                  ])\n",
        "    transformed_image = image_transforms(input_image)\n",
        "    image_tensor = transformed_image.to(device).unsqueeze(0)\n",
        "    # image_tensor = input_image.to(device).unsqueeze(0)\n",
        "\n",
        "    list_confidences = []\n",
        "    for model in [non_dann_model_sfew_expw_inference, dann_model_sfew_expw_inference, ewc_dann_model_sfew_expw_inference]:\n",
        "        model = model.to(device)\n",
        "        model.eval()\n",
        "        with torch.no_grad():\n",
        "            logits, _ , _ = model((image_tensor*255))\n",
        "            output = F.softmax(logits.view(-1), dim = -1)\n",
        "\n",
        "            confidences = [(emotion_labels[i], float(output[i])) for i in range(len(emotion_labels))]\n",
        "            confidences.sort(key=lambda x: x[1], reverse=True)\n",
        "            confidences = OrderedDict(confidences[:2])\n",
        "            label = torch.argmax(output).item()\n",
        "            list_confidences.append(confidences)\n",
        "\n",
        "    return list_confidences[0], list_confidences[1], list_confidences[2]"
      ]
    },
    {
      "cell_type": "code",
      "execution_count": null,
      "metadata": {
        "id": "CT4soIi5hxpi"
      },
      "outputs": [],
      "source": [
        "# def get_correct_predictions(prediction, labels):\n",
        "#     \"\"\"\n",
        "#     Function to return total number of correct predictions\n",
        "#     :param prediction: Model predictions on a given sample of data\n",
        "#     :param labels: Correct labels of a given sample of data\n",
        "#     :return: Number of correct predictions\n",
        "#     \"\"\"\n",
        "#     return prediction.argmax(dim=1).eq(labels.argmax(dim=1)).sum().item() #.argmax(dim=1)\n",
        "\n",
        "# def test_model_race(model,\n",
        "#                     device,\n",
        "#                     test_loader,\n",
        "#                     result=pd.DataFrame(columns=['image', 'gt_emotion', 'gt_race', 'p_emotion']) ):\n",
        "#     model = model.to(device)\n",
        "#     model.eval() # evaluation mode\n",
        "\n",
        "#     # variables to track loss and accuracy\n",
        "#     test_loss = 0.0\n",
        "#     correct = 0\n",
        "\n",
        "#    # Disable gradient updation\n",
        "#     with torch.no_grad():\n",
        "#         # Iterate over each batch and fetch images and labels from the batch\n",
        "#         for batch_idx, batch in enumerate(test_loader):\n",
        "#         # for batch_idx, (data, target, name, race) in enumerate(test_loader): #     cropped_images, emotions, images, races = batch\n",
        "#             data_plural, targets, images, races = batch[0].to(device), batch[1].to(device), batch[2].to(device), batch[3].to(device)\n",
        "\n",
        "#             # # Put the images and labels on the selected device\n",
        "#             # data, target = data.to(device), target.to(device)\n",
        "\n",
        "#             # Pass the images to the output and get the model predictions\n",
        "#             class_outputs, _ , _ = model((data_plural*255))\n",
        "#             # Sum up batch correct predictions\n",
        "#             correct += get_correct_predictions(class_outputs, targets)\n",
        "\n",
        "\n",
        "#     return correct, test_loss, accuracy, result\n"
      ]
    },
    {
      "cell_type": "markdown",
      "source": [
        "## All working"
      ],
      "metadata": {
        "id": "BTVVWhEQNCwn"
      }
    },
    {
      "cell_type": "code",
      "source": [
        "with gr.Blocks() as demo:\n",
        "    ################################################\n",
        "    with gr.Tab(\"Case 1: {OK : Non DANN, DANN, EWC DANN}\"):\n",
        "        imgs = gr.State()\n",
        "\n",
        "        # gallery = gr.Gallery(allow_preview=False)\n",
        "        with gr.Row():\n",
        "            with gr.Column(scale=1):\n",
        "                gallery = gr.Gallery(allow_preview=True, rows=2, columns=2)\n",
        "\n",
        "            with gr.Column(scale=1):\n",
        "                with gr.Row():\n",
        "                    cropped_image_display = gr.Image(label=\"Cropped Image\", type=\"pil\", height=224, width=224)\n",
        "                with gr.Row():\n",
        "                    button_classify_C1 = gr.Button(\"Click Button to Predict Emotion\", visible=True, size='sm')\n",
        "                with gr.Row():\n",
        "                    # selected = gr.Number(show_label=False)\n",
        "                    selected = gr.Textbox(label=\"Ground Truth Emotion\", visible=False)\n",
        "                    txtbox_race = gr.Textbox(label=\"Race\", visible=False)\n",
        "\n",
        "            with gr.Column(scale=1):\n",
        "                with gr.Row():\n",
        "                    label_classify_non_dann = gr.Label(label=\"NON DANN Predicted label\", num_top_classes=2, visible=True)\n",
        "                with gr.Row():\n",
        "                    label_classify_dann = gr.Label(label=\"DANN Predicted label\", num_top_classes=2, visible=True)\n",
        "                with gr.Row():\n",
        "                    label_classify_ewc = gr.Label(label=\"EWC DANN Predicted label\", num_top_classes=2, visible=True)\n",
        "\n",
        "        cropped_images, list_emotions, big_images, list_races = get_images()\n",
        "\n",
        "        def get_big_images():\n",
        "            return big_images, big_images\n",
        "\n",
        "        def get_select_index(evt: gr.SelectData):\n",
        "            # return evt.index, cropped_images[evt.index]\n",
        "            return list_emotions[evt.index], gr.update(visible=True), cropped_images[evt.index], list_races[evt.index], gr.update(visible=True)\n",
        "\n",
        "        refresh_case1 = gr.Checkbox(visible=False)\n",
        "\n",
        "        def refresh_gallery():\n",
        "            return get_big_images()\n",
        "\n",
        "        refresh_case1.change(refresh_gallery, None, [gallery, imgs])\n",
        "        gallery.select(get_select_index, None, [selected, selected, cropped_image_display, txtbox_race, txtbox_race])\n",
        "        button_classify_C1.click(fn=classify_image_all_models, inputs=[cropped_image_display],\n",
        "                                 outputs=[label_classify_non_dann, label_classify_dann, label_classify_ewc])\n",
        "\n",
        "    ################################################\n",
        "    with gr.Tab(\"Case 2:{ NOK Non DANN}, {OK : DANN, EWC DANN}\"):\n",
        "        imgs_2 = gr.State()\n",
        "\n",
        "        with gr.Row():\n",
        "            with gr.Column(scale=1):\n",
        "                gallery_2 = gr.Gallery(allow_preview=True, rows=2, columns=2)\n",
        "\n",
        "            with gr.Column(scale=1):\n",
        "                with gr.Row():\n",
        "                    cropped_image_display_2 = gr.Image(label=\"Cropped Image\", type=\"pil\", height=224, width=224)\n",
        "                with gr.Row():\n",
        "                    button_classify_C2 = gr.Button(\"Click Button to Predict Emotion\", visible=True, size='sm')\n",
        "                with gr.Row():\n",
        "                    selected_2 = gr.Textbox(label=\"Ground Truth Emotion\", visible=False)\n",
        "                    txtbox_race_2 = gr.Textbox(label=\"Race\", visible=False)\n",
        "\n",
        "            with gr.Column(scale=1):\n",
        "                with gr.Row():\n",
        "                    label_classify_non_dann_2 = gr.Label(label=\"NON DANN Predicted label\", num_top_classes=2, visible=True)\n",
        "                with gr.Row():\n",
        "                    label_classify_dann_2 = gr.Label(label=\"DANN Predicted label\", num_top_classes=2, visible=True)\n",
        "                with gr.Row():\n",
        "                    label_classify_ewc_2 = gr.Label(label=\"EWC DANN Predicted label\", num_top_classes=2, visible=True)\n",
        "\n",
        "        cropped_images_2, list_emotions_2, big_images_2, list_races_2 = get_images_condition_2()\n",
        "\n",
        "        def get_big_images_2():\n",
        "            return big_images_2, big_images_2\n",
        "\n",
        "        def get_select_index_2(evt: gr.SelectData):\n",
        "            # return evt.index, cropped_images[evt.index]\n",
        "            return list_emotions_2[evt.index], gr.update(visible=True), cropped_images_2[evt.index], list_races_2[evt.index], gr.update(visible=True)\n",
        "\n",
        "        refresh_case2 = gr.Checkbox(visible=False)\n",
        "\n",
        "        def refresh_gallery_2():\n",
        "            return get_big_images_2()\n",
        "\n",
        "        refresh_case2.change(refresh_gallery_2, None, [gallery_2, imgs_2])\n",
        "        gallery_2.select(get_select_index_2, None, [selected_2, selected_2, cropped_image_display_2, txtbox_race_2, txtbox_race_2])\n",
        "        button_classify_C2.click(fn=classify_image_all_models, inputs=[cropped_image_display_2],\n",
        "                                 outputs=[label_classify_non_dann_2, label_classify_dann_2, label_classify_ewc_2])\n",
        "\n",
        "    ################################################\n",
        "    with gr.Tab(\"Case 3:{ NOK: Non DANN, DANN}, {OK:EWC DANN}\"):\n",
        "        imgs_3 = gr.State()\n",
        "\n",
        "        with gr.Row():\n",
        "            with gr.Column(scale=1):\n",
        "                gallery_3 = gr.Gallery(allow_preview=True, rows=2, columns=2)\n",
        "\n",
        "            with gr.Column(scale=1):\n",
        "                with gr.Row():\n",
        "                    cropped_image_display_3 = gr.Image(label=\"Cropped Image\", type=\"pil\", height=224, width=224)\n",
        "                with gr.Row():\n",
        "                    button_classify_C3 = gr.Button(\"Click Button to Predict Emotion\", visible=True, size='sm')\n",
        "                with gr.Row():\n",
        "                    selected_3 = gr.Textbox(label=\"Ground Truth Emotion\", visible=False)\n",
        "                    txtbox_race_3 = gr.Textbox(label=\"Race\", visible=False)\n",
        "\n",
        "            with gr.Column(scale=1):\n",
        "                with gr.Row():\n",
        "                    label_classify_non_dann_3 = gr.Label(label=\"NON DANN Predicted label\", num_top_classes=2, visible=True)\n",
        "                with gr.Row():\n",
        "                    label_classify_dann_3 = gr.Label(label=\"DANN Predicted label\", num_top_classes=2, visible=True)\n",
        "                with gr.Row():\n",
        "                    label_classify_ewc_3 = gr.Label(label=\"EWC DANN Predicted label\", num_top_classes=2, visible=True)\n",
        "\n",
        "        cropped_images_3, list_emotions_3, big_images_3, list_races_3 = get_images_condition_3()\n",
        "\n",
        "        def get_big_images_3():\n",
        "            return big_images_3, big_images_3\n",
        "\n",
        "        def get_select_index_3(evt: gr.SelectData):\n",
        "            # return evt.index, cropped_images[evt.index]\n",
        "            return list_emotions_3[evt.index], gr.update(visible=True), cropped_images_3[evt.index], list_races_3[evt.index], gr.update(visible=True)\n",
        "\n",
        "        refresh_case3 = gr.Checkbox(visible=False)\n",
        "\n",
        "        def refresh_gallery_3():\n",
        "            return get_big_images_3()\n",
        "\n",
        "        refresh_case3.change(refresh_gallery_3, None, [gallery_3, imgs_3])\n",
        "        gallery_3.select(get_select_index_3, None, [selected_3, selected_3, cropped_image_display_3, txtbox_race_3, txtbox_race_3])\n",
        "        button_classify_C3.click(fn=classify_image_all_models, inputs=[cropped_image_display_3],\n",
        "                                 outputs=[label_classify_non_dann_3, label_classify_dann_3, label_classify_ewc_3])\n",
        "\n",
        "    ################################################\n",
        "    with gr.Tab(\"Case 4:{ NOK: Non DANN, EWC DANN}, {OK:DANN}\"):\n",
        "        imgs_4 = gr.State()\n",
        "\n",
        "        with gr.Row():\n",
        "            with gr.Column(scale=1):\n",
        "                gallery_4 = gr.Gallery(allow_preview=True, rows=2, columns=2)\n",
        "\n",
        "            with gr.Column(scale=1):\n",
        "                with gr.Row():\n",
        "                    cropped_image_display_4 = gr.Image(label=\"Cropped Image\", type=\"pil\", height=224, width=224)\n",
        "                with gr.Row():\n",
        "                    button_classify_C4 = gr.Button(\"Click Button to Predict Emotion\", visible=True, size='sm')\n",
        "                with gr.Row():\n",
        "                    selected_4 = gr.Textbox(label=\"Ground Truth Emotion\", visible=False)\n",
        "                    txtbox_race_4 = gr.Textbox(label=\"Race\", visible=False)\n",
        "\n",
        "            with gr.Column(scale=1):\n",
        "                with gr.Row():\n",
        "                    label_classify_non_dann_4 = gr.Label(label=\"NON DANN Predicted label\", num_top_classes=2, visible=True)\n",
        "                with gr.Row():\n",
        "                    label_classify_dann_4 = gr.Label(label=\"DANN Predicted label\", num_top_classes=2, visible=True)\n",
        "                with gr.Row():\n",
        "                    label_classify_ewc_4 = gr.Label(label=\"EWC DANN Predicted label\", num_top_classes=2, visible=True)\n",
        "\n",
        "        cropped_images_4, list_emotions_4, big_images_4, list_races_4 = get_images_condition_4()\n",
        "\n",
        "        def get_big_images_4():\n",
        "            return big_images_4, big_images_4\n",
        "\n",
        "        def get_select_index_4(evt: gr.SelectData):\n",
        "            return list_emotions_4[evt.index], gr.update(visible=True), cropped_images_4[evt.index], list_races_4[evt.index], gr.update(visible=True)\n",
        "\n",
        "        refresh_case4 = gr.Checkbox(visible=False)\n",
        "\n",
        "        def refresh_gallery_4():\n",
        "            return get_big_images_4()\n",
        "\n",
        "        refresh_case4.change(refresh_gallery_4, None, [gallery_4, imgs_4])\n",
        "        gallery_4.select(get_select_index_4, None, [selected_4, selected_4, cropped_image_display_4, txtbox_race_4, txtbox_race_4])\n",
        "        button_classify_C4.click(fn=classify_image_all_models, inputs=[cropped_image_display_4],\n",
        "                                 outputs=[label_classify_non_dann_4, label_classify_dann_4, label_classify_ewc_4])\n",
        "\n",
        "    ################################################\n",
        "    with gr.Tab(\"Case 5:{ NOK: Non DANN, DANN, EWC DANN}\"):\n",
        "        imgs_5 = gr.State()\n",
        "\n",
        "        with gr.Row():\n",
        "            with gr.Column(scale=1):\n",
        "                gallery_5 = gr.Gallery(allow_preview=True, rows=2, columns=2)\n",
        "\n",
        "            with gr.Column(scale=1):\n",
        "                with gr.Row():\n",
        "                    cropped_image_display_5 = gr.Image(label=\"Cropped Image\", type=\"pil\", height=224, width=224)\n",
        "                with gr.Row():\n",
        "                    button_classify_C5 = gr.Button(\"Click Button to Predict Emotion\", visible=True, size='sm')\n",
        "                with gr.Row():\n",
        "                    selected_5 = gr.Textbox(label=\"Ground Truth Emotion\", visible=False)\n",
        "                    txtbox_race_5 = gr.Textbox(label=\"Race\", visible=False)\n",
        "\n",
        "            with gr.Column(scale=1):\n",
        "                with gr.Row():\n",
        "                    label_classify_non_dann_5 = gr.Label(label=\"NON DANN Predicted label\", num_top_classes=2, visible=True)\n",
        "                with gr.Row():\n",
        "                    label_classify_dann_5 = gr.Label(label=\"DANN Predicted label\", num_top_classes=2, visible=True)\n",
        "                with gr.Row():\n",
        "                    label_classify_ewc_5 = gr.Label(label=\"EWC DANN Predicted label\", num_top_classes=2, visible=True)\n",
        "\n",
        "        cropped_images_5, list_emotions_5, big_images_5, list_races_5 = get_images_condition_5()\n",
        "\n",
        "        def get_big_images_5():\n",
        "            return big_images_5, big_images_5\n",
        "\n",
        "        def get_select_index_5(evt: gr.SelectData):\n",
        "            return list_emotions_5[evt.index], gr.update(visible=True), cropped_images_5[evt.index], list_races_5[evt.index], gr.update(visible=True)\n",
        "\n",
        "        refresh_case5 = gr.Checkbox(visible=False)\n",
        "\n",
        "        def refresh_gallery_5():\n",
        "            return get_big_images_5()\n",
        "\n",
        "        refresh_case5.change(refresh_gallery_5, None, [gallery_5, imgs_5])\n",
        "        gallery_5.select(get_select_index_5, None, [selected_5, selected_5, cropped_image_display_5, txtbox_race_5, txtbox_race_5])\n",
        "        button_classify_C5.click(fn=classify_image_all_models, inputs=[cropped_image_display_5],\n",
        "                                 outputs=[label_classify_non_dann_5, label_classify_dann_5, label_classify_ewc_5])\n",
        "\n",
        "\n",
        "    ################################################\n",
        "    with gr.Tab(\"Introduction\"):\n",
        "        gr.Markdown(\"## Domain Adaptation in Deep Networks - Demonstration\")\n",
        "        gr.Markdown(\n",
        "            '''\n",
        "            Source - SFEW2.0\n",
        "            -------\n",
        "            - SFEW2.0 Details\n",
        "\n",
        "            '''\n",
        "        )\n",
        "        gr.Markdown(\n",
        "            '''\n",
        "            Target - ExpW\n",
        "            -------\n",
        "            - ExpW Details\n",
        "\n",
        "            '''\n",
        "        )\n",
        "\n",
        "\n",
        "    def refresh_tab(): return True\n",
        "    # def refresh_tab2(): return True\n",
        "    # def refresh_tab3(): return True\n",
        "    # def refresh_tab4(): return True\n",
        "    # def refresh_tab5(): return True\n",
        "\n",
        "\n",
        "    with gr.Row(visible=True):\n",
        "        refresh_tab_1 = gr.Button(value=\"refresh Case 1\", visible=True)\n",
        "        refresh_tab_2 = gr.Button(value=\"refresh Case 2\", visible=True)\n",
        "        refresh_tab_3 = gr.Button(value=\"refresh Case 3\", visible=True)\n",
        "        refresh_tab_4 = gr.Button(value=\"refresh Case 4\", visible=True)\n",
        "        refresh_tab_5 = gr.Button(value=\"refresh Case 5\", visible=True)\n",
        "\n",
        "    refresh_tab_1.click(refresh_tab, [], [refresh_case1])\n",
        "    refresh_tab_2.click(refresh_tab, [], [refresh_case2])\n",
        "    refresh_tab_3.click(refresh_tab, [], [refresh_case3])\n",
        "    refresh_tab_4.click(refresh_tab, [], [refresh_case4])\n",
        "    refresh_tab_5.click(refresh_tab, [], [refresh_case5])\n",
        "\n",
        "demo.launch(debug=True)\n",
        "\n"
      ],
      "metadata": {
        "id": "EiVCW6eJNFyX"
      },
      "execution_count": null,
      "outputs": []
    },
    {
      "cell_type": "markdown",
      "source": [
        "### All working - working for 4 tabs"
      ],
      "metadata": {
        "id": "WmVfM1HfJqaI"
      }
    },
    {
      "cell_type": "code",
      "source": [
        "with gr.Blocks() as demo:\n",
        "    ################################################\n",
        "    with gr.Tab(\"Case 1: {OK : Non DANN, DANN, EWC DANN}\"):\n",
        "        imgs = gr.State()\n",
        "\n",
        "        # gallery = gr.Gallery(allow_preview=False)\n",
        "        with gr.Row():\n",
        "            with gr.Column(scale=1):\n",
        "                gallery = gr.Gallery(allow_preview=True, rows=2, columns=2)\n",
        "\n",
        "            with gr.Column(scale=1):\n",
        "                with gr.Row():\n",
        "                    cropped_image_display = gr.Image(label=\"Cropped Image\", type=\"pil\", height=224, width=224)\n",
        "                with gr.Row():\n",
        "                    button_classify_C1 = gr.Button(\"Click Button to Predict Emotion\", visible=True, size='sm')\n",
        "                with gr.Row():\n",
        "                    # selected = gr.Number(show_label=False)\n",
        "                    selected = gr.Textbox(label=\"Ground Truth Emotion\", visible=False)\n",
        "                    txtbox_race = gr.Textbox(label=\"Race\", visible=False)\n",
        "\n",
        "            with gr.Column(scale=1):\n",
        "                with gr.Row():\n",
        "                    label_classify_non_dann = gr.Label(label=\"NON DANN Predicted label\", num_top_classes=2, visible=True)\n",
        "                with gr.Row():\n",
        "                    label_classify_dann = gr.Label(label=\"DANN Predicted label\", num_top_classes=2, visible=True)\n",
        "                with gr.Row():\n",
        "                    label_classify_ewc = gr.Label(label=\"EWC DANN Predicted label\", num_top_classes=2, visible=True)\n",
        "\n",
        "        cropped_images, list_emotions, big_images, list_races = get_images()\n",
        "\n",
        "        def get_big_images():\n",
        "            return big_images, big_images\n",
        "\n",
        "        def get_select_index(evt: gr.SelectData):\n",
        "            # return evt.index, cropped_images[evt.index]\n",
        "            return list_emotions[evt.index], gr.update(visible=True), cropped_images[evt.index], list_races[evt.index], gr.update(visible=True)\n",
        "\n",
        "        refresh_case1 = gr.Checkbox(visible=False)\n",
        "\n",
        "        def refresh_gallery():\n",
        "            return get_big_images()\n",
        "\n",
        "        refresh_case1.change(refresh_gallery, None, [gallery, imgs])\n",
        "        gallery.select(get_select_index, None, [selected, selected, cropped_image_display, txtbox_race, txtbox_race])\n",
        "        button_classify_C1.click(fn=classify_image_all_models, inputs=[cropped_image_display],\n",
        "                                 outputs=[label_classify_non_dann, label_classify_dann, label_classify_ewc])\n",
        "\n",
        "    ################################################\n",
        "    with gr.Tab(\"Case 2:{ NOK Non DANN}, {OK : DANN, EWC DANN}\"):\n",
        "        imgs_2 = gr.State()\n",
        "\n",
        "        with gr.Row():\n",
        "            with gr.Column(scale=1):\n",
        "                gallery_2 = gr.Gallery(allow_preview=True, rows=2, columns=2)\n",
        "\n",
        "            with gr.Column(scale=1):\n",
        "                with gr.Row():\n",
        "                    cropped_image_display_2 = gr.Image(label=\"Cropped Image\", type=\"pil\", height=224, width=224)\n",
        "                with gr.Row():\n",
        "                    button_classify_C2 = gr.Button(\"Click Button to Predict Emotion\", visible=True, size='sm')\n",
        "                with gr.Row():\n",
        "                    selected_2 = gr.Textbox(label=\"Ground Truth Emotion\", visible=False)\n",
        "                    txtbox_race_2 = gr.Textbox(label=\"Race\", visible=False)\n",
        "\n",
        "            with gr.Column(scale=1):\n",
        "                with gr.Row():\n",
        "                    label_classify_non_dann_2 = gr.Label(label=\"NON DANN Predicted label\", num_top_classes=2, visible=True)\n",
        "                with gr.Row():\n",
        "                    label_classify_dann_2 = gr.Label(label=\"DANN Predicted label\", num_top_classes=2, visible=True)\n",
        "                with gr.Row():\n",
        "                    label_classify_ewc_2 = gr.Label(label=\"EWC DANN Predicted label\", num_top_classes=2, visible=True)\n",
        "\n",
        "        cropped_images_2, list_emotions_2, big_images_2, list_races_2 = get_images_condition_2()\n",
        "\n",
        "        def get_big_images_2():\n",
        "            return big_images_2, big_images_2\n",
        "\n",
        "        def get_select_index_2(evt: gr.SelectData):\n",
        "            # return evt.index, cropped_images[evt.index]\n",
        "            return list_emotions_2[evt.index], gr.update(visible=True), cropped_images_2[evt.index], list_races_2[evt.index], gr.update(visible=True)\n",
        "\n",
        "        refresh_case2 = gr.Checkbox(visible=False)\n",
        "\n",
        "        def refresh_gallery_2():\n",
        "            return get_big_images_2()\n",
        "\n",
        "        refresh_case2.change(refresh_gallery_2, None, [gallery_2, imgs_2])\n",
        "        gallery_2.select(get_select_index_2, None, [selected_2, selected_2, cropped_image_display_2, txtbox_race_2, txtbox_race_2])\n",
        "        button_classify_C2.click(fn=classify_image_all_models, inputs=[cropped_image_display_2],\n",
        "                                 outputs=[label_classify_non_dann_2, label_classify_dann_2, label_classify_ewc_2])\n",
        "\n",
        "    ################################################\n",
        "    with gr.Tab(\"Case 3:{ NOK: Non DANN, DANN}, {OK:EWC DANN}\"):\n",
        "        imgs_3 = gr.State()\n",
        "\n",
        "        with gr.Row():\n",
        "            with gr.Column(scale=1):\n",
        "                gallery_3 = gr.Gallery(allow_preview=True, rows=2, columns=2)\n",
        "\n",
        "            with gr.Column(scale=1):\n",
        "                with gr.Row():\n",
        "                    cropped_image_display_3 = gr.Image(label=\"Cropped Image\", type=\"pil\", height=224, width=224)\n",
        "                with gr.Row():\n",
        "                    button_classify_C3 = gr.Button(\"Click Button to Predict Emotion\", visible=True, size='sm')\n",
        "                with gr.Row():\n",
        "                    selected_3 = gr.Textbox(label=\"Ground Truth Emotion\", visible=False)\n",
        "                    txtbox_race_3 = gr.Textbox(label=\"Race\", visible=False)\n",
        "\n",
        "            with gr.Column(scale=1):\n",
        "                with gr.Row():\n",
        "                    label_classify_non_dann_3 = gr.Label(label=\"NON DANN Predicted label\", num_top_classes=2, visible=True)\n",
        "                with gr.Row():\n",
        "                    label_classify_dann_3 = gr.Label(label=\"DANN Predicted label\", num_top_classes=2, visible=True)\n",
        "                with gr.Row():\n",
        "                    label_classify_ewc_3 = gr.Label(label=\"EWC DANN Predicted label\", num_top_classes=2, visible=True)\n",
        "\n",
        "        cropped_images_3, list_emotions_3, big_images_3, list_races_3 = get_images_condition_3()\n",
        "\n",
        "        def get_big_images_3():\n",
        "            return big_images_3, big_images_3\n",
        "\n",
        "        def get_select_index_3(evt: gr.SelectData):\n",
        "            # return evt.index, cropped_images[evt.index]\n",
        "            return list_emotions_3[evt.index], gr.update(visible=True), cropped_images_3[evt.index], list_races_3[evt.index], gr.update(visible=True)\n",
        "\n",
        "        refresh_case3 = gr.Checkbox(visible=False)\n",
        "\n",
        "        def refresh_gallery_3():\n",
        "            return get_big_images_3()\n",
        "\n",
        "        refresh_case3.change(refresh_gallery_3, None, [gallery_3, imgs_3])\n",
        "        gallery_3.select(get_select_index_3, None, [selected_3, selected_3, cropped_image_display_3, txtbox_race_3, txtbox_race_3])\n",
        "        button_classify_C3.click(fn=classify_image_all_models, inputs=[cropped_image_display_3],\n",
        "                                 outputs=[label_classify_non_dann_3, label_classify_dann_3, label_classify_ewc_3])\n",
        "\n",
        "    ################################################\n",
        "    with gr.Tab(\"Case 4:{ NOK: Non DANN, EWC DANN}, {OK:DANN}\"):\n",
        "        imgs_4 = gr.State()\n",
        "\n",
        "        with gr.Row():\n",
        "            with gr.Column(scale=1):\n",
        "                gallery_4 = gr.Gallery(allow_preview=True, rows=2, columns=2)\n",
        "\n",
        "            with gr.Column(scale=1):\n",
        "                with gr.Row():\n",
        "                    cropped_image_display_4 = gr.Image(label=\"Cropped Image\", type=\"pil\", height=224, width=224)\n",
        "                with gr.Row():\n",
        "                    button_classify_C4 = gr.Button(\"Click Button to Predict Emotion\", visible=True, size='sm')\n",
        "                with gr.Row():\n",
        "                    selected_4 = gr.Textbox(label=\"Ground Truth Emotion\", visible=False)\n",
        "                    txtbox_race_4 = gr.Textbox(label=\"Race\", visible=False)\n",
        "\n",
        "            with gr.Column(scale=1):\n",
        "                with gr.Row():\n",
        "                    label_classify_non_dann_4 = gr.Label(label=\"NON DANN Predicted label\", num_top_classes=2, visible=True)\n",
        "                with gr.Row():\n",
        "                    label_classify_dann_4 = gr.Label(label=\"DANN Predicted label\", num_top_classes=2, visible=True)\n",
        "                with gr.Row():\n",
        "                    label_classify_ewc_4 = gr.Label(label=\"EWC DANN Predicted label\", num_top_classes=2, visible=True)\n",
        "\n",
        "        cropped_images_4, list_emotions_4, big_images_4, list_races_4 = get_images_condition_4()\n",
        "\n",
        "        def get_big_images_4():\n",
        "            return big_images_4, big_images_4\n",
        "\n",
        "        def get_select_index_4(evt: gr.SelectData):\n",
        "            return list_emotions_4[evt.index], gr.update(visible=True), cropped_images_4[evt.index], list_races_4[evt.index], gr.update(visible=True)\n",
        "\n",
        "        refresh_case4 = gr.Checkbox(visible=False)\n",
        "\n",
        "        def refresh_gallery_4():\n",
        "            return get_big_images_4()\n",
        "\n",
        "        refresh_case4.change(refresh_gallery_4, None, [gallery_4, imgs_4])\n",
        "        gallery_4.select(get_select_index_4, None, [selected_4, selected_4, cropped_image_display_4, txtbox_race_4, txtbox_race_4])\n",
        "        button_classify_C4.click(fn=classify_image_all_models, inputs=[cropped_image_display_4],\n",
        "                                 outputs=[label_classify_non_dann_4, label_classify_dann_4, label_classify_ewc_4])\n",
        "\n",
        "    ################################################\n",
        "    with gr.Tab(\"Introduction\"):\n",
        "        gr.Markdown(\"## Domain Adaptation in Deep Networks - Demonstration\")\n",
        "        gr.Markdown(\n",
        "            '''\n",
        "            Source - SFEW2.0\n",
        "            -------\n",
        "            - SFEW2.0 Details\n",
        "\n",
        "            '''\n",
        "        )\n",
        "        gr.Markdown(\n",
        "            '''\n",
        "            Target - ExpW\n",
        "            -------\n",
        "            - ExpW Details\n",
        "\n",
        "            '''\n",
        "        )\n",
        "\n",
        "\n",
        "    def refresh_tab1(): return True\n",
        "    def refresh_tab2(): return True\n",
        "    def refresh_tab3(): return True\n",
        "    def refresh_tab4(): return True\n",
        "\n",
        "    with gr.Row(visible=True):\n",
        "        refresh_tab_1 = gr.Button(value=\"refresh Case 1\", visible=True)\n",
        "        refresh_tab_2 = gr.Button(value=\"refresh Case 2\", visible=True)\n",
        "        refresh_tab_3 = gr.Button(value=\"refresh Case 3\", visible=True)\n",
        "        refresh_tab_4 = gr.Button(value=\"refresh Case 4\", visible=True)\n",
        "\n",
        "\n",
        "    refresh_tab_1.click(refresh_tab1, [], [refresh_case1])\n",
        "    refresh_tab_2.click(refresh_tab2, [], [refresh_case2])\n",
        "    refresh_tab_3.click(refresh_tab3, [], [refresh_case3])\n",
        "    refresh_tab_4.click(refresh_tab3, [], [refresh_case4])\n",
        "\n",
        "\n",
        "\n",
        "\n",
        "\n",
        "demo.launch(debug=True)\n",
        "\n"
      ],
      "metadata": {
        "id": "034Qdg8TJmtc"
      },
      "execution_count": null,
      "outputs": []
    },
    {
      "cell_type": "markdown",
      "source": [
        "### All Together - working for 3 tabs"
      ],
      "metadata": {
        "id": "jLC1vXUFJU12"
      }
    },
    {
      "cell_type": "code",
      "source": [
        "with gr.Blocks() as demo:\n",
        "    ################################################\n",
        "    with gr.Tab(\"Case 1: {OK : Non DANN, DANN, EWC DANN}\"):\n",
        "        imgs = gr.State()\n",
        "\n",
        "        # gallery = gr.Gallery(allow_preview=False)\n",
        "        with gr.Row():\n",
        "            with gr.Column(scale=1):\n",
        "                gallery = gr.Gallery(allow_preview=True, rows=2, columns=2)\n",
        "\n",
        "            with gr.Column(scale=1):\n",
        "                with gr.Row():\n",
        "                    cropped_image_display = gr.Image(label=\"Cropped Image\", type=\"pil\", height=224, width=224)\n",
        "                with gr.Row():\n",
        "                    button_classify_C1 = gr.Button(\"Click Button to Predict Emotion\", visible=True, size='sm')\n",
        "                with gr.Row():\n",
        "                    # selected = gr.Number(show_label=False)\n",
        "                    selected = gr.Textbox(label=\"Ground Truth Emotion\", visible=False)\n",
        "                    txtbox_race = gr.Textbox(label=\"Race\", visible=False)\n",
        "\n",
        "            with gr.Column(scale=1):\n",
        "                with gr.Row():\n",
        "                    label_classify_non_dann = gr.Label(label=\"NON DANN Predicted label\", num_top_classes=2, visible=True)\n",
        "                with gr.Row():\n",
        "                    label_classify_dann = gr.Label(label=\"DANN Predicted label\", num_top_classes=2, visible=True)\n",
        "                with gr.Row():\n",
        "                    label_classify_ewc = gr.Label(label=\"EWC DANN Predicted label\", num_top_classes=2, visible=True)\n",
        "\n",
        "        cropped_images, list_emotions, big_images, list_races = get_images()\n",
        "\n",
        "        def get_big_images():\n",
        "            return big_images, big_images\n",
        "\n",
        "        def get_select_index(evt: gr.SelectData):\n",
        "            # return evt.index, cropped_images[evt.index]\n",
        "            return list_emotions[evt.index], gr.update(visible=True), cropped_images[evt.index], list_races[evt.index], gr.update(visible=True)\n",
        "\n",
        "        refresh_case1 = gr.Checkbox(visible=False)\n",
        "\n",
        "        def refresh_gallery():\n",
        "            return get_big_images()\n",
        "\n",
        "        refresh_case1.change(refresh_gallery, None, [gallery, imgs])\n",
        "        gallery.select(get_select_index, None, [selected, selected, cropped_image_display, txtbox_race, txtbox_race])\n",
        "        button_classify_C1.click(fn=classify_image_all_models, inputs=[cropped_image_display],\n",
        "                                 outputs=[label_classify_non_dann, label_classify_dann, label_classify_ewc])\n",
        "\n",
        "    ################################################\n",
        "    with gr.Tab(\"Case 2:{ NOK Non DANN}, {OK : DANN, EWC DANN}\"):\n",
        "        imgs_2 = gr.State()\n",
        "\n",
        "        with gr.Row():\n",
        "            with gr.Column(scale=1):\n",
        "                gallery_2 = gr.Gallery(allow_preview=True, rows=2, columns=2)\n",
        "\n",
        "            with gr.Column(scale=1):\n",
        "                with gr.Row():\n",
        "                    cropped_image_display_2 = gr.Image(label=\"Cropped Image\", type=\"pil\", height=224, width=224)\n",
        "                with gr.Row():\n",
        "                    button_classify_C2 = gr.Button(\"Click Button to Predict Emotion\", visible=True, size='sm')\n",
        "                with gr.Row():\n",
        "                    selected_2 = gr.Textbox(label=\"Ground Truth Emotion\", visible=False)\n",
        "                    txtbox_race_2 = gr.Textbox(label=\"Race\", visible=False)\n",
        "\n",
        "            with gr.Column(scale=1):\n",
        "                with gr.Row():\n",
        "                    label_classify_non_dann_2 = gr.Label(label=\"NON DANN Predicted label\", num_top_classes=2, visible=True)\n",
        "                with gr.Row():\n",
        "                    label_classify_dann_2 = gr.Label(label=\"DANN Predicted label\", num_top_classes=2, visible=True)\n",
        "                with gr.Row():\n",
        "                    label_classify_ewc_2 = gr.Label(label=\"EWC DANN Predicted label\", num_top_classes=2, visible=True)\n",
        "\n",
        "        cropped_images_2, list_emotions_2, big_images_2, list_races_2 = get_images_condition_2()\n",
        "\n",
        "        def get_big_images_2():\n",
        "            return big_images_2, big_images_2\n",
        "\n",
        "        def get_select_index_2(evt: gr.SelectData):\n",
        "            # return evt.index, cropped_images[evt.index]\n",
        "            return list_emotions_2[evt.index], gr.update(visible=True), cropped_images_2[evt.index], list_races_2[evt.index], gr.update(visible=True)\n",
        "\n",
        "        refresh_case2 = gr.Checkbox(visible=False)\n",
        "\n",
        "        def refresh_gallery_2():\n",
        "            return get_big_images_2()\n",
        "\n",
        "        refresh_case2.change(refresh_gallery_2, None, [gallery_2, imgs_2])\n",
        "        gallery_2.select(get_select_index_2, None, [selected_2, selected_2, cropped_image_display_2, txtbox_race_2, txtbox_race_2])\n",
        "        button_classify_C2.click(fn=classify_image_all_models, inputs=[cropped_image_display_2],\n",
        "                                 outputs=[label_classify_non_dann_2, label_classify_dann_2, label_classify_ewc_2])\n",
        "\n",
        "    ################################################\n",
        "    with gr.Tab(\"Case 3:{ NOK: Non DANN, DANN}, {OK:EWC DANN}\"):\n",
        "        imgs_3 = gr.State()\n",
        "\n",
        "        with gr.Row():\n",
        "            with gr.Column(scale=1):\n",
        "                gallery_3 = gr.Gallery(allow_preview=True, rows=2, columns=2)\n",
        "\n",
        "            with gr.Column(scale=1):\n",
        "                with gr.Row():\n",
        "                    cropped_image_display_3 = gr.Image(label=\"Cropped Image\", type=\"pil\", height=224, width=224)\n",
        "                with gr.Row():\n",
        "                    button_classify_C3 = gr.Button(\"Click Button to Predict Emotion\", visible=True, size='sm')\n",
        "                with gr.Row():\n",
        "                    selected_3 = gr.Textbox(label=\"Ground Truth Emotion\", visible=False)\n",
        "                    txtbox_race_3 = gr.Textbox(label=\"Race\", visible=False)\n",
        "\n",
        "            with gr.Column(scale=1):\n",
        "                with gr.Row():\n",
        "                    label_classify_non_dann_3 = gr.Label(label=\"NON DANN Predicted label\", num_top_classes=2, visible=True)\n",
        "                with gr.Row():\n",
        "                    label_classify_dann_3 = gr.Label(label=\"DANN Predicted label\", num_top_classes=2, visible=True)\n",
        "                with gr.Row():\n",
        "                    label_classify_ewc_3 = gr.Label(label=\"EWC DANN Predicted label\", num_top_classes=2, visible=True)\n",
        "\n",
        "        cropped_images_3, list_emotions_3, big_images_3, list_races_3 = get_images_condition_3()\n",
        "\n",
        "        def get_big_images_3():\n",
        "            return big_images_3, big_images_3\n",
        "\n",
        "        def get_select_index_3(evt: gr.SelectData):\n",
        "            # return evt.index, cropped_images[evt.index]\n",
        "            return list_emotions_3[evt.index], gr.update(visible=True), cropped_images_3[evt.index], list_races_3[evt.index], gr.update(visible=True)\n",
        "\n",
        "        refresh_case3 = gr.Checkbox(visible=False)\n",
        "\n",
        "        def refresh_gallery_3():\n",
        "            return get_big_images_3()\n",
        "\n",
        "        refresh_case3.change(refresh_gallery_3, None, [gallery_3, imgs_3])\n",
        "        gallery_3.select(get_select_index_3, None, [selected_3, selected_3, cropped_image_display_3, txtbox_race_3, txtbox_race_3])\n",
        "        button_classify_C3.click(fn=classify_image_all_models, inputs=[cropped_image_display_3],\n",
        "                                 outputs=[label_classify_non_dann_3, label_classify_dann_3, label_classify_ewc_3])\n",
        "\n",
        "    ################################################\n",
        "    with gr.Tab(\"Introduction\"):\n",
        "        gr.Markdown(\"## Domain Adaptation in Deep Networks - Demonstration\")\n",
        "        gr.Markdown(\n",
        "            '''\n",
        "            Source - SFEW2.0\n",
        "            -------\n",
        "            - SFEW2.0 Details\n",
        "\n",
        "            '''\n",
        "        )\n",
        "        gr.Markdown(\n",
        "            '''\n",
        "            Target - ExpW\n",
        "            -------\n",
        "            - ExpW Details\n",
        "\n",
        "            '''\n",
        "        )\n",
        "\n",
        "    def refresh_tab1():\n",
        "        return True\n",
        "\n",
        "    def refresh_tab2():\n",
        "        return True\n",
        "\n",
        "    def refresh_tab3():\n",
        "        return True\n",
        "\n",
        "    with gr.Row(visible=True):\n",
        "        refresh_tab_1 = gr.Button(value=\"refresh Case 1\", visible=True)\n",
        "        refresh_tab_2 = gr.Button(value=\"refresh Case 2\", visible=True)\n",
        "        refresh_tab_3 = gr.Button(value=\"refresh Case 3\", visible=True)\n",
        "\n",
        "    refresh_tab_1.click(refresh_tab1, [], [refresh_case1])\n",
        "    refresh_tab_2.click(refresh_tab2, [], [refresh_case2])\n",
        "    refresh_tab_3.click(refresh_tab3, [], [refresh_case3])\n",
        "\n",
        "\n",
        "demo.launch(debug=True)\n",
        "\n"
      ],
      "metadata": {
        "id": "NX6_hjx0JUcn"
      },
      "execution_count": null,
      "outputs": []
    },
    {
      "cell_type": "markdown",
      "source": [
        "### All Together - Old - working ok for 1 tab"
      ],
      "metadata": {
        "id": "nNdrnoGMtMNL"
      }
    },
    {
      "cell_type": "code",
      "source": [
        "with gr.Blocks() as demo:\n",
        "    ################################################\n",
        "    with gr.Tab(\"Case 1: Classification OK across Non DANN, DANN, EWC DANN\"):\n",
        "        imgs = gr.State()\n",
        "\n",
        "        # gallery = gr.Gallery(allow_preview=False)\n",
        "        with gr.Row():\n",
        "            with gr.Column(scale=1):\n",
        "                gallery = gr.Gallery(allow_preview = True, rows = 2, columns = 2)\n",
        "\n",
        "            with gr.Column(scale=1):\n",
        "                with gr.Row():\n",
        "                    cropped_image_display = gr.Image(label=\"Cropped Image\", type = \"pil\", height = 224, width = 224)\n",
        "                with gr.Row():\n",
        "                    button_classify_C1 = gr.Button(\"Click Button to Predict Emotion\", visible = True, size ='sm')\n",
        "                with gr.Row():\n",
        "                    # selected = gr.Number(show_label=False)\n",
        "                    selected = gr.Textbox(label = \"Ground Truth Emotion\", visible=False)\n",
        "                    txtbox_race = gr.Textbox(label = \"Race\", visible=False)\n",
        "\n",
        "\n",
        "            with gr.Column(scale=1):\n",
        "                    with gr.Row():\n",
        "                        label_classify_non_dann = gr.Label(label = \"NON DANN Predicted label\", num_top_classes=2, visible = True)\n",
        "                    with gr.Row():\n",
        "                        label_classify_dann = gr.Label(label = \"DANN Predicted label\", num_top_classes=2, visible = True)\n",
        "                    with gr.Row():\n",
        "                        label_classify_ewc = gr.Label(label = \"EWC DANN Predicted label\", num_top_classes=2, visible = True)\n",
        "\n",
        "\n",
        "        cropped_images, list_emotions, big_images, list_races = get_images()\n",
        "\n",
        "\n",
        "        def get_big_images():\n",
        "            return big_images, big_images\n",
        "\n",
        "        demo.load(get_big_images, None, [gallery, imgs])\n",
        "\n",
        "        def get_select_index(evt: gr.SelectData):\n",
        "            # return evt.index,cropped_images[evt.index]\n",
        "            return list_emotions[evt.index],gr.update(visible=True),cropped_images[evt.index],list_races[evt.index],gr.update(visible=True)\n",
        "\n",
        "\n",
        "        gallery.select(get_select_index, None, [selected,selected,cropped_image_display,txtbox_race,txtbox_race])\n",
        "\n",
        "        button_classify_C1.click(fn=classify_image_all_models,\n",
        "                            inputs=[cropped_image_display],\n",
        "                            outputs=[label_classify_non_dann,label_classify_dann,label_classify_ewc])\n",
        "\n",
        "\n",
        "    ################################################\n",
        "    with gr.Tab(\"Case 2:{ NOK Non DANN}, {OK : DANN, EWC DANN}\"):\n",
        "        imgs_2 = gr.State()\n",
        "\n",
        "        with gr.Row():\n",
        "            with gr.Column(scale=1):\n",
        "                gallery_2 = gr.Gallery(allow_preview = True, rows = 2, columns = 2)\n",
        "\n",
        "            with gr.Column(scale=1):\n",
        "                with gr.Row():\n",
        "                    cropped_image_display_2 = gr.Image(label=\"Cropped Image\", type = \"pil\", height = 224, width = 224)\n",
        "                with gr.Row():\n",
        "                    button_classify_C2 = gr.Button(\"Click Button to Predict Emotion\", visible = True, size ='sm')\n",
        "                with gr.Row():\n",
        "                    selected_2 = gr.Textbox(label = \"Ground Truth Emotion\", visible=False)\n",
        "                    txtbox_race_2 = gr.Textbox(label = \"Race\", visible=False)\n",
        "\n",
        "\n",
        "            with gr.Column(scale=1):\n",
        "                    with gr.Row():\n",
        "                        label_classify_non_dann = gr.Label(label = \"NON DANN Predicted label\", num_top_classes=2, visible = True)\n",
        "                    with gr.Row():\n",
        "                        label_classify_dann = gr.Label(label = \"DANN Predicted label\", num_top_classes=2, visible = True)\n",
        "                    with gr.Row():\n",
        "                        label_classify_ewc = gr.Label(label = \"EWC DANN Predicted label\", num_top_classes=2, visible = True)\n",
        "\n",
        "\n",
        "        cropped_images, list_emotions, big_images, list_races = get_images_condition_2()\n",
        "\n",
        "\n",
        "        def get_big_images_2():\n",
        "            return big_images, big_images\n",
        "\n",
        "        demo.load(get_big_images_2, None, [gallery_2, imgs_2])\n",
        "\n",
        "        def get_select_index(evt: gr.SelectData):\n",
        "            # return evt.index,cropped_images[evt.index]\n",
        "            return list_emotions[evt.index],gr.update(visible=True),cropped_images[evt.index],list_races[evt.index],gr.update(visible=True)\n",
        "\n",
        "\n",
        "        gallery.select(get_select_index, None, [selected_2,selected_2,cropped_image_display_2,txtbox_race_2,txtbox_race_2])\n",
        "\n",
        "        button_classify_C2.click(fn=classify_image_all_models,\n",
        "                            inputs=[cropped_image_display_2],\n",
        "                            outputs=[label_classify_non_dann,label_classify_dann,label_classify_ewc])\n",
        "\n",
        "    ################################################\n",
        "    with gr.Tab(\"Introduction\"):\n",
        "        gr.Markdown(\"## Domain Adaptation in Deep Networks - Demonstration\")\n",
        "        gr.Markdown(\n",
        "            '''\n",
        "            Source - SFEW2.0\n",
        "            -------\n",
        "            - SFEW2.0 Details\n",
        "\n",
        "            '''\n",
        "            )\n",
        "        gr.Markdown(\n",
        "            '''\n",
        "            Target - ExpW\n",
        "            -------\n",
        "            - ExpW Details\n",
        "\n",
        "            '''\n",
        "            )\n",
        "\n",
        "\n",
        "\n",
        "    ################################################\n",
        "\n",
        "demo.launch()\n"
      ],
      "metadata": {
        "id": "86vNxVTDuFfk"
      },
      "execution_count": null,
      "outputs": []
    },
    {
      "cell_type": "markdown",
      "source": [
        "### current working"
      ],
      "metadata": {
        "id": "KawS-BPBtDX4"
      }
    },
    {
      "cell_type": "code",
      "source": [
        "# with gr.Blocks() as demo:\n",
        "#     imgs = gr.State()\n",
        "\n",
        "#     # gallery = gr.Gallery(allow_preview=False)\n",
        "#     with gr.Row():\n",
        "#         with gr.Column(scale=1):\n",
        "#             gallery = gr.Gallery(allow_preview = False, rows = 2, columns = 2)\n",
        "#         with gr.Column(scale=1):\n",
        "#             with gr.Row():\n",
        "#                 cropped_image_display = gr.Image(label=\"Cropped Image\", type = \"pil\", height = 224, width = 224)\n",
        "#             with gr.Row():\n",
        "#                 button_classify_C1 = gr.Button(\"Submit to Classify Image\", visible = True, size ='sm')\n",
        "#             # with gr.Row():\n",
        "#             #     selected = gr.Number(show_label=False)\n",
        "#             with gr.Row():\n",
        "#                 selected = gr.Textbox(label = \"Ground Truth Emotion\", visible=False)\n",
        "\n",
        "\n",
        "#         with gr.Column(scale=1):\n",
        "#                 with gr.Row():\n",
        "#                     label_classify_non_dann = gr.Label(label = \"NON DANN Predicted label\", num_top_classes=2, visible = True)\n",
        "#                 with gr.Row():\n",
        "#                     label_classify_dann = gr.Label(label = \"DANN Predicted label\", num_top_classes=2, visible = True)\n",
        "#                 with gr.Row():\n",
        "#                     label_classify_ewc = gr.Label(label = \"EWC DANN Predicted label\", num_top_classes=2, visible = True)\n",
        "\n",
        "\n",
        "#     cropped_images, list_emotions, big_images, list_races = get_images()\n",
        "\n",
        "#     def get_big_images():\n",
        "#         return big_images, big_images\n",
        "\n",
        "#     demo.load(get_big_images, None, [gallery, imgs])\n",
        "\n",
        "\n",
        "\n",
        "\n",
        "#     def get_select_index(evt: gr.SelectData):\n",
        "#         return evt.index,cropped_images[evt.index]\n",
        "\n",
        "#     gallery.select(get_select_index, None, [selected,cropped_image_display])\n",
        "#     # cropped_image_display.select(classify_image_all_models, None, [label_classify_non_dann,label_classify_dann,label_classify_ewc])\n",
        "#     button_classify_C1.click(fn=classify_image_all_models,\n",
        "#                           inputs=[cropped_image_display],\n",
        "#                           outputs=[label_classify_non_dann,label_classify_dann,label_classify_ewc])\n",
        "\n",
        "\n",
        "# demo.launch(debug=True)\n"
      ],
      "metadata": {
        "id": "WbiGV9abaHaQ"
      },
      "execution_count": null,
      "outputs": []
    }
  ],
  "metadata": {
    "colab": {
      "provenance": [],
      "toc_visible": true,
      "authorship_tag": "ABX9TyMiCD2lJMXwfvVAY7CJ/EdS",
      "include_colab_link": true
    },
    "kernelspec": {
      "display_name": "Python 3",
      "name": "python3"
    },
    "language_info": {
      "name": "python"
    }
  },
  "nbformat": 4,
  "nbformat_minor": 0
}